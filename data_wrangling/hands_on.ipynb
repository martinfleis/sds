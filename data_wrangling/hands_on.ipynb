{
  "cells": [
    {
      "cell_type": "markdown",
      "metadata": {},
      "source": [
        "# Data wrangling\n",
        "\n",
        "You know the basics. What are Jupyter notebooks, how do they work, and\n",
        "how do you run Python in them. It is time to start using them for data\n",
        "science (no, that simple math you did the last time doesn’t count as\n",
        "data science).\n",
        "\n",
        "You are about to enter the PyData ecosystem. It means that you will\n",
        "start learning how to work with Python from the middle. This course does\n",
        "not explicitly cover the fundamentals of programming. It is expected\n",
        "that those parts you need you’ll be able to pick as you go through the\n",
        "specialised data science stack. If you’re stuck, confused or need\n",
        "further explanation, use Google (or your favourite search engine), ask\n",
        "AI to explain the code or ask in online chat or during the class. Not\n",
        "everything will be told during the course (by design), and the internet\n",
        "is a friend of every programmer, so let’s figure out how to use it\n",
        "efficiently from the beginning.\n",
        "\n",
        "Let’s dig in!\n",
        "\n",
        "## Munging and wrangling\n",
        "\n",
        "Real-world datasets are messy. There is no way around it: datasets have\n",
        "“holes” (missing data), the amount of formats in which data can be\n",
        "stored is endless, and the best structure to share data is not always\n",
        "the optimum to analyse them, hence the need to\n",
        "[munge](http://dictionary.reference.com/browse/munge)[1] them. As has\n",
        "been correctly pointed out in many outlets, much of the time spent in\n",
        "what is called Data Science is related not only to sophisticated\n",
        "modelling and insight but has to do with much more basic and less exotic\n",
        "tasks such as obtaining data, processing, and turning them into a shape\n",
        "that makes analysis possible, and exploring it to get to know their\n",
        "basic properties.\n",
        "\n",
        "Surprisingly, very little has been published on patterns, techniques,\n",
        "and best practices for quick and efficient data cleaning, manipulation,\n",
        "and transformation because of how labour-intensive and relevant this\n",
        "aspect is. In this session, you will use a few real-world datasets and\n",
        "learn how to process them into Python so they can be transformed and\n",
        "manipulated, if necessary, and analysed. For this, you will introduce\n",
        "some of the bread and butter of data analysis and scientific computing\n",
        "in Python. These are fundamental tools that are constantly used in\n",
        "almost any task relating to data analysis.\n",
        "\n",
        "This notebook covers the basics and the content that is expected to be\n",
        "learnt by every student. You use a prepared dataset that saves us much\n",
        "of the more intricate processing that goes beyond the introductory level\n",
        "the session is aimed at. If you are interested in how it was done, there\n",
        "is a\n",
        "[notebook](https://github.com/martinfleis/sds/blob/main/data/chicago_influenza_1918/preprocessing.ipynb).\n",
        "\n",
        "This notebook discusses several patterns to clean and structure data\n",
        "properly, including tidying, subsetting, and aggregating. You finish\n",
        "with some basic visualisation. An additional extension presents more\n",
        "advanced tricks to manipulate tabular data.\n",
        "\n",
        "## Dataset\n",
        "\n",
        "You will be exploring demographic characteristics of Chicago in 1918\n",
        "linked to the influenza mortality during the pandemic that happened back\n",
        "then, coming from the research paper by @grantz2016disparities. The data\n",
        "are aggregated to census tracts and contain information on unemployment,\n",
        "home ownership, age structure and influenza mortality from a period of 8\n",
        "weeks.\n",
        "\n",
        "The main tool you use is the `pandas` package. As with the `math` you\n",
        "used [before](../introduction/hands_on.qmd), you must import it first.\n",
        "\n",
        "[1] Data munging and data wrangling are used interchangeably. Pick the\n",
        "one you like."
      ],
      "id": "663376be-490b-4987-bd67-34d2dd8cdada"
    },
    {
      "cell_type": "code",
      "execution_count": 1,
      "metadata": {},
      "outputs": [],
      "source": [
        "import pandas as pd"
      ],
      "id": "0a6e7ce7"
    },
    {
      "cell_type": "markdown",
      "metadata": {},
      "source": [
        "The data is stored in a CSV file. To make things easier, you can read\n",
        "data from a file posted online so, for now, you do not need to download\n",
        "any dataset:"
      ],
      "id": "5ed7a75b-5af5-491b-bc0b-3fc2d4b4fd9d"
    },
    {
      "cell_type": "code",
      "execution_count": 2,
      "metadata": {},
      "outputs": [],
      "source": [
        "chicago_1918 = pd.read_csv(\n",
        "    \"https://martinfleischmann.net/sds/data_wrangling/data/chicago_influenza_1918.csv\",\n",
        "    index_col=\"geography_code\",\n",
        ")"
      ],
      "id": "9f3b4ef6"
    },
    {
      "cell_type": "markdown",
      "metadata": {},
      "source": [
        "> **Tip**\n",
        ">\n",
        "> You are using `read_csv` because the file you want to read is in CSV\n",
        "> format. However, `pandas` allows for many more formats to be read and\n",
        "> write. A full list of formats supported may be found in [the\n",
        "> documentation](https://pandas.pydata.org/docs/user_guide/io.html).\n",
        "\n",
        "> **Alternative**\n",
        ">\n",
        "> Instead of reading the file directly off the web, it is possible to\n",
        "> download it manually, store it on your computer, and read it locally.\n",
        "> To do that, you can follow these steps:\n",
        ">\n",
        "> 1.  Download the file by right-clicking on [this\n",
        ">     link](https://martinfleischmann.net/sds/data_wrangling/data/chicago_influenza_1918.csv)\n",
        ">     and saving the file\n",
        "> 2.  Place the file in the same folder as the notebook where you intend\n",
        ">     to read it\n",
        "> 3.  Replace the code in the cell above with:\n",
        ">\n",
        "> ``` python\n",
        "> chicago_1918 = pd.read_csv(\n",
        ">     \"chicago_influenza_1918.csv\",\n",
        ">     index_col=\"geography_code\",\n",
        "> )\n",
        "> ```\n",
        "\n",
        "## Pandas 101\n",
        "\n",
        "Now, you are ready to start playing and interrogating the dataset! What\n",
        "you have at your fingertips is a table summarising, for each of the\n",
        "census tracts in Chicago more than a century ago, how many people lived\n",
        "in each by age, accompanied by some other socioeconomic data and\n",
        "influenza mortality. These tables are called `DataFrame` objects, and\n",
        "they have a lot of functionality built-in to explore and manipulate the\n",
        "data they contain. Let’s explore a few of those cool tricks!\n",
        "\n",
        "### Data Structures\n",
        "\n",
        "The first aspect worth spending a bit of time on is the structure of a\n",
        "`DataFrame`. You can print it by simply typing its name:"
      ],
      "id": "d859c411-160d-4a24-8b7a-40fd22bb4233"
    },
    {
      "cell_type": "code",
      "execution_count": 3,
      "metadata": {},
      "outputs": [
        {
          "output_type": "display_data",
          "metadata": {},
          "data": {
            "text/html": [
              "\n",
              "<p>496 rows × 12 columns</p>\n",
              "</div>"
            ]
          }
        }
      ],
      "source": [
        "chicago_1918"
      ],
      "id": "a4e8820f"
    },
    {
      "cell_type": "markdown",
      "metadata": {},
      "source": [
        "Note the printing is cut to keep a nice and compact view but enough to\n",
        "see its structure. Since they represent a table of data, `DataFrame`\n",
        "objects have two dimensions: rows and columns. Each of these is\n",
        "automatically assigned a name in what you will call its *index*. When\n",
        "printing, the index of each dimension is rendered in bold, as opposed to\n",
        "the standard rendering for the content. The example above shows how the\n",
        "column index is automatically picked up from the `.csv` file’s column\n",
        "names. For rows, we have specified when reading the file you wanted the\n",
        "column `geography_code`, so that is used. If you hadn’t set any,\n",
        "`pandas` would automatically generate a sequence starting in `0` and\n",
        "going all the way to the number of rows minus one. This is the standard\n",
        "structure of a `DataFrame` object, so you will come to it over and over.\n",
        "Importantly, even when you move to spatial data, your datasets will have\n",
        "a similar structure.\n",
        "\n",
        "One final feature that is worth mentioning about these tables is that\n",
        "they can hold columns with different types of data. In this example, you\n",
        "have counts (or `int` for integer types) and ratios (or ‘float’ for\n",
        "floating point numbers - a number with decimals) for each column. But it\n",
        "is useful to keep in mind that you can combine this with columns that\n",
        "hold other types of data such as categories, text (`str`, for string),\n",
        "dates or, as you will see later in the course, geographic features.\n",
        "\n",
        "To extract a single column from this `DataFrame`, specify its name in\n",
        "the square brackets (`[]`). Note that the name, in this case, is a\n",
        "`string`. A piece of text. As such, it needs to be within single (`'`)\n",
        "or double quotes (`\"`). The resulting data structure is no longer a\n",
        "`DataFrame`, but you have a `Series` because you deal with a single\n",
        "column."
      ],
      "id": "8d564de4-6902-4a80-af99-32294fa93af3"
    },
    {
      "cell_type": "code",
      "execution_count": 4,
      "metadata": {},
      "outputs": [
        {
          "output_type": "display_data",
          "metadata": {},
          "data": {
            "text/plain": [
              "geography_code\n",
              "G17003100001     9\n",
              "G17003100002     6\n",
              "G17003100003     8\n",
              "G17003100004     2\n",
              "G17003100005     7\n",
              "                ..\n",
              "G17003100492    12\n",
              "G17003100493    40\n",
              "G17003100494    85\n",
              "G17003100495    15\n",
              "G17003100496    30\n",
              "Name: influenza, Length: 496, dtype: int64"
            ]
          }
        }
      ],
      "source": [
        "chicago_1918[\"influenza\"]"
      ],
      "id": "fd448597"
    },
    {
      "cell_type": "markdown",
      "metadata": {},
      "source": [
        "### Inspect\n",
        "\n",
        "Inspecting what it looks like. You can check the table’s top (or bottom)\n",
        "X lines by passing X to the method `head` (`tail`). For example, for the\n",
        "top/bottom five lines:"
      ],
      "id": "c198e0a1-a872-4247-af6e-b4d43e147e3e"
    },
    {
      "cell_type": "code",
      "execution_count": 5,
      "metadata": {},
      "outputs": [
        {
          "output_type": "display_data",
          "metadata": {},
          "data": {
            "text/html": [
              "\n",
              "</div>"
            ]
          }
        }
      ],
      "source": [
        "chicago_1918.head()"
      ],
      "id": "a1b24b3c"
    },
    {
      "cell_type": "code",
      "execution_count": 6,
      "metadata": {},
      "outputs": [
        {
          "output_type": "display_data",
          "metadata": {},
          "data": {
            "text/html": [
              "\n",
              "</div>"
            ]
          }
        }
      ],
      "source": [
        "chicago_1918.tail()"
      ],
      "id": "d83f61d1"
    },
    {
      "cell_type": "markdown",
      "metadata": {},
      "source": [
        "Or get an overview of the table:"
      ],
      "id": "d2be289f-9db5-4281-8eea-6deddf19fa7d"
    },
    {
      "cell_type": "code",
      "execution_count": 7,
      "metadata": {},
      "outputs": [
        {
          "output_type": "stream",
          "name": "stdout",
          "text": [
            "<class 'pandas.core.frame.DataFrame'>\n",
            "Index: 496 entries, G17003100001 to G17003100496\n",
            "Data columns (total 12 columns):\n",
            " #   Column          Non-Null Count  Dtype  \n",
            "---  ------          --------------  -----  \n",
            " 0   gross_acres     496 non-null    float64\n",
            " 1   illit           496 non-null    int64  \n",
            " 2   unemployed_pct  496 non-null    float64\n",
            " 3   ho_pct          496 non-null    float64\n",
            " 4   agecat1         496 non-null    int64  \n",
            " 5   agecat2         496 non-null    int64  \n",
            " 6   agecat3         496 non-null    int64  \n",
            " 7   agecat4         496 non-null    int64  \n",
            " 8   agecat5         496 non-null    int64  \n",
            " 9   agecat6         496 non-null    int64  \n",
            " 10  agecat7         496 non-null    int64  \n",
            " 11  influenza       496 non-null    int64  \n",
            "dtypes: float64(3), int64(9)\n",
            "memory usage: 66.5+ KB"
          ]
        }
      ],
      "source": [
        "chicago_1918.info()"
      ],
      "id": "363f5cd8"
    },
    {
      "cell_type": "markdown",
      "metadata": {},
      "source": [
        "### Summarise\n",
        "\n",
        "Or of the *values* of the table:"
      ],
      "id": "3813bac7-20f4-4529-968b-5c4862ea3f8c"
    },
    {
      "cell_type": "code",
      "execution_count": 8,
      "metadata": {},
      "outputs": [
        {
          "output_type": "display_data",
          "metadata": {},
          "data": {
            "text/html": [
              "\n",
              "</div>"
            ]
          }
        }
      ],
      "source": [
        "chicago_1918.describe()"
      ],
      "id": "ca50e65b"
    },
    {
      "cell_type": "markdown",
      "metadata": {},
      "source": [
        "Note how the output is also a `DataFrame` object, so you can do with it\n",
        "the same things you would with the original table (e.g. writing it to a\n",
        "file).\n",
        "\n",
        "In this case, the summary might be better presented if the table is\n",
        "“transposed”:"
      ],
      "id": "912788ea-2a85-4b9e-a23e-9c1c2a501923"
    },
    {
      "cell_type": "code",
      "execution_count": 9,
      "metadata": {},
      "outputs": [
        {
          "output_type": "display_data",
          "metadata": {},
          "data": {
            "text/html": [
              "\n",
              "</div>"
            ]
          }
        }
      ],
      "source": [
        "chicago_1918.describe().T"
      ],
      "id": "335abc8c"
    },
    {
      "cell_type": "markdown",
      "metadata": {},
      "source": [
        "Equally, common descriptive statistics are also available. To obtain\n",
        "minimum values for each column, you can use `.min()`."
      ],
      "id": "651a5550-88bc-49cb-9707-379243aabd8d"
    },
    {
      "cell_type": "code",
      "execution_count": 10,
      "metadata": {},
      "outputs": [
        {
          "output_type": "display_data",
          "metadata": {},
          "data": {
            "text/plain": [
              "gross_acres       6.9000\n",
              "illit             0.0000\n",
              "unemployed_pct    0.0578\n",
              "ho_pct            0.0000\n",
              "agecat1           0.0000\n",
              "agecat2           3.0000\n",
              "agecat3           1.0000\n",
              "agecat4           4.0000\n",
              "agecat5           0.0000\n",
              "agecat6           8.0000\n",
              "agecat7           6.0000\n",
              "influenza         0.0000\n",
              "dtype: float64"
            ]
          }
        }
      ],
      "source": [
        "chicago_1918.min()"
      ],
      "id": "97dd4d34"
    },
    {
      "cell_type": "markdown",
      "metadata": {},
      "source": [
        "Or to obtain a minimum for a single column only."
      ],
      "id": "0dace4bc-07e6-436c-b43d-432979c7535f"
    },
    {
      "cell_type": "code",
      "execution_count": 11,
      "metadata": {},
      "outputs": [
        {
          "output_type": "display_data",
          "metadata": {},
          "data": {
            "text/plain": [
              "0"
            ]
          }
        }
      ],
      "source": [
        "chicago_1918[\"influenza\"].min()"
      ],
      "id": "fc0643b4"
    },
    {
      "cell_type": "markdown",
      "metadata": {},
      "source": [
        "Note here how you have restricted the calculation of the minimum value\n",
        "to one column only by getting the `Series` and calling `.min()` on that.\n",
        "\n",
        "Similarly, you can restrict the calculations to a single row using\n",
        "`.loc[]` indexer:"
      ],
      "id": "385fe813-90ca-472d-9725-86a06297eb41"
    },
    {
      "cell_type": "code",
      "execution_count": 12,
      "metadata": {},
      "outputs": [
        {
          "output_type": "display_data",
          "metadata": {},
          "data": {
            "text/plain": [
              "2176.6"
            ]
          }
        }
      ],
      "source": [
        "chicago_1918.loc[\"G17003100492\"].max()"
      ],
      "id": "6cea1d5a"
    },
    {
      "cell_type": "markdown",
      "metadata": {},
      "source": [
        "### Create new columns\n",
        "\n",
        "You can generate new variables by applying operations to existing ones.\n",
        "For example, you can calculate the total population by area. Here are a\n",
        "couple of ways to do it:"
      ],
      "id": "a29da508-30d9-4ed3-af5d-d9992659b58f"
    },
    {
      "cell_type": "code",
      "execution_count": 13,
      "metadata": {},
      "outputs": [
        {
          "output_type": "display_data",
          "metadata": {},
          "data": {
            "text/plain": [
              "geography_code\n",
              "G17003100001    2819\n",
              "G17003100002    3265\n",
              "G17003100003    2256\n",
              "G17003100004    2623\n",
              "G17003100005    5528\n",
              "dtype: int64"
            ]
          }
        }
      ],
      "source": [
        "# This one is longer, hardcoded\n",
        "total_population = (\n",
        "    chicago_1918[\"agecat1\"]\n",
        "    + chicago_1918[\"agecat2\"]\n",
        "    + chicago_1918[\"agecat3\"]\n",
        "    + chicago_1918[\"agecat4\"]\n",
        "    + chicago_1918[\"agecat5\"]\n",
        "    + chicago_1918[\"agecat6\"]\n",
        "    + chicago_1918[\"agecat7\"]\n",
        ")\n",
        "total_population.head()"
      ],
      "id": "61ab58f9"
    },
    {
      "cell_type": "code",
      "execution_count": 14,
      "metadata": {},
      "outputs": [
        {
          "output_type": "display_data",
          "metadata": {},
          "data": {
            "text/plain": [
              "geography_code\n",
              "G17003100001    2819\n",
              "G17003100002    3265\n",
              "G17003100003    2256\n",
              "G17003100004    2623\n",
              "G17003100005    5528\n",
              "dtype: int64"
            ]
          }
        }
      ],
      "source": [
        "# This one is shorted, using a range of columns and sum\n",
        "total_population = chicago_1918.loc[:, \"agecat1\":\"agecat7\"].sum(axis=1)\n",
        "total_population.head()"
      ],
      "id": "3d871055"
    },
    {
      "cell_type": "markdown",
      "metadata": {},
      "source": [
        "Once you have created the variable, you can make it part of the table:"
      ],
      "id": "a70ad0eb-0f84-4ddc-94d3-6f95d797852b"
    },
    {
      "cell_type": "code",
      "execution_count": 15,
      "metadata": {},
      "outputs": [
        {
          "output_type": "display_data",
          "metadata": {},
          "data": {
            "text/html": [
              "\n",
              "</div>"
            ]
          }
        }
      ],
      "source": [
        "chicago_1918[\"total_population\"] = total_population\n",
        "chicago_1918.head()"
      ],
      "id": "c92cafc7"
    },
    {
      "cell_type": "markdown",
      "metadata": {},
      "source": [
        "You can also do other mathematical operations on columns. These are\n",
        "always automatically applied to individual values in corresponding rows."
      ],
      "id": "4570ddf0-7b35-46b9-b3e4-a9073276f6e8"
    },
    {
      "cell_type": "code",
      "execution_count": 16,
      "metadata": {},
      "outputs": [
        {
          "output_type": "display_data",
          "metadata": {},
          "data": {
            "text/plain": [
              "geography_code\n",
              "G17003100001    351.875177\n",
              "G17003100002    233.928353\n",
              "G17003100003    209.628319\n",
              "G17003100004     78.879711\n",
              "G17003100005    468.237675\n",
              "dtype: float64"
            ]
          }
        }
      ],
      "source": [
        "homeowners = chicago_1918[\"total_population\"] * chicago_1918[\"ho_pct\"]\n",
        "homeowners.head()"
      ],
      "id": "e4b9097c"
    },
    {
      "cell_type": "code",
      "execution_count": 17,
      "metadata": {},
      "outputs": [
        {
          "output_type": "display_data",
          "metadata": {},
          "data": {
            "text/plain": [
              "geography_code\n",
              "G17003100001     2.030687\n",
              "G17003100002    14.997703\n",
              "G17003100003     5.621729\n",
              "G17003100004    30.184120\n",
              "G17003100005    16.398695\n",
              "dtype: float64"
            ]
          }
        }
      ],
      "source": [
        "pop_density = chicago_1918[\"total_population\"] / chicago_1918[\"gross_acres\"]\n",
        "pop_density.head()"
      ],
      "id": "863b992e"
    },
    {
      "cell_type": "markdown",
      "metadata": {},
      "source": [
        "A different spin on this is assigning new values: you can generate new\n",
        "variables with scalars[1], and modify those:\n",
        "\n",
        "[1] Scalar is a single value, like a number (`42`) or a string\n",
        "(`\"towel\"`)."
      ],
      "id": "10a56fbb-285b-4db1-9d9e-65593b6e2641"
    },
    {
      "cell_type": "code",
      "execution_count": 18,
      "metadata": {},
      "outputs": [
        {
          "output_type": "display_data",
          "metadata": {},
          "data": {
            "text/html": [
              "\n",
              "</div>"
            ]
          }
        }
      ],
      "source": [
        "chicago_1918[\"ones\"] = 1\n",
        "chicago_1918.head()"
      ],
      "id": "5038672a"
    },
    {
      "cell_type": "markdown",
      "metadata": {},
      "source": [
        "And you can modify specific values too:"
      ],
      "id": "f371cbef-24ba-4cbc-99e1-2db772f6751e"
    },
    {
      "cell_type": "code",
      "execution_count": 19,
      "metadata": {},
      "outputs": [
        {
          "output_type": "display_data",
          "metadata": {},
          "data": {
            "text/html": [
              "\n",
              "</div>"
            ]
          }
        }
      ],
      "source": [
        "chicago_1918.loc[\"G17003100001\", \"ones\"] = 3\n",
        "chicago_1918.head()"
      ],
      "id": "d200d7a3"
    },
    {
      "cell_type": "markdown",
      "metadata": {},
      "source": [
        "### Remove columns\n",
        "\n",
        "Permanently deleting variables is also within reach of one command:"
      ],
      "id": "cae83c02-0030-4641-9087-c3decef26400"
    },
    {
      "cell_type": "code",
      "execution_count": 20,
      "metadata": {},
      "outputs": [
        {
          "output_type": "display_data",
          "metadata": {},
          "data": {
            "text/html": [
              "\n",
              "</div>"
            ]
          }
        }
      ],
      "source": [
        "chicago_1918 = chicago_1918.drop(columns=\"ones\")\n",
        "chicago_1918.head()"
      ],
      "id": "13179888"
    },
    {
      "cell_type": "markdown",
      "metadata": {},
      "source": [
        "### Index-based queries\n",
        "\n",
        "Here, you explore how to subset parts of a `DataFrame` if you know\n",
        "exactly which bits you want. For example, if you want to extract the\n",
        "influenza mortality and total population of the first four areas in the\n",
        "table, you use `loc` with lists:"
      ],
      "id": "22fad45a-1bb3-4632-bb62-b3be4da693ef"
    },
    {
      "cell_type": "code",
      "execution_count": 21,
      "metadata": {},
      "outputs": [
        {
          "output_type": "display_data",
          "metadata": {},
          "data": {
            "text/html": [
              "\n",
              "</div>"
            ]
          }
        }
      ],
      "source": [
        "death_pop_first4 = chicago_1918.loc[\n",
        "    [\"G17003100001\", \"G17003100002\", \"G17003100003\", \"G17003100004\"],\n",
        "    [\"influenza\", \"total_population\"],\n",
        "]\n",
        "death_pop_first4"
      ],
      "id": "c45391a5"
    },
    {
      "cell_type": "markdown",
      "metadata": {},
      "source": [
        "You can see how you can create a list with the names (index IDs) along\n",
        "each of the two dimensions of a `DataFrame` (rows and columns), and\n",
        "`loc` will return a subset of the original table only with the elements\n",
        "queried for.\n",
        "\n",
        "An alternative to list-based queries is what is called “range-based”\n",
        "queries. These work on the indices of the table, but instead of\n",
        "requiring the ID of each item you want to retrieve, they operate by\n",
        "requiring only two IDs: the first and last element in a range of items.\n",
        "Range queries are expressed with a colon (`:`). For example:"
      ],
      "id": "fe857efb-c1c1-4191-bc4d-fc1d23d2b20f"
    },
    {
      "cell_type": "code",
      "execution_count": 22,
      "metadata": {},
      "outputs": [
        {
          "output_type": "display_data",
          "metadata": {},
          "data": {
            "text/html": [
              "\n",
              "</div>"
            ]
          }
        }
      ],
      "source": [
        "range_query = chicago_1918.loc[\n",
        "    \"G17003100010\":\"G17003100012\",\n",
        "    \"influenza\":'total_population',\n",
        "]\n",
        "range_query"
      ],
      "id": "d6e1100c"
    },
    {
      "cell_type": "markdown",
      "metadata": {},
      "source": [
        "The range query picks up all the elements between the specified IDs.\n",
        "Note that for this to work, the first ID in the range needs to be placed\n",
        "before the second one in the table’s index.\n",
        "\n",
        "Once you know about list and range-based queries, you can combine them!\n",
        "For example, you can specify a range of rows and a list of columns:"
      ],
      "id": "5bf0eaf3-779d-49a2-a78c-ae6edbdee455"
    },
    {
      "cell_type": "code",
      "execution_count": 23,
      "metadata": {},
      "outputs": [
        {
          "output_type": "display_data",
          "metadata": {},
          "data": {
            "text/html": [
              "\n",
              "</div>"
            ]
          }
        }
      ],
      "source": [
        "range_list_qry = chicago_1918.loc[\n",
        "    \"G17003100010\":\"G17003100012\", [\"influenza\", \"total_population\"]\n",
        "]\n",
        "\n",
        "range_list_qry"
      ],
      "id": "5abfb467"
    },
    {
      "cell_type": "markdown",
      "metadata": {},
      "source": [
        "### Condition-based queries\n",
        "\n",
        "However, sometimes, you do not know exactly which observations you want,\n",
        "but you do know what conditions they need to satisfy (e.g. areas with\n",
        "more than 2,000 inhabitants). For these cases, `DataFrames` support\n",
        "selection based on conditions. Let us see a few examples. Suppose you\n",
        "want to select…\n",
        "\n",
        "*… areas with more than 60 cases of influenza deaths:*"
      ],
      "id": "b7773c16-3b7d-4c9c-b66b-987a75a0ede5"
    },
    {
      "cell_type": "code",
      "execution_count": 24,
      "metadata": {},
      "outputs": [
        {
          "output_type": "display_data",
          "metadata": {},
          "data": {
            "text/html": [
              "\n",
              "</div>"
            ]
          }
        }
      ],
      "source": [
        "flu_over_60 = chicago_1918.loc[chicago_1918[\"influenza\"] > 60]\n",
        "flu_over_60"
      ],
      "id": "fd69eab2"
    },
    {
      "cell_type": "markdown",
      "metadata": {},
      "source": [
        "*… areas with less than 200 inhabitants:*"
      ],
      "id": "aacc438e-3655-4fd2-9175-9b243bb69eff"
    },
    {
      "cell_type": "code",
      "execution_count": 25,
      "metadata": {},
      "outputs": [
        {
          "output_type": "display_data",
          "metadata": {},
          "data": {
            "text/html": [
              "\n",
              "</div>"
            ]
          }
        }
      ],
      "source": [
        "pop_under = chicago_1918.loc[chicago_1918[\"total_population\"] < 200]\n",
        "pop_under"
      ],
      "id": "10e38755"
    },
    {
      "cell_type": "markdown",
      "metadata": {},
      "source": [
        "*… areas with exactly a hundred illiterate persons:*"
      ],
      "id": "396def32-4ae5-4512-8a01-763a1aab6ee8"
    },
    {
      "cell_type": "code",
      "execution_count": 26,
      "metadata": {},
      "outputs": [
        {
          "output_type": "display_data",
          "metadata": {},
          "data": {
            "text/html": [
              "\n",
              "</div>"
            ]
          }
        }
      ],
      "source": [
        "illit_100 = chicago_1918.loc[chicago_1918[\"illit\"] == 100]\n",
        "illit_100"
      ],
      "id": "3ddc3cc2"
    },
    {
      "cell_type": "markdown",
      "metadata": {},
      "source": [
        "> **Unlimited power**\n",
        ">\n",
        "> These queries can grow in sophistication with almost no limits. For\n",
        "> example, here is a case where you want to find out the areas where the\n",
        "> oldest age group is more than half the population:\n",
        ">\n",
        "> ``` python\n",
        "> chicago_1918.loc[\n",
        ">     (chicago_1918[\"agecat7\"] * 100 / chicago_1918[\"total_population\"]) > 50\n",
        "> ]\n",
        "> ```\n",
        ">\n",
        "> <div>\n",
        "> <style scoped>\n",
        ">     .dataframe tbody tr th:only-of-type {\n",
        ">         vertical-align: middle;\n",
        ">     }\n",
        ">\n",
        ">     .dataframe tbody tr th {\n",
        ">         vertical-align: top;\n",
        ">     }\n",
        ">\n",
        ">     .dataframe thead th {\n",
        ">         text-align: right;\n",
        ">     }\n",
        "> </style>\n",
        ">\n",
        "> |  | gross_acres | illit | unemployed_pct | ho_pct | agecat1 | agecat2 | agecat3 | agecat4 | agecat5 | agecat6 | agecat7 | influenza | total_population |\n",
        "> |----|----|----|----|----|----|----|----|----|----|----|----|----|----|\n",
        "> | geography_code |  |  |  |  |  |  |  |  |  |  |  |  |  |\n",
        "> | G17003100227 | 146.3 | 22 | 0.0657 | 0.000853 | 2 | 16 | 9 | 22 | 27 | 480 | 614 | 3 | 1170 |\n",
        ">\n",
        "> </div>\n",
        "\n",
        "All the condition-based queries above are expressed using the `loc`\n",
        "operator. This is a powerful way, and since it shares syntax with\n",
        "index-based queries, it is also easier to remember. However, sometimes\n",
        "querying using `loc` involves a lot of quotation marks, parenthesis,\n",
        "etc. A more streamlined approach for condition-based queries of rows is\n",
        "provided by the `query` engine. Using this approach, you express\n",
        "everything in our query on a single string, or piece of text, and that\n",
        "is evaluated in the table at once. For example, you can run the same\n",
        "operation as in the first query above with the following syntax:"
      ],
      "id": "8a303541-a2d0-4eea-b16b-5c3bd6227e3b"
    },
    {
      "cell_type": "code",
      "execution_count": 28,
      "metadata": {},
      "outputs": [
        {
          "output_type": "display_data",
          "metadata": {},
          "data": {
            "text/html": [
              "\n",
              "</div>"
            ]
          }
        }
      ],
      "source": [
        "flu_over_60_query = chicago_1918.query(\"influenza > 60\")\n",
        "flu_over_60_query"
      ],
      "id": "f8c13877"
    },
    {
      "cell_type": "markdown",
      "metadata": {},
      "source": [
        "If you want to combine operations, this is also possible:"
      ],
      "id": "f81cfbbb-d1be-4201-8a4a-83b64684af4c"
    },
    {
      "cell_type": "code",
      "execution_count": 29,
      "metadata": {},
      "outputs": [
        {
          "output_type": "display_data",
          "metadata": {},
          "data": {
            "text/html": [
              "\n",
              "</div>"
            ]
          }
        }
      ],
      "source": [
        "flu_query = chicago_1918.query(\"(influenza > 60) & (total_population < 10000)\")\n",
        "flu_query"
      ],
      "id": "0229810f"
    },
    {
      "cell_type": "markdown",
      "metadata": {},
      "source": [
        "Note that, in these cases, using query results in code that is much more\n",
        "streamlined and easier to read. However, `query` is not perfect and,\n",
        "particularly for more sophisticated queries, it does not afford the same\n",
        "degree of flexibility. For example, the last `query` we had using loc\n",
        "would not be possible using `query`.\n",
        "\n",
        "> **Tip**\n",
        ">\n",
        "> If you are interested, more detail about `query` is available in the\n",
        "> [pandas\n",
        "> documentation](https://pandas.pydata.org/pandas-docs/stable/user_guide/indexing.html#the-query-method).\n",
        "\n",
        "### Combining queries\n",
        "\n",
        "Now, all of these queries can be combined with each other for further\n",
        "flexibility. For example, imagine you want areas with more than 60 cases\n",
        "of influenza from areas with less than 10,000 inhabitants:"
      ],
      "id": "5e07cd25-3c77-49ae-8189-a0152da86547"
    },
    {
      "cell_type": "code",
      "execution_count": 30,
      "metadata": {},
      "outputs": [
        {
          "output_type": "display_data",
          "metadata": {},
          "data": {
            "text/html": [
              "\n",
              "</div>"
            ]
          }
        }
      ],
      "source": [
        "flu_loc = chicago_1918.loc[\n",
        "    (chicago_1918[\"influenza\"] > 60)\n",
        "    & (chicago_1918[\"total_population\"] < 10000)\n",
        "]\n",
        "flu_loc"
      ],
      "id": "a5679870"
    },
    {
      "cell_type": "markdown",
      "metadata": {},
      "source": [
        "> **How do the `loc` queries work?**\n",
        ">\n",
        "> Let’s unpack how these queries work. Each part of the query above\n",
        "> creates a single `Series` with boolean (`True` or `False`) values,\n",
        "> encoding whether the row fulfils the condition or not.\n",
        ">\n",
        "> ``` python\n",
        "> chicago_1918[\"influenza\"] > 60\n",
        "> ```\n",
        ">\n",
        ">     geography_code\n",
        ">     G17003100001    False\n",
        ">     G17003100002    False\n",
        ">     G17003100003    False\n",
        ">     G17003100004    False\n",
        ">     G17003100005    False\n",
        ">                     ...  \n",
        ">     G17003100492    False\n",
        ">     G17003100493    False\n",
        ">     G17003100494     True\n",
        ">     G17003100495    False\n",
        ">     G17003100496    False\n",
        ">     Name: influenza, Length: 496, dtype: bool\n",
        ">\n",
        "> ``` python\n",
        "> chicago_1918[\"total_population\"] < 10000\n",
        "> ```\n",
        ">\n",
        ">     geography_code\n",
        ">     G17003100001     True\n",
        ">     G17003100002     True\n",
        ">     G17003100003     True\n",
        ">     G17003100004     True\n",
        ">     G17003100005     True\n",
        ">                     ...  \n",
        ">     G17003100492     True\n",
        ">     G17003100493    False\n",
        ">     G17003100494    False\n",
        ">     G17003100495     True\n",
        ">     G17003100496     True\n",
        ">     Name: total_population, Length: 496, dtype: bool\n",
        ">\n",
        "> You then combine two of these Series with `&`, asking for a new\n",
        "> `Series` where values in both the first and the second `Series` are\n",
        "> `True`.\n",
        ">\n",
        "> ``` python\n",
        "> (chicago_1918[\"influenza\"] > 60) & (chicago_1918[\"total_population\"] < 10000)\n",
        "> ```\n",
        ">\n",
        ">     geography_code\n",
        ">     G17003100001    False\n",
        ">     G17003100002    False\n",
        ">     G17003100003    False\n",
        ">     G17003100004    False\n",
        ">     G17003100005    False\n",
        ">                     ...  \n",
        ">     G17003100492    False\n",
        ">     G17003100493    False\n",
        ">     G17003100494    False\n",
        ">     G17003100495    False\n",
        ">     G17003100496    False\n",
        ">     Length: 496, dtype: bool\n",
        ">\n",
        "> Such a `Series` is then essentially used as a mask, and `loc` returns\n",
        "> only those columns that contain `True` in that mask.\n",
        "\n",
        "### Sorting\n",
        "\n",
        "Among the many operations `DataFrame` objects support, one of the most\n",
        "useful ones is to sort a table based on a given column. For example,\n",
        "imagine you want to sort the table by the influenza cases:"
      ],
      "id": "558da86e-05b0-4259-89df-f80261357475"
    },
    {
      "cell_type": "code",
      "execution_count": 34,
      "metadata": {},
      "outputs": [
        {
          "output_type": "display_data",
          "metadata": {},
          "data": {
            "text/html": [
              "\n",
              "<p>496 rows × 13 columns</p>\n",
              "</div>"
            ]
          }
        }
      ],
      "source": [
        "chicago_sorted = chicago_1918.sort_values('influenza', ascending=False)\n",
        "chicago_sorted"
      ],
      "id": "244263d7"
    },
    {
      "cell_type": "markdown",
      "metadata": {},
      "source": [
        "Given the areas of each census tract differ, it may be better to sort by\n",
        "the mortality rate rather than raw counts."
      ],
      "id": "6308957a-dfc6-410d-96d5-b2ab717377d2"
    },
    {
      "cell_type": "code",
      "execution_count": 35,
      "metadata": {},
      "outputs": [
        {
          "output_type": "display_data",
          "metadata": {},
          "data": {
            "text/html": [
              "\n",
              "<p>496 rows × 14 columns</p>\n",
              "</div>"
            ]
          }
        }
      ],
      "source": [
        "chicago_1918[\"flu_rate\"] = (\n",
        "    chicago_1918[\"influenza\"] / chicago_1918[\"total_population\"]\n",
        ")\n",
        "chicago_sorted_rel = chicago_1918.sort_values('flu_rate', ascending=False)\n",
        "chicago_sorted_rel"
      ],
      "id": "edafe245"
    },
    {
      "cell_type": "markdown",
      "metadata": {},
      "source": [
        "If you inspect the help of `chicago_1918.sort_values`, you will find\n",
        "that you can pass more than one column to sort the table by. This allows\n",
        "you to do so-called hierarchical sorting: sort first based on one\n",
        "column, if equal, then based on another column, etc.\n",
        "\n",
        "## Visual Exploration\n",
        "\n",
        "The next step to continue exploring a dataset is to get a feel for what\n",
        "it looks like, visually. You have already learnt how to unconver and\n",
        "inspect specific parts of the data, to check for particular cases you\n",
        "might be interested in. Now, you will see how to plot the data to get a\n",
        "sense of the overall distribution of values. For that, you can use the\n",
        "plotting capabilities of `pandas`.\n",
        "\n",
        "### Histograms\n",
        "\n",
        "One of the most common graphical devices to display the distribution of\n",
        "values in a variable is a histogram. Values are assigned into groups of\n",
        "equal intervals, and the groups are plotted as bars rising as high as\n",
        "the number of values into the group.\n",
        "\n",
        "A histogram is easily created with the following command. In this case,\n",
        "let us have a look at the shape of the overall influenza rates:"
      ],
      "id": "493f8fba-f6e0-44ac-b8ce-ca34acf51a2d"
    },
    {
      "cell_type": "code",
      "execution_count": 36,
      "metadata": {},
      "outputs": [
        {
          "output_type": "display_data",
          "metadata": {},
          "data": {}
        }
      ],
      "source": [
        "_ = chicago_1918[\"influenza\"].plot.hist()"
      ],
      "id": "bbadbfe0"
    },
    {
      "cell_type": "markdown",
      "metadata": {},
      "source": [
        "> **Assigning to `_`**\n",
        ">\n",
        "> `pandas` returns an object with the drawing from its plotting methods.\n",
        "> Since you are in Jupyter environment, and you don’t need to work\n",
        "> further with that object; you can assign it to `_`, a convention for\n",
        "> an unused variable.\n",
        "\n",
        "However, the default `pandas` plots can be a bit dull. A better option\n",
        "is to use another package, called\n",
        "[`seaborn`](https://seaborn.pydata.org)."
      ],
      "id": "4d5a6313-d3f6-4bff-9bbe-452d29382632"
    },
    {
      "cell_type": "code",
      "execution_count": 37,
      "metadata": {},
      "outputs": [],
      "source": [
        "import seaborn as sns"
      ],
      "id": "8903ddc7"
    },
    {
      "cell_type": "markdown",
      "metadata": {},
      "source": [
        "> **Why `sns`?**\n",
        ">\n",
        "> `seaborn` is, by convention, imported as `sns`. That came as a joke\n",
        "> after [Samuel Normal\n",
        "> Seaborn](https://en.wikipedia.org/wiki/Sam_Seaborn), a fictional\n",
        "> character The West Wing show.\n",
        "\n",
        "The same plot using `seaborn` has a more pleasant default style and more\n",
        "customisability."
      ],
      "id": "c5743fe5-5cf5-4ab7-92e4-0cd4254d4947"
    },
    {
      "cell_type": "code",
      "execution_count": 38,
      "metadata": {},
      "outputs": [
        {
          "output_type": "display_data",
          "metadata": {},
          "data": {}
        }
      ],
      "source": [
        "sns.displot(chicago_1918[\"influenza\"])"
      ],
      "id": "208ec53f"
    },
    {
      "cell_type": "markdown",
      "metadata": {},
      "source": [
        "Note you are using `sns` instead of `pd`, as the function belongs to\n",
        "`seaborn` instead of `pandas`.\n",
        "\n",
        "You can quickly see most of the areas have seen somewhere between 0 and\n",
        "60 cases, approx. However, there are a few areas that have more, up to\n",
        "more than 80 cases.\n",
        "\n",
        "### Kernel Density Plots\n",
        "\n",
        "Histograms are useful, but they are artificial in the sense that a\n",
        "continuous variable is made discrete by turning the values into discrete\n",
        "groups. An alternative is kernel density estimation (KDE), which\n",
        "produces an empirical density function:"
      ],
      "id": "0e0aa2d1-1c70-4b65-a65a-c78cf859207e"
    },
    {
      "cell_type": "code",
      "execution_count": 39,
      "metadata": {},
      "outputs": [
        {
          "output_type": "display_data",
          "metadata": {},
          "data": {}
        }
      ],
      "source": [
        "sns.displot(chicago_1918[\"influenza\"], kind=\"kde\", fill=True)"
      ],
      "id": "eb8b1a02"
    },
    {
      "cell_type": "markdown",
      "metadata": {},
      "source": [
        "### Line and bar plots\n",
        "\n",
        "Another very common way of visually displaying a variable is with a line\n",
        "or a bar chart. For example, if you want to generate a line plot of the\n",
        "(sorted) total cases by area:"
      ],
      "id": "1ae8abc9-46ae-421f-a888-13544de59495"
    },
    {
      "cell_type": "code",
      "execution_count": 40,
      "metadata": {},
      "outputs": [
        {
          "output_type": "display_data",
          "metadata": {},
          "data": {}
        }
      ],
      "source": [
        "_ = chicago_1918[\"influenza\"].sort_values(ascending=False).plot()"
      ],
      "id": "35893161"
    },
    {
      "cell_type": "markdown",
      "metadata": {},
      "source": [
        "For a bar plot all you need to do is to change from `plot` to\n",
        "`plot.bar`. Since there are many census tracts, let us plot only the ten\n",
        "largest ones (which you can retrieve with `head`):"
      ],
      "id": "714327e7-533d-48e8-ae60-d075ca6b38db"
    },
    {
      "cell_type": "code",
      "execution_count": 41,
      "metadata": {},
      "outputs": [
        {
          "output_type": "display_data",
          "metadata": {},
          "data": {}
        }
      ],
      "source": [
        "_ = chicago_1918[\"influenza\"].sort_values(ascending=False).head(10).plot.bar()"
      ],
      "id": "9976a4a4"
    },
    {
      "cell_type": "markdown",
      "metadata": {},
      "source": [
        "You can turn the plot around by displaying the bars horizontally (see\n",
        "how it’s just changing `bar` for `barh`). Let’s display now the top 50\n",
        "areas and, to make it more readable, let us expand the plot’s height:"
      ],
      "id": "2969dd9f-f68b-4056-ac90-4eaaaf291e24"
    },
    {
      "cell_type": "code",
      "execution_count": 42,
      "metadata": {},
      "outputs": [
        {
          "output_type": "display_data",
          "metadata": {},
          "data": {}
        }
      ],
      "source": [
        "_ = (\n",
        "    chicago_1918[\"total_population\"]\n",
        "    .sort_values()\n",
        "    .head(50)\n",
        "    .plot.barh(figsize=(6, 20))\n",
        ")"
      ],
      "id": "fb88c595"
    },
    {
      "cell_type": "markdown",
      "metadata": {},
      "source": [
        "> **One line or multiple lines?**\n",
        ">\n",
        "> You may have noticed that in some cases, the code is on a single line,\n",
        "> but longer code is split into multiple lines. Python requires you to\n",
        "> follow the [indentation rules](https://peps.python.org/pep-0008/), but\n",
        "> apart from that, there are not a lot of other limits.\n",
        "\n",
        "## Tidy data\n",
        "\n",
        "> **Caution**\n",
        ">\n",
        "> This section is a bit more advanced and hence considered optional.\n",
        "> Feel free to skip it, move to the next, and return later when you feel\n",
        "> more confident.\n",
        "\n",
        "Once you can read your data in, explore specific cases, and have a first\n",
        "visual approach to the entire set, the next step can be preparing it for\n",
        "more sophisticated analysis. Maybe you are thinking of modeling it\n",
        "through regression, or on creating subgroups in the dataset with\n",
        "particular characteristics, or maybe you simply need to present summary\n",
        "measures that relate to a slightly different arrangement of the data\n",
        "than you have been presented with.\n",
        "\n",
        "For all these cases, you first need what statistician, and general R\n",
        "wizard, Hadley Wickham calls *“tidy data”*. The general idea to “tidy”\n",
        "your data is to convert them from whatever structure they were handed in\n",
        "to you into one that allows convenient and standardized manipulation,\n",
        "and that supports directly inputting the data into what he calls\n",
        "“*tidy*” analysis tools. But, at a more practical level, what is exactly\n",
        "*“tidy data”*? In Wickham’s own words:\n",
        "\n",
        "> *Tidy data is a standard way of mapping the meaning of a dataset to\n",
        "> its structure. A dataset is messy or tidy depending on how rows,\n",
        "> columns and tables are matched up with observations, variables and\n",
        "> types.*\n",
        "\n",
        "He then goes on to list the three fundamental characteristics of *“tidy\n",
        "data”*:\n",
        "\n",
        "1.  Each variable forms a column.\n",
        "2.  Each observation forms a row.\n",
        "3.  Each type of observational unit forms a table.\n",
        "\n",
        "If you are further interested in the concept of *“tidy data”*, I\n",
        "recommend you check out the [original\n",
        "paper](http://www.jstatsoft.org/v59/i10/) (open access) and the [public\n",
        "repository](https://github.com/hadley/tidy-data) associated with it.\n",
        "\n",
        "Let us bring in the concept of “*tidy data*” to our own Chicago dataset.\n",
        "First, remember its structure:"
      ],
      "id": "fac59395-a5da-4fe5-8c52-e2c6ced56f6b"
    },
    {
      "cell_type": "code",
      "execution_count": 43,
      "metadata": {},
      "outputs": [
        {
          "output_type": "display_data",
          "metadata": {},
          "data": {
            "text/html": [
              "\n",
              "</div>"
            ]
          }
        }
      ],
      "source": [
        "chicago_1918.head()"
      ],
      "id": "fbb180b3"
    },
    {
      "cell_type": "markdown",
      "metadata": {},
      "source": [
        "Thinking through *tidy* lenses, this is not a tidy dataset. It is not so\n",
        "for each of the three conditions:\n",
        "\n",
        "-   Starting by the last one (*each type of observational unit forms a\n",
        "    table*), this dataset actually contains not one but many\n",
        "    observational units: the different areas of Chicago, captured by\n",
        "    `geography_code`; *and* different observatoins for each area. To\n",
        "    *tidy* up this aspect, you can create separate tables. You will\n",
        "    probably want population groups divided by age as one tidy table and\n",
        "    flu rates as another. Start by extracting relevant columns."
      ],
      "id": "8c23898f-027a-4e55-92d1-2872dc8912c3"
    },
    {
      "cell_type": "code",
      "execution_count": 44,
      "metadata": {},
      "outputs": [
        {
          "output_type": "display_data",
          "metadata": {},
          "data": {
            "text/html": [
              "\n",
              "</div>"
            ]
          }
        }
      ],
      "source": [
        "influenza_rates = chicago_1918[[\"influenza\"]]\n",
        "influenza_rates.head()"
      ],
      "id": "ade02fb0"
    },
    {
      "cell_type": "code",
      "execution_count": 45,
      "metadata": {},
      "outputs": [
        {
          "output_type": "display_data",
          "metadata": {},
          "data": {
            "text/html": [
              "\n",
              "</div>"
            ]
          }
        }
      ],
      "source": [
        "population = chicago_1918.loc[:, \"agecat1\":\"agecat7\"]\n",
        "population.head()"
      ],
      "id": "74df65f2"
    },
    {
      "cell_type": "markdown",
      "metadata": {},
      "source": [
        "At this point, the table `influenza_rates` is tidy: every row is an\n",
        "observation, every table is a variable, and there is only one\n",
        "observational unit in the table.\n",
        "\n",
        "The other table (`population`), however, is not entirely tidied up yet:\n",
        "there is only one observational unit in the table, true; but every row\n",
        "is not an observation, and there are variable values as the names of\n",
        "columns (in other words, every column is not a variable). To obtain a\n",
        "fully tidy version of the table, you need to re-arrange it in a way that\n",
        "every row is an age category in an area, and there are three variables:\n",
        "`geography_code`, age category, and population count (or frequency).\n",
        "\n",
        "Because this is actually a fairly common pattern, there is a direct way\n",
        "to solve it in `pandas`:"
      ],
      "id": "2bab66a2-a3df-485b-bd42-51115315d70d"
    },
    {
      "cell_type": "code",
      "execution_count": 46,
      "metadata": {},
      "outputs": [
        {
          "output_type": "display_data",
          "metadata": {},
          "data": {
            "text/plain": [
              "geography_code         \n",
              "G17003100001    agecat1     46\n",
              "                agecat2    274\n",
              "                agecat3    257\n",
              "                agecat4    311\n",
              "                agecat5    222\n",
              "dtype: int64"
            ]
          }
        }
      ],
      "source": [
        "tidy_population = population.stack()\n",
        "tidy_population.head()"
      ],
      "id": "3a2f0126"
    },
    {
      "cell_type": "markdown",
      "metadata": {},
      "source": [
        "The method `stack`, well, “stacks” the different columns into rows. This\n",
        "fixes our “tidiness” problems but the type of object that is returning\n",
        "is not a `DataFrame`:"
      ],
      "id": "cc313d56-84e6-4fe3-b455-8727b018ab99"
    },
    {
      "cell_type": "code",
      "execution_count": 47,
      "metadata": {},
      "outputs": [
        {
          "output_type": "display_data",
          "metadata": {},
          "data": {
            "text/plain": [
              "pandas.core.series.Series"
            ]
          }
        }
      ],
      "source": [
        "type(tidy_population)"
      ],
      "id": "ce74269c"
    },
    {
      "cell_type": "markdown",
      "metadata": {},
      "source": [
        "It is a `Series`, which really is like a `DataFrame`, but with only one\n",
        "column. The additional information (`geography_code` and age category)\n",
        "are stored in what is called an multi-index. You will skip these for\n",
        "now, so you would really just want to get a `DataFrame` as you know it\n",
        "out of the `Series`. This is also one line of code away:"
      ],
      "id": "b8e0ce08-11d0-41b0-aff2-03ae91b7f695"
    },
    {
      "cell_type": "code",
      "execution_count": 48,
      "metadata": {},
      "outputs": [
        {
          "output_type": "display_data",
          "metadata": {},
          "data": {
            "text/html": [
              "\n",
              "</div>"
            ]
          }
        }
      ],
      "source": [
        "tidy_population_df = tidy_population.reset_index()\n",
        "tidy_population_df.head()"
      ],
      "id": "43a2d974"
    },
    {
      "cell_type": "markdown",
      "metadata": {},
      "source": [
        "To which you can apply to renaming to make it look better:"
      ],
      "id": "5ff87300-586c-43c3-bd62-3d0a538f0912"
    },
    {
      "cell_type": "code",
      "execution_count": 49,
      "metadata": {},
      "outputs": [
        {
          "output_type": "display_data",
          "metadata": {},
          "data": {
            "text/html": [
              "\n",
              "</div>"
            ]
          }
        }
      ],
      "source": [
        "tidy_population_df = tidy_population_df.rename(\n",
        "    columns={\"level_1\": \"age_category\", 0: \"count\"}\n",
        ")\n",
        "tidy_population_df.head()"
      ],
      "id": "0a375c26"
    },
    {
      "cell_type": "markdown",
      "metadata": {},
      "source": [
        "Now our table is fully tidied up!\n",
        "\n",
        "## Grouping, transforming, aggregating\n",
        "\n",
        "One of the advantage of tidy datasets is they allow to perform advanced\n",
        "transformations in a more direct way. One of the most common ones is\n",
        "what is called “group-by” operations. Originated in the world of\n",
        "databases, these operations allow you to group observations in a table\n",
        "by one of its labels, index, or category, and apply operations on the\n",
        "data group by group.\n",
        "\n",
        "For example, given our tidy table with age categories, you might want to\n",
        "compute the total sum of the population by each category. This task can\n",
        "be split into two different ones:\n",
        "\n",
        "-   Group the table in each of the different subgroups.\n",
        "-   Compute the sum of `count` for each of them.\n",
        "\n",
        "To do this in `pandas`, meet one of its workhorses, and also one of the\n",
        "reasons why the library has become so popular: the `groupby` operator."
      ],
      "id": "cbb689fe-c20c-4e8a-ade5-0c8cbfafe9b2"
    },
    {
      "cell_type": "code",
      "execution_count": 50,
      "metadata": {},
      "outputs": [
        {
          "output_type": "display_data",
          "metadata": {},
          "data": {
            "text/plain": [
              "<pandas.core.groupby.generic.DataFrameGroupBy object at 0x7f78b978f230>"
            ]
          }
        }
      ],
      "source": [
        "pop_grouped = tidy_population_df.groupby(\"age_category\")\n",
        "pop_grouped"
      ],
      "id": "f952bbc4"
    },
    {
      "cell_type": "markdown",
      "metadata": {},
      "source": [
        "The object `pop_grouped` still hasn’t computed anything. It is only a\n",
        "convenient way of specifying the grouping. But this allows us then to\n",
        "perform a multitude of operations on it. For our example, the sum is\n",
        "calculated as follows:"
      ],
      "id": "699ead34-fce3-4c0f-9aed-82cb73b9d379"
    },
    {
      "cell_type": "code",
      "execution_count": 51,
      "metadata": {},
      "outputs": [
        {
          "output_type": "display_data",
          "metadata": {},
          "data": {
            "text/html": [
              "\n",
              "</div>"
            ]
          }
        }
      ],
      "source": [
        "pop_grouped.sum(numeric_only=True)"
      ],
      "id": "435feef9"
    },
    {
      "cell_type": "markdown",
      "metadata": {},
      "source": [
        "Similarly, you can also obtain a summary of each group:"
      ],
      "id": "2fad5dba-c762-487e-a73b-283838f88851"
    },
    {
      "cell_type": "code",
      "execution_count": 52,
      "metadata": {},
      "outputs": [
        {
          "output_type": "display_data",
          "metadata": {},
          "data": {
            "text/html": [
              "\n",
              "</div>"
            ]
          }
        }
      ],
      "source": [
        "pop_grouped.describe()"
      ],
      "id": "5e1b7ef1"
    },
    {
      "cell_type": "markdown",
      "metadata": {},
      "source": [
        "You will not get into it today as it goes beyond the basics this session\n",
        "wants to cover, but keep in mind that `groupby` allows you to not only\n",
        "call generic functions (like `sum` or `describe`), but also your own\n",
        "functions. This opens the door for virtually any kind of transformation\n",
        "and aggregation possible.\n",
        "\n",
        "> **Additional reading**\n",
        ">\n",
        "> -   A good introduction to data manipulation in Python is Wes\n",
        ">     McKinney’s “[Python for Data\n",
        ">     Analysis](https://wesmckinney.com/book/pandas-basics)”\n",
        ">     \\[@mckinney2012python\\].\n",
        "> -   To explore further some of the visualization capabilities in at\n",
        ">     your fingertips, the Python library `seaborn` is an excellent\n",
        ">     choice. Its online\n",
        ">     [tutorial](https://seaborn.pydata.org/tutorial.html) is a\n",
        ">     fantastic place to start.\n",
        "> -   A good extension is Hadley Wickham’s “Tidy data” paper\n",
        ">     \\[@wickham2014tidy\\], which presents a very popular way of\n",
        ">     organising tabular data for efficient manipulation.\n",
        "\n",
        "## Acknowledgements\n",
        "\n",
        "This section is derived from *A Course on Geographic Data Science* by\n",
        "@darribas_gds_course, licensed under CC-BY-SA 4.0. The text was slightly\n",
        "adapted, mostly to accommodate a different dataset used."
      ],
      "id": "900c1593-547f-4eda-a5d6-f3b2f856f6fe"
    }
  ],
  "nbformat": 4,
  "nbformat_minor": 5,
  "metadata": {
    "kernelspec": {
      "name": "sds",
      "display_name": "sds",
      "language": "python",
      "path": "/home/runner/.local/share/jupyter/kernels/sds"
    },
    "language_info": {
      "name": "python",
      "codemirror_mode": {
        "name": "ipython",
        "version": "3"
      },
      "file_extension": ".py",
      "mimetype": "text/x-python",
      "nbconvert_exporter": "python",
      "pygments_lexer": "ipython3",
      "version": "3.12.6"
    }
  }
}