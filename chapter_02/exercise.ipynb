{
  "cells": [
    {
      "cell_type": "markdown",
      "metadata": {},
      "source": [
        "# Learning pandas\n",
        "\n",
        "> **Caution**\n",
        ">\n",
        "> This course material is currently under construction and is likely\n",
        "> incomplete. The final version will be released in October 2023.\n",
        "\n",
        "This section is about learning how to work with `pandas` by using it\n",
        "without much guidance. You will play with the\n",
        "[dataset](https://www.gov.scot/publications/scottish-index-of-multiple-deprivation-2020v2-ranks/)\n",
        "of the [Scottish Index of Multiple\n",
        "Deprivation](https://www.gov.scot/collections/scottish-index-of-multiple-deprivation-2020/#lookupfiles)\n",
        "(SIMD). Specifically, you will load a table containing the rank of each\n",
        "data zone according to the overall SIMD and according to its subdomains\n",
        "(check the links above if you would like to learn more).\n",
        "\n",
        "## Data Preparation\n",
        "\n",
        "Before you start playing with the data, you need to figure out how to\n",
        "read the data. It is not a CSV file this time, but XLSX. `pandas` is\n",
        "capable of reading Excel files like this one. Instead of the `read_csv`\n",
        "you used before, you just need to use `read_excel` this time.\n",
        "\n",
        "Take a second to download the\n",
        "[dataset](https://www.gov.scot/publications/scottish-index-of-multiple-deprivation-2020v2-ranks/)\n",
        "and check its structure in Excel before moving forward.\n",
        "\n",
        "You have probably figured out that there are two sheets in this file,\n",
        "and you need to read the second one, called `\"SIMD 2020v2 ranks\"`.\n",
        "\n",
        "Let’s start by importing `pandas`."
      ],
      "id": "ffffee87-251b-4b7b-81f0-7fc36470a297"
    },
    {
      "cell_type": "code",
      "execution_count": 1,
      "metadata": {},
      "outputs": [],
      "source": [
        "import pandas as pd"
      ],
      "id": "1b929dd7"
    },
    {
      "cell_type": "markdown",
      "metadata": {},
      "source": [
        "Since you have the file in your Downloads folder now, you can read it\n",
        "from there. Or you can read it directly from `gov.scot`."
      ],
      "id": "aabf90bd-9eb3-4201-99a0-1f67802de64b"
    },
    {
      "cell_type": "code",
      "execution_count": 2,
      "metadata": {},
      "outputs": [],
      "source": [
        "url = \"https://www.gov.scot/binaries/content/documents/govscot/publications/statistics/2020/01/scottish-index-of-multiple-deprivation-2020-ranks-and-domain-ranks/documents/scottish-index-of-multiple-deprivation-2020-ranks-and-domain-ranks/scottish-index-of-multiple-deprivation-2020-ranks-and-domain-ranks/govscot%3Adocument/SIMD%2B2020v2%2B-%2Branks.xlsx\""
      ],
      "id": "58a4dd04"
    },
    {
      "cell_type": "markdown",
      "metadata": {},
      "source": [
        "To read the proper sheet, you need to specify `sheet_name` to\n",
        "`read_excel`. `pandas` will download the file for you and open it as a\n",
        "`DataFrame`."
      ],
      "id": "fd3e4110-e60e-47a9-80a6-c2542aa726cb"
    },
    {
      "cell_type": "code",
      "execution_count": 3,
      "metadata": {},
      "outputs": [],
      "source": [
        "simd = pd.read_excel(url, sheet_name=\"SIMD 2020v2 ranks\")"
      ],
      "id": "58fbfcf9"
    },
    {
      "cell_type": "markdown",
      "metadata": {},
      "source": [
        "> **Reading a local file**\n",
        ">\n",
        "> If you want to read the file from your downloads folder, you will need\n",
        "> to pass its location. That can look like this if you are on macOS:\n",
        ">\n",
        "> ``` py\n",
        "> simd = pd.read_excel(\n",
        ">     \"/Users/martin/Downloads/SIMD+2020v2+-+ranks.xlsx\",\n",
        ">     sheet_name=\"SIMD 2020v2 ranks\",\n",
        "> )\n",
        "> ```\n",
        ">\n",
        "> Or like this if you are on Windows. Note the `r` in front of the\n",
        "> string, ensuring that the backlashes (`\\`), common in Windows file\n",
        "> paths, are properly interpreted. Or you can replace them with `/`:\n",
        ">\n",
        "> ``` py\n",
        "> simd = pd.read_excel(\n",
        ">     r\"C:\\Users\\martin\\Downloads\\SIMD+2020v2+-+ranks.xlsx\",\n",
        ">     sheet_name=\"SIMD 2020v2 ranks\",\n",
        "> )\n",
        "> ```\n",
        ">\n",
        "> Alternatively, you can read the file from the `data` folder attached\n",
        "> to this lecture.\n",
        ">\n",
        "> ``` py\n",
        "> simd = pd.read_excel(\n",
        ">     \"https://martinfleischmann.net/sds/chapter_02/data/SIMD+2020v2+-+ranks.xlsx\",\n",
        ">     sheet_name=\"SIMD 2020v2 ranks\",\n",
        "> )\n",
        "> ```\n",
        "\n",
        "And you should be good to go!"
      ],
      "id": "925f6bae-94aa-4f8e-aad8-6117da834d28"
    },
    {
      "cell_type": "code",
      "execution_count": 4,
      "metadata": {},
      "outputs": [
        {
          "output_type": "display_data",
          "metadata": {},
          "data": {
            "text/html": [
              "\n",
              "</div>"
            ]
          }
        }
      ],
      "source": [
        "simd.head()"
      ],
      "id": "c8615692"
    },
    {
      "cell_type": "markdown",
      "metadata": {},
      "source": [
        "## Learn about Scotland\n",
        "\n",
        "In the previous chapter, you learned the basics of `pandas`. Now is the\n",
        "time to use this knowledge and learn something about Scotland. The SIMD\n",
        "rankings are similar in structure to Chicago Influenza rates you have\n",
        "seen before, but not too much. Each row is allocated to a single area,\n",
        "but the table does not follow the “tidy” principles.\n",
        "\n",
        "Try answering the following questions about the dataset:\n",
        "\n",
        "-   Which data zone is the most deprived (lowest ranking?) Which council\n",
        "    area is it?\n",
        "-   Can you add a column with a proportion of the working age population\n",
        "    in each data zone?\n",
        "-   Which council area is, on average, the least deprived based on the\n",
        "    Income domain?\n",
        "-   What is the total population of the “Glasgow City” council?\n",
        "-   Can you plot the ranking distribution in “Glasgow City”? How does it\n",
        "    compare to the “City of Edinburgh”?\n",
        "-   Can you figure out how to create a scatter plot of a relationship\n",
        "    between the education and health domain rankings?\n",
        "-   What else can you derive from the data?"
      ],
      "id": "4a005d50-d610-496e-9415-666286e70ca2"
    }
  ],
  "nbformat": 4,
  "nbformat_minor": 5,
  "metadata": {
    "kernelspec": {
      "name": "sds",
      "display_name": "sds",
      "language": "python"
    },
    "language_info": {
      "name": "python",
      "codemirror_mode": {
        "name": "ipython",
        "version": "3"
      },
      "file_extension": ".py",
      "mimetype": "text/x-python",
      "nbconvert_exporter": "python",
      "pygments_lexer": "ipython3",
      "version": "3.11.5"
    }
  }
}