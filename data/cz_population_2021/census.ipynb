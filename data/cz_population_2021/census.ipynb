{
 "cells": [
  {
   "cell_type": "code",
   "execution_count": 1,
   "metadata": {},
   "outputs": [],
   "source": [
    "import tempfile\n",
    "\n",
    "import pandas as pd\n",
    "import geopandas as gpd\n",
    "import pyogrio\n",
    "import httpx"
   ]
  },
  {
   "cell_type": "code",
   "execution_count": 3,
   "metadata": {},
   "outputs": [],
   "source": [
    "vek_pohlavi = pd.read_csv(\"https://csu.gov.cz/docs/107508/36f9eebd-00ff-5fb3-3ccf-de910ab1ef22/sldb2021_vek10_pohlavi.csv?version=1.0\")"
   ]
  },
  {
   "cell_type": "code",
   "execution_count": 9,
   "metadata": {},
   "outputs": [
    {
     "data": {
      "text/plain": [
       "Index(['idhod', 'hodnota', 'ukaz_kod', 'vek_cis', 'vek_kod', 'pohlavi_cis',\n",
       "       'pohlavi_kod', 'uzemi_cis', 'uzemi_kod', 'sldb_rok', 'sldb_datum',\n",
       "       'ukaz_txt', 'vek_txt', 'pohlavi_txt', 'uzemi_txt'],\n",
       "      dtype='object')"
      ]
     },
     "execution_count": 9,
     "metadata": {},
     "output_type": "execute_result"
    }
   ],
   "source": [
    "vek_pohlavi.columns"
   ]
  },
  {
   "cell_type": "code",
   "execution_count": 8,
   "metadata": {},
   "outputs": [],
   "source": [
    "vek_pohlavi_obec = vek_pohlavi[vek_pohlavi.uzemi_cis == 43]"
   ]
  },
  {
   "cell_type": "code",
   "execution_count": 12,
   "metadata": {},
   "outputs": [],
   "source": [
    "vals = vek_pohlavi_obec.set_index([\"uzemi_kod\", 'pohlavi_txt', \"vek_txt\"])['hodnota']"
   ]
  },
  {
   "cell_type": "code",
   "execution_count": 16,
   "metadata": {},
   "outputs": [
    {
     "data": {
      "text/plain": [
       "uzemi_kod  vek_txt       \n",
       "500011     0 - 9 let         324\n",
       "           10 - 19 let       312\n",
       "           100 a více let      0\n",
       "           20 - 29 let       306\n",
       "           30 - 39 let       484\n",
       "                            ... \n",
       "599999     50 - 59 let       666\n",
       "           60 - 69 let       628\n",
       "           70 - 79 let       482\n",
       "           80 - 89 let       164\n",
       "           90 - 99 let        14\n",
       "Name: hodnota, Length: 68794, dtype: int64"
      ]
     },
     "execution_count": 16,
     "metadata": {},
     "output_type": "execute_result"
    }
   ],
   "source": [
    "age_group_population = vals.groupby(level=[0, 2]).sum()\n",
    "age_group_population"
   ]
  },
  {
   "cell_type": "code",
   "execution_count": 20,
   "metadata": {},
   "outputs": [],
   "source": [
    "age_group_population = age_group_population.reset_index(level=1)"
   ]
  },
  {
   "cell_type": "code",
   "execution_count": 22,
   "metadata": {},
   "outputs": [],
   "source": [
    "mean_age = {\n",
    "    '0 - 9 let': 5, '10 - 19 let': 15, '100 a více let': 100, '20 - 29 let': 25,\n",
    "       '30 - 39 let': 35, '40 - 49 let': 45, '50 - 59 let': 55, '60 - 69 let': 65,\n",
    "       '70 - 79 let': 75, '80 - 89 let': 85, '90 - 99 let': 95\n",
    "}"
   ]
  },
  {
   "cell_type": "code",
   "execution_count": 23,
   "metadata": {},
   "outputs": [],
   "source": [
    "age_group_population['mean_age'] = age_group_population['vek_txt'].map(mean_age)"
   ]
  },
  {
   "cell_type": "code",
   "execution_count": 27,
   "metadata": {},
   "outputs": [],
   "source": [
    "age_group_population['weighted_age'] = age_group_population['hodnota'] * age_group_population['mean_age']\n",
    "mean_age_obec = age_group_population.groupby(level=0).apply(lambda group: group['weighted_age'].sum() / group['hodnota'].sum())"
   ]
  },
  {
   "cell_type": "code",
   "execution_count": 28,
   "metadata": {},
   "outputs": [
    {
     "data": {
      "text/plain": [
       "uzemi_kod\n",
       "500011    45.528343\n",
       "500020    44.782427\n",
       "500046    42.127722\n",
       "500062    42.579208\n",
       "500071    43.869464\n",
       "            ...    \n",
       "599930    41.399055\n",
       "599948    43.611194\n",
       "599956    40.730833\n",
       "599964    41.216216\n",
       "599999    41.640564\n",
       "Length: 6254, dtype: float64"
      ]
     },
     "execution_count": 28,
     "metadata": {},
     "output_type": "execute_result"
    }
   ],
   "source": [
    "mean_age_obec"
   ]
  },
  {
   "cell_type": "code",
   "execution_count": 29,
   "metadata": {},
   "outputs": [],
   "source": [
    "family_url  = \"https://csu.gov.cz/docs/107508/b9f83996-cebb-c134-114e-54d8462e2976/sldb2021_stav.csv?version=1.0\""
   ]
  },
  {
   "cell_type": "code",
   "execution_count": 30,
   "metadata": {},
   "outputs": [],
   "source": [
    "family = pd.read_csv(family_url)"
   ]
  },
  {
   "cell_type": "code",
   "execution_count": 42,
   "metadata": {},
   "outputs": [],
   "source": [
    "family = family[family.uzemi_cis == 43]"
   ]
  },
  {
   "cell_type": "code",
   "execution_count": 43,
   "metadata": {},
   "outputs": [],
   "source": [
    "stav = family.set_index(['uzemi_kod', 'stav_txt'])['hodnota']"
   ]
  },
  {
   "cell_type": "code",
   "execution_count": 44,
   "metadata": {},
   "outputs": [],
   "source": [
    "total_pop = stav.groupby(level=0).sum()"
   ]
  },
  {
   "cell_type": "code",
   "execution_count": 45,
   "metadata": {},
   "outputs": [
    {
     "data": {
      "text/plain": [
       "uzemi_kod  stav_txt                                                  \n",
       "500011     NaN                                                           1817\n",
       "           Svobodný/svobodná                                              671\n",
       "           Ženatý/vdaná                                                   823\n",
       "           Rozvedený/rozvedená                                            171\n",
       "           Vdovec/vdova                                                   142\n",
       "                                                                         ... \n",
       "599999     Vdovec/vdova                                                   163\n",
       "           Registrované partnerství trvající                                2\n",
       "           Registrované partnerství zaniklé rozhodnutím soudu               0\n",
       "           Registrované partnerství zaniklé úmrtím partnera/partnerky       0\n",
       "           Nezjištěno                                                       8\n",
       "Name: hodnota, Length: 56286, dtype: int64"
      ]
     },
     "execution_count": 45,
     "metadata": {},
     "output_type": "execute_result"
    }
   ],
   "source": [
    "stav"
   ]
  },
  {
   "cell_type": "code",
   "execution_count": 46,
   "metadata": {},
   "outputs": [],
   "source": [
    "divorces = stav[:, \"Rozvedený/rozvedená\"] / total_pop"
   ]
  },
  {
   "cell_type": "code",
   "execution_count": 48,
   "metadata": {},
   "outputs": [],
   "source": [
    "divorces.name = \"divorced\""
   ]
  },
  {
   "cell_type": "code",
   "execution_count": 49,
   "metadata": {},
   "outputs": [],
   "source": [
    "mean_age_obec.name = \"mean_age\""
   ]
  },
  {
   "cell_type": "code",
   "execution_count": null,
   "metadata": {},
   "outputs": [],
   "source": [
    "pd.concat([divorces, mean_age_obec], axis=1).to_csv(\"../../tree_regression/data/cz_age_divorces_2021.csv\")"
   ]
  },
  {
   "cell_type": "code",
   "execution_count": null,
   "metadata": {},
   "outputs": [],
   "source": []
  }
 ],
 "metadata": {
  "kernelspec": {
   "display_name": "default",
   "language": "python",
   "name": "python3"
  },
  "language_info": {
   "codemirror_mode": {
    "name": "ipython",
    "version": 3
   },
   "file_extension": ".py",
   "mimetype": "text/x-python",
   "name": "python",
   "nbconvert_exporter": "python",
   "pygments_lexer": "ipython3",
   "version": "3.12.5"
  }
 },
 "nbformat": 4,
 "nbformat_minor": 2
}
