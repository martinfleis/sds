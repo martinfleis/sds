{
  "cells": [
    {
      "cell_type": "markdown",
      "metadata": {},
      "source": [
        "# Classification in space\n",
        "\n",
        "As with regressions, both linear and non-linear, classification belongs\n",
        "to the realm of supervised machine learning. Right now, you should now\n",
        "how to deal with prediction of continuous variables and how to evaluate\n",
        "the model performance using the spatial dimension. In this chapter, you\n",
        "will learn how to predict categorical variables - classes, while\n",
        "outlining methods of introducing spatial dimension to commonly used\n",
        "machine learning models and make use of space to train much better model\n",
        "than without it.\n",
        "\n",
        "> **This is not an introduction to ML**\n",
        ">\n",
        "> Note that this material does not aim to cover an introduction to\n",
        "> machine learning thoroughly. There are other, much better materials\n",
        "> for that. One of them can be [scikit-learn’s User\n",
        "> guide](https://scikit-learn.org/stable/user_guide.html), but I am sure\n",
        "> you will find one that suits you."
      ],
      "id": "7323b002-8542-42ac-a952-36bc275cc123"
    },
    {
      "cell_type": "code",
      "execution_count": 2,
      "metadata": {},
      "outputs": [],
      "source": [
        "import geopandas as gpd\n",
        "import matplotlib.pyplot as plt\n",
        "import numpy as np\n",
        "import pandas as pd\n",
        "import shapely\n",
        "from libpysal import graph\n",
        "from sklearn import ensemble, metrics, model_selection"
      ],
      "id": "d5180e2b"
    },
    {
      "cell_type": "markdown",
      "metadata": {},
      "source": [
        "## Data\n",
        "\n",
        "The data you will work with today comes from the study on the urban\n",
        "development of Prague, published in @fleischmann2022Methodological. The\n",
        "original dataset is significantly simplified for the purpose of this\n",
        "material and contains point data reflecting the location of buildings in\n",
        "Prague with a subset of measured attributes describing each one and\n",
        "(aggregated) type of urban development they belong to. The type is a\n",
        "categorical variable that will be your dependent variable today. The\n",
        "goal is to use the other variables and spatial information to predict\n",
        "which type each building belongs to.\n",
        "\n",
        "> **Caution**\n",
        ">\n",
        "> The dataset contains ~140k points, so I don’t recommend using\n",
        "> `explore()` on all of it."
      ],
      "id": "0c6de242-c7f1-4947-8466-31e18b534cdc"
    },
    {
      "cell_type": "code",
      "execution_count": 3,
      "metadata": {},
      "outputs": [
        {
          "output_type": "display_data",
          "metadata": {},
          "data": {
            "text/html": [
              "\n",
              "</div>"
            ]
          }
        }
      ],
      "source": [
        "building_data = gpd.read_file(\n",
        "  \"https://martinfleischmann.net/sds/classification/data/prg_building_locations.gpkg\",\n",
        ")\n",
        "building_data.head()"
      ],
      "id": "af0abe71"
    },
    {
      "cell_type": "markdown",
      "metadata": {},
      "source": [
        "> **Alternative**\n",
        ">\n",
        "> Instead of reading the file directly off the web, it is possible to\n",
        "> download it manually, store it on your computer, and read it locally.\n",
        "> To do that, you can follow these steps:\n",
        ">\n",
        "> 1.  Download the file by right-clicking on [this\n",
        ">     link](https://martinfleischmann.net/sds/classification/data/prg_building_locations.gpkg)\n",
        ">     and saving the file\n",
        "> 2.  Place the file in the same folder as the notebook where you intend\n",
        ">     to read it\n",
        "> 3.  Replace the code in the cell above with:\n",
        ">\n",
        "> ``` python\n",
        "> building_data = gpd.read_file(\n",
        ">     \"prg_building_locations.gpkg\",\n",
        "> )\n",
        "> ```\n",
        "\n",
        "The original taxonomy has been re-classified to provide eight types of\n",
        "urban development shown in the figure below."
      ],
      "id": "39bd4a28-9687-47de-9488-cc4f07e60299"
    },
    {
      "cell_type": "code",
      "execution_count": 4,
      "metadata": {},
      "outputs": [
        {
          "output_type": "display_data",
          "metadata": {},
          "data": {}
        }
      ],
      "source": [
        "ax = building_data.plot(\n",
        "    \"cluster\", legend=True, figsize=(9, 9), markersize=0.005\n",
        ")\n",
        "ax.set_axis_off()"
      ],
      "id": "2011ba47"
    },
    {
      "cell_type": "markdown",
      "metadata": {},
      "source": [
        "List the columns containing some numerical value and save it as a\n",
        "variable. There are six of them out of the original few hundred."
      ],
      "id": "b1d891fd-6064-46af-bae0-cccb8240d749"
    },
    {
      "cell_type": "code",
      "execution_count": 5,
      "metadata": {},
      "outputs": [],
      "source": [
        "independent_variables = [\n",
        "    \"floor_area_ratio\",\n",
        "    \"height\",\n",
        "    \"compactness\",\n",
        "    \"street_alignment\",\n",
        "    \"interbuilding_distance\",\n",
        "    \"block_perimeter_wall_length\",\n",
        "]"
      ],
      "id": "f7883f8c"
    },
    {
      "cell_type": "markdown",
      "metadata": {},
      "source": [
        "It may be helpful to understand the spatial distribution of each of them\n",
        "to know what to expect, and build an intuition about their relationship\n",
        "with the classification above."
      ],
      "id": "da96f37f-6574-4c02-b5ae-f5e71d2d4d10"
    },
    {
      "cell_type": "code",
      "execution_count": 6,
      "metadata": {},
      "outputs": [
        {
          "output_type": "display_data",
          "metadata": {},
          "data": {}
        }
      ],
      "source": [
        "fig, axs = plt.subplots(3, 2, figsize=(9, 9))\n",
        "axs = axs.flatten()\n",
        "for i, var in enumerate(independent_variables):\n",
        "    building_data.plot(var, markersize=0.01, cmap=\"bone_r\", ax=axs[i])\n",
        "    axs[i].set_title(var, fontdict={\"fontsize\": 8})\n",
        "    axs[i].set_axis_off()"
      ],
      "id": "6384cfed"
    },
    {
      "cell_type": "markdown",
      "metadata": {},
      "source": [
        "## Classification 101\n",
        "\n",
        "The main task of today is to train classification models using the\n",
        "`scikit-learn`, so let’s begin.\n",
        "\n",
        "### Data preparation\n",
        "\n",
        "The dataset contains a bit over 140k points. While more data tend to\n",
        "bring additional performance to ML models, the relationship is far from\n",
        "linear, and you often get nearly as performant models using just a\n",
        "fraction of data. Moreover, it takes longer to train on more data :).\n",
        "\n",
        "Select a random sample of 20k points you will work with. You can later\n",
        "test for yourself how big of an effect the size of the sample has."
      ],
      "id": "674c0e5e-1e51-4373-a99c-4e078c13b047"
    },
    {
      "cell_type": "code",
      "execution_count": 7,
      "metadata": {},
      "outputs": [],
      "source": [
        "training_sample = building_data.sample(20_000, random_state=0)"
      ],
      "id": "bf0350e1"
    },
    {
      "cell_type": "markdown",
      "metadata": {},
      "source": [
        "From the sample, extract the `DataFrame` with just the independent\n",
        "variables for the simplicity."
      ],
      "id": "1ba39311-c38f-408b-b6d7-dc072a5cf566"
    },
    {
      "cell_type": "code",
      "execution_count": 8,
      "metadata": {},
      "outputs": [
        {
          "output_type": "display_data",
          "metadata": {},
          "data": {
            "text/html": [
              "\n",
              "</div>"
            ]
          }
        }
      ],
      "source": [
        "independent = training_sample[independent_variables]\n",
        "independent.head(2)"
      ],
      "id": "c925b653"
    },
    {
      "cell_type": "markdown",
      "metadata": {},
      "source": [
        "### Train-test split\n",
        "\n",
        "You already know what train-test split is from the last session. The\n",
        "same code used for regression can be used for classification (now)."
      ],
      "id": "f4e11966-c635-4b86-b575-6d7ef41671aa"
    },
    {
      "cell_type": "code",
      "execution_count": 9,
      "metadata": {},
      "outputs": [],
      "source": [
        "X_train, X_test, y_train, y_test = model_selection.train_test_split(\n",
        "    independent, training_sample[\"cluster\"], test_size=0.25, random_state=0\n",
        ")"
      ],
      "id": "1410a078"
    },
    {
      "cell_type": "markdown",
      "metadata": {},
      "source": [
        "### Random Forest Classifier\n",
        "\n",
        "As the last time, let’s not overcomplicate your life with overview of\n",
        "various model architectures. The goal of today is to learn how to\n",
        "include the spatial dimension in them and that is the same for most of\n",
        "them. Pick a random forest classifier and fit the baseline model without\n",
        "thinking about space and geography at all."
      ],
      "id": "a14808d7-fb21-44f9-89ff-718812caa7ba"
    },
    {
      "cell_type": "code",
      "execution_count": 10,
      "metadata": {},
      "outputs": [
        {
          "output_type": "display_data",
          "metadata": {},
          "data": {
            "text/html": [
              "\n",
              "            </details>\n",
              "        </div>\n",
              "    </div></div></div></div></div><script>function copyToClipboard(text, element) {\n",
              "    // Get the parameter prefix from the closest toggleable content\n",
              "    const toggleableContent = element.closest('.sk-toggleable__content');\n",
              "    const paramPrefix = toggleableContent ? toggleableContent.dataset.paramPrefix : '';\n",
              "    const fullParamName = paramPrefix ? `${paramPrefix}${text}` : text;\n",
              "\n",
              "    const originalStyle = element.style;\n",
              "    const computedStyle = window.getComputedStyle(element);\n",
              "    const originalWidth = computedStyle.width;\n",
              "    const originalHTML = element.innerHTML.replace('Copied!', '');\n",
              "\n",
              "    navigator.clipboard.writeText(fullParamName)\n",
              "        .then(() => {\n",
              "            element.style.width = originalWidth;\n",
              "            element.style.color = 'green';\n",
              "            element.innerHTML = \"Copied!\";\n",
              "\n",
              "            setTimeout(() => {\n",
              "                element.innerHTML = originalHTML;\n",
              "                element.style = originalStyle;\n",
              "            }, 2000);\n",
              "        })\n",
              "        .catch(err => {\n",
              "            console.error('Failed to copy:', err);\n",
              "            element.style.color = 'red';\n",
              "            element.innerHTML = \"Failed!\";\n",
              "            setTimeout(() => {\n",
              "                element.innerHTML = originalHTML;\n",
              "                element.style = originalStyle;\n",
              "            }, 2000);\n",
              "        });\n",
              "    return false;\n",
              "}\n",
              "\n",
              "document.querySelectorAll('.fa-regular.fa-copy').forEach(function(element) {\n",
              "    const toggleableContent = element.closest('.sk-toggleable__content');\n",
              "    const paramPrefix = toggleableContent ? toggleableContent.dataset.paramPrefix : '';\n",
              "    const paramName = element.parentElement.nextElementSibling.textContent.trim();\n",
              "    const fullParamName = paramPrefix ? `${paramPrefix}${paramName}` : paramName;\n",
              "\n",
              "    element.setAttribute('title', fullParamName);\n",
              "});\n",
              "</script></body>"
            ]
          }
        }
      ],
      "source": [
        "model = ensemble.RandomForestClassifier(random_state=0, n_jobs=-1)\n",
        "model.fit(X_train, y_train)"
      ],
      "id": "11d8f5a7"
    },
    {
      "cell_type": "markdown",
      "metadata": {},
      "source": [
        "#### Prediction\n",
        "\n",
        "The trained model can be directly used to predict the classes (type of\n",
        "development in this case). Using the test portion of data, you can get\n",
        "the predicted label:"
      ],
      "id": "dd5a581c-0841-499c-b9c1-8b2ff07c1c3e"
    },
    {
      "cell_type": "code",
      "execution_count": 11,
      "metadata": {},
      "outputs": [
        {
          "output_type": "display_data",
          "metadata": {},
          "data": {
            "text/plain": [
              "array(['single family housing', 'single family housing', 'medieval city',\n",
              "       ..., 'single family housing', 'grids', 'single family housing'],\n",
              "      shape=(5000,), dtype=object)"
            ]
          }
        }
      ],
      "source": [
        "pred = model.predict(X_test)\n",
        "pred"
      ],
      "id": "e408a46c"
    },
    {
      "cell_type": "markdown",
      "metadata": {},
      "source": [
        "Or probabilities for every single class. The class prediction above just\n",
        "involves selecting the one with the maximum probability."
      ],
      "id": "c269d01b-ae13-46cf-9367-36b4eed955e5"
    },
    {
      "cell_type": "code",
      "execution_count": 12,
      "metadata": {},
      "outputs": [
        {
          "output_type": "display_data",
          "metadata": {},
          "data": {
            "text/plain": [
              "array([[0.02, 0.18, 0.06, ..., 0.04, 0.42, 0.25],\n",
              "       [0.01, 0.  , 0.  , ..., 0.13, 0.86, 0.  ],\n",
              "       [0.  , 0.19, 0.  , ..., 0.  , 0.  , 0.  ],\n",
              "       ...,\n",
              "       [0.03, 0.08, 0.  , ..., 0.06, 0.5 , 0.33],\n",
              "       [0.  , 0.99, 0.  , ..., 0.  , 0.  , 0.01],\n",
              "       [0.07, 0.18, 0.04, ..., 0.  , 0.52, 0.08]], shape=(5000, 8))"
            ]
          }
        }
      ],
      "source": [
        "proba = model.predict_proba(X_test)\n",
        "proba"
      ],
      "id": "88efa54f"
    },
    {
      "cell_type": "markdown",
      "metadata": {},
      "source": [
        "Both outputs are numpy arrays, but the probabilities would be especially\n",
        "helpful to see as a `DataFrame` with column names representing class\n",
        "names. Those are available as `.classes_`:"
      ],
      "id": "24b888c6-e8cc-42b2-97dd-2a0f2f9b784c"
    },
    {
      "cell_type": "code",
      "execution_count": 13,
      "metadata": {},
      "outputs": [
        {
          "output_type": "display_data",
          "metadata": {},
          "data": {
            "text/plain": [
              "array(['fringe development', 'grids', 'housing estates',\n",
              "       'large-scale industry', 'medieval city', 'periphery',\n",
              "       'single family housing', 'small-scale row houses'], dtype=object)"
            ]
          }
        }
      ],
      "source": [
        "model.classes_"
      ],
      "id": "b3c217b2"
    },
    {
      "cell_type": "markdown",
      "metadata": {},
      "source": [
        "You can quickly combine it all with the original index to get a\n",
        "`DataFrame` of probabilities."
      ],
      "id": "7f2fbb0b-95ae-425b-81a7-406ba1b35b6e"
    },
    {
      "cell_type": "code",
      "execution_count": 14,
      "metadata": {},
      "outputs": [
        {
          "output_type": "display_data",
          "metadata": {},
          "data": {
            "text/html": [
              "\n",
              "<p>5000 rows × 8 columns</p>\n",
              "</div>"
            ]
          }
        }
      ],
      "source": [
        "pd.DataFrame(proba, columns=model.classes_, index=X_test.index)"
      ],
      "id": "8fb622ea"
    },
    {
      "cell_type": "markdown",
      "metadata": {},
      "source": [
        "#### Evaluation\n",
        "\n",
        "Now comes the evaluation part. Normally, you are interested in a number\n",
        "of performance metrics capturing how good the model is. Among the most\n",
        "common ones are *accuracy* and *Cohen’s kappa score*. Accuracy captures\n",
        "the fraction of correct predictions, i.e., how many labels in the\n",
        "predicted array equal the known labels. [Kappa\n",
        "score](https://en.wikipedia.org/wiki/Cohen%27s_kappa) is seen as a more\n",
        "robust metric but not straightforwardly interpretable."
      ],
      "id": "04779411-4a4f-43e9-a11f-fb60a18a1287"
    },
    {
      "cell_type": "code",
      "execution_count": 15,
      "metadata": {},
      "outputs": [
        {
          "output_type": "stream",
          "name": "stdout",
          "text": [
            "Evaluation metrics\n",
            "==================\n",
            "Basic model:\n",
            "  Accuracy: 0.585\n",
            "  Kappa:    0.451\n"
          ]
        }
      ],
      "source": [
        "accuracy = metrics.accuracy_score(pred, y_test)\n",
        "kappa = metrics.cohen_kappa_score(pred, y_test)\n",
        "\n",
        "summary = f\"\"\"\\\n",
        "Evaluation metrics\n",
        "==================\n",
        "Basic model:\n",
        "  Accuracy: {round(accuracy, 3)}\n",
        "  Kappa:    {round(kappa, 3)}\n",
        "\"\"\"\n",
        "\n",
        "print(summary)"
      ],
      "id": "d44bc604"
    },
    {
      "cell_type": "markdown",
      "metadata": {},
      "source": [
        "The results are not bad, considering the limited amount of information\n",
        "provided in independent variables. Around 58% of labels are correctly\n",
        "predicted.\n",
        "\n",
        "Apart from the model performance, you can also evaluate how important\n",
        "each of the independent variables for the result is using the\n",
        "`.feature_importances_` metric. Again, wrapping it in a pandas object is\n",
        "useful to get feature names alongside the values."
      ],
      "id": "e6380120-b0c6-4016-b692-fb4db785d6fc"
    },
    {
      "cell_type": "code",
      "execution_count": 16,
      "metadata": {},
      "outputs": [
        {
          "output_type": "display_data",
          "metadata": {},
          "data": {
            "text/plain": [
              "compactness                    0.125290\n",
              "street_alignment               0.125377\n",
              "floor_area_ratio               0.166264\n",
              "height                         0.174755\n",
              "block_perimeter_wall_length    0.187369\n",
              "interbuilding_distance         0.220944\n",
              "dtype: float64"
            ]
          }
        }
      ],
      "source": [
        "pd.Series(model.feature_importances_, index=model.feature_names_in_).sort_values()"
      ],
      "id": "eeee77b7"
    },
    {
      "cell_type": "markdown",
      "metadata": {},
      "source": [
        "There seems to be a relatively good balance of importance ranging from\n",
        "12% for compactness to 22% for inter-building distance. Check if that\n",
        "matches our intuition in relation to the spatial distribution of each of\n",
        "them.\n",
        "\n",
        "### Cross-validated prediction\n",
        "\n",
        "To get a full map, we need to use cross-validated prediction once again.\n",
        "For the detailed explanation see the previous chapter on non-linear\n",
        "regression."
      ],
      "id": "9032cf4c-b044-4ae7-b75e-cd1675791393"
    },
    {
      "cell_type": "code",
      "execution_count": 17,
      "metadata": {},
      "outputs": [
        {
          "output_type": "display_data",
          "metadata": {},
          "data": {}
        }
      ],
      "source": [
        "predicted = model_selection.cross_val_predict(\n",
        "    model, independent, training_sample[\"cluster\"], cv=4, n_jobs=-1\n",
        ")\n",
        "\n",
        "ax = training_sample.plot(predicted, legend=True, figsize=(9, 9), markersize=0.1)\n",
        "ax.set_axis_off()"
      ],
      "id": "cda5046d"
    },
    {
      "cell_type": "markdown",
      "metadata": {},
      "source": [
        "What CV-prediction allows to not only plot the labels but importantly to\n",
        "plot the spatial pattern of errors."
      ],
      "id": "4ea9b3fb-7538-48cc-9105-f7eaebe8c8e9"
    },
    {
      "cell_type": "code",
      "execution_count": 18,
      "metadata": {},
      "outputs": [
        {
          "output_type": "display_data",
          "metadata": {},
          "data": {}
        }
      ],
      "source": [
        "ax = training_sample.plot(\n",
        "    predicted == training_sample[\"cluster\"],\n",
        "    categorical=True,\n",
        "    figsize=(9, 9),\n",
        "    markersize=0.1,\n",
        "    cmap=\"bwr_r\",\n",
        "    legend=True,\n",
        ")\n",
        "ax.set_axis_off()"
      ],
      "id": "e87744f8"
    },
    {
      "cell_type": "markdown",
      "metadata": {},
      "source": [
        "As with the linear regression, a spatial autocorrelation of errors means\n",
        "that the model does not represent space reliably and may need some\n",
        "adaptations.\n",
        "\n",
        "## Spatial cross-validation\n",
        "\n",
        "The same discussed in the regression chapter applies to classification.\n",
        "Spaital leakage caused by spatial dependency is a real problem and needs\n",
        "to be mitigated.\n",
        "\n",
        "You can do that based on many criteria, but it is handy to have a\n",
        "variable representing those regions as the `\"basic_settlement_unit\"`\n",
        "column in your DataFrame.\n",
        "\n",
        "With a categorical column indicating groups, you can use the\n",
        "`StratifiedGroupKFold` class from the `scikit-learn` to create the\n",
        "folds. Stratified K-fold not only ensures that the data is split by\n",
        "groups but also that there is a roughly equal proportion of classes\n",
        "within each split."
      ],
      "id": "f0a0ec63-96b4-4630-ad3c-81a9bda2b718"
    },
    {
      "cell_type": "code",
      "execution_count": 19,
      "metadata": {},
      "outputs": [],
      "source": [
        "gkf = model_selection.StratifiedGroupKFold(n_splits=5)\n",
        "splits = gkf.split(\n",
        "    training_sample,\n",
        "    training_sample.cluster,\n",
        "    groups=training_sample.basic_settlement_unit,\n",
        ")"
      ],
      "id": "5a174197"
    },
    {
      "cell_type": "markdown",
      "metadata": {},
      "source": [
        "The `splits` variable now contains an iterator - an object we can loop\n",
        "through that gives you train and test parts for each split. You can\n",
        "easily extract the labels indicating the splits:"
      ],
      "id": "34471aaa-4939-44f6-9abb-c2fb6ae80a1e"
    },
    {
      "cell_type": "code",
      "execution_count": 20,
      "metadata": {},
      "outputs": [],
      "source": [
        "split_label = np.empty(len(training_sample), dtype=float)\n",
        "for i, (train, test) in enumerate(splits):\n",
        "    split_label[test] = i\n",
        "training_sample[\"split\"] = split_label"
      ],
      "id": "8873f91c"
    },
    {
      "cell_type": "markdown",
      "metadata": {},
      "source": [
        "With the labels extracted from `StratifiedGroupKFold`, you can plot the\n",
        "splits on a map."
      ],
      "id": "c3daa6ff-d7ac-49e9-8364-0ce2b4ffcd1d"
    },
    {
      "cell_type": "code",
      "execution_count": 21,
      "metadata": {},
      "outputs": [
        {
          "output_type": "display_data",
          "metadata": {},
          "data": {}
        }
      ],
      "source": [
        "ax = training_sample.plot(\n",
        "  \"split\", categorical=True, figsize=(9, 9), markersize=0.1, legend=True\n",
        ")\n",
        "training_sample.dissolve(\"basic_settlement_unit\").convex_hull.boundary.plot(\n",
        "    ax=ax, color=\"k\", linewidth=0.5, markersize=0\n",
        ")\n",
        "ax.set_axis_off()"
      ],
      "id": "bb3296f7"
    },
    {
      "cell_type": "markdown",
      "metadata": {},
      "source": [
        "With the new, and arguably better train-test, split, you can create new\n",
        "training and evaluation data. You can use the split with the label `0`\n",
        "as a test part and the rest as a train part."
      ],
      "id": "a1a58a14-3d09-41d0-9c0b-b4d178e9c204"
    },
    {
      "cell_type": "code",
      "execution_count": 22,
      "metadata": {},
      "outputs": [],
      "source": [
        "train = training_sample[\"split\"] != 0\n",
        "X_train = independent.loc[train]\n",
        "y_train = training_sample[\"cluster\"].loc[train]\n",
        "\n",
        "test = training_sample[\"split\"] == 0\n",
        "X_test = independent.loc[test]\n",
        "y_test = training_sample[\"cluster\"].loc[test]"
      ],
      "id": "810f7d30"
    },
    {
      "cell_type": "markdown",
      "metadata": {},
      "source": [
        "New data require a new model."
      ],
      "id": "5b24f693-fcfd-4e3c-b67d-d25582eb80a6"
    },
    {
      "cell_type": "code",
      "execution_count": 23,
      "metadata": {},
      "outputs": [
        {
          "output_type": "display_data",
          "metadata": {},
          "data": {
            "text/html": [
              "\n",
              "            </details>\n",
              "        </div>\n",
              "    </div></div></div></div></div><script>function copyToClipboard(text, element) {\n",
              "    // Get the parameter prefix from the closest toggleable content\n",
              "    const toggleableContent = element.closest('.sk-toggleable__content');\n",
              "    const paramPrefix = toggleableContent ? toggleableContent.dataset.paramPrefix : '';\n",
              "    const fullParamName = paramPrefix ? `${paramPrefix}${text}` : text;\n",
              "\n",
              "    const originalStyle = element.style;\n",
              "    const computedStyle = window.getComputedStyle(element);\n",
              "    const originalWidth = computedStyle.width;\n",
              "    const originalHTML = element.innerHTML.replace('Copied!', '');\n",
              "\n",
              "    navigator.clipboard.writeText(fullParamName)\n",
              "        .then(() => {\n",
              "            element.style.width = originalWidth;\n",
              "            element.style.color = 'green';\n",
              "            element.innerHTML = \"Copied!\";\n",
              "\n",
              "            setTimeout(() => {\n",
              "                element.innerHTML = originalHTML;\n",
              "                element.style = originalStyle;\n",
              "            }, 2000);\n",
              "        })\n",
              "        .catch(err => {\n",
              "            console.error('Failed to copy:', err);\n",
              "            element.style.color = 'red';\n",
              "            element.innerHTML = \"Failed!\";\n",
              "            setTimeout(() => {\n",
              "                element.innerHTML = originalHTML;\n",
              "                element.style = originalStyle;\n",
              "            }, 2000);\n",
              "        });\n",
              "    return false;\n",
              "}\n",
              "\n",
              "document.querySelectorAll('.fa-regular.fa-copy').forEach(function(element) {\n",
              "    const toggleableContent = element.closest('.sk-toggleable__content');\n",
              "    const paramPrefix = toggleableContent ? toggleableContent.dataset.paramPrefix : '';\n",
              "    const paramName = element.parentElement.nextElementSibling.textContent.trim();\n",
              "    const fullParamName = paramPrefix ? `${paramPrefix}${paramName}` : paramName;\n",
              "\n",
              "    element.setAttribute('title', fullParamName);\n",
              "});\n",
              "</script></body>"
            ]
          }
        }
      ],
      "source": [
        "rf_spatial_cv = ensemble.RandomForestClassifier(random_state=0, n_jobs=-1)\n",
        "rf_spatial_cv.fit(X_train, y_train)"
      ],
      "id": "ff1a3387"
    },
    {
      "cell_type": "markdown",
      "metadata": {},
      "source": [
        "And its evaluation. Just use `+=` to add to the existing summary."
      ],
      "id": "872a2b0a-c489-4076-b030-b324df269034"
    },
    {
      "cell_type": "code",
      "execution_count": 24,
      "metadata": {},
      "outputs": [
        {
          "output_type": "stream",
          "name": "stdout",
          "text": [
            "Evaluation metrics\n",
            "==================\n",
            "Basic model:\n",
            "  Accuracy: 0.585\n",
            "  Kappa:    0.451\n",
            "Basic model with spatial cross-validation:\n",
            "  Accuracy: 0.569\n",
            "  Kappa:    0.417\n"
          ]
        }
      ],
      "source": [
        "pred = rf_spatial_cv.predict(X_test)\n",
        "\n",
        "accuracy_spatial_cv = metrics.accuracy_score(pred, y_test)\n",
        "kappa_spatial_cv = metrics.cohen_kappa_score(pred, y_test)\n",
        "\n",
        "summary += f\"\"\"\\\n",
        "Basic model with spatial cross-validation:\n",
        "  Accuracy: {round(accuracy_spatial_cv, 3)}\n",
        "  Kappa:    {round(kappa_spatial_cv, 3)}\n",
        "\"\"\"\n",
        "\n",
        "print(summary)"
      ],
      "id": "614138b8"
    },
    {
      "cell_type": "markdown",
      "metadata": {},
      "source": [
        "The results are marginally worse, but that is expected. It means that\n",
        "the original model was indeed a bit leaking! The model based on the\n",
        "spatial CV should be more robust than the previous one, meaning that it\n",
        "should perform as expected on unseen data.\n",
        "\n",
        "The result is worse on paper but is now more spatially robust - it will\n",
        "generalize better on unseen data.\n",
        "\n",
        "## Feature engineering\n",
        "\n",
        "Sometimes, the original data is just not enough for a decent prediction.\n",
        "At that point, you may want to include some other variables that would\n",
        "help, but they may not be readily available, and you need to create\n",
        "them.\n",
        "\n",
        "The first option is to look at the data you have and extract some\n",
        "additional information from it using methods known as map synthesis.\n",
        "\n",
        "### Map synthesis\n",
        "\n",
        "Map synthesis uses the spatial structure of the data to derive new\n",
        "features. There’s no external input, you simply put geography at work.\n",
        "\n",
        "#### Point density\n",
        "\n",
        "There are methods of map synthesis that work directly with existing\n",
        "values, and there are those that look solely at the spatial distribution\n",
        "of your data. One example of the latter is a measurement of point\n",
        "density (number of neighbors within a distance band).\n",
        "\n",
        "You should already know how to do that using the `graph` module of\n",
        "`libpysal`. Create a `Graph` and extract its cardinalities (the number\n",
        "of neighbors)."
      ],
      "id": "b598307a-71be-4336-b922-f26dbab0373d"
    },
    {
      "cell_type": "code",
      "execution_count": 25,
      "metadata": {},
      "outputs": [],
      "source": [
        "distance_200 = graph.Graph.build_distance_band(training_sample, 200)\n",
        "training_sample[\"points_in_200m\"] = distance_200.cardinalities"
      ],
      "id": "06814a14"
    },
    {
      "cell_type": "markdown",
      "metadata": {},
      "source": [
        "Let’s check if the result has some meaningful spatial pattern."
      ],
      "id": "a2f0b818-dae5-4b6e-a363-9cc01fb1950d"
    },
    {
      "cell_type": "code",
      "execution_count": 26,
      "metadata": {},
      "outputs": [
        {
          "output_type": "display_data",
          "metadata": {},
          "data": {}
        }
      ],
      "source": [
        "ax = training_sample.plot(\"points_in_200m\", figsize=(9, 9), markersize=0.1)\n",
        "ax.set_axis_off()"
      ],
      "id": "e3be6852"
    },
    {
      "cell_type": "markdown",
      "metadata": {},
      "source": [
        "It is not a strong one, but there are clear pockets of the higher point\n",
        "density, so this new column can help with the prediction accuracy.\n",
        "Create a new set of independent variables, including the new one, and\n",
        "generate new training and evaluation data."
      ],
      "id": "0855cb42-ec57-4af4-82e5-7c4ee2145591"
    },
    {
      "cell_type": "code",
      "execution_count": 27,
      "metadata": {},
      "outputs": [],
      "source": [
        "independent_proximity = training_sample[\n",
        "    independent_variables + [\"points_in_200m\"]\n",
        "]\n",
        "\n",
        "X_train = independent_proximity.loc[train]\n",
        "y_train = training_sample[\"cluster\"].loc[train]\n",
        "\n",
        "X_test = independent_proximity.loc[test]\n",
        "y_test = training_sample[\"cluster\"].loc[test]"
      ],
      "id": "82391a0c"
    },
    {
      "cell_type": "markdown",
      "metadata": {},
      "source": [
        "The rest is simply rinse and repeat. Create the model and train it on\n",
        "new data."
      ],
      "id": "6c5b1ac5-ba37-4c52-8eea-f209c282afbe"
    },
    {
      "cell_type": "code",
      "execution_count": 28,
      "metadata": {},
      "outputs": [
        {
          "output_type": "display_data",
          "metadata": {},
          "data": {
            "text/html": [
              "\n",
              "            </details>\n",
              "        </div>\n",
              "    </div></div></div></div></div><script>function copyToClipboard(text, element) {\n",
              "    // Get the parameter prefix from the closest toggleable content\n",
              "    const toggleableContent = element.closest('.sk-toggleable__content');\n",
              "    const paramPrefix = toggleableContent ? toggleableContent.dataset.paramPrefix : '';\n",
              "    const fullParamName = paramPrefix ? `${paramPrefix}${text}` : text;\n",
              "\n",
              "    const originalStyle = element.style;\n",
              "    const computedStyle = window.getComputedStyle(element);\n",
              "    const originalWidth = computedStyle.width;\n",
              "    const originalHTML = element.innerHTML.replace('Copied!', '');\n",
              "\n",
              "    navigator.clipboard.writeText(fullParamName)\n",
              "        .then(() => {\n",
              "            element.style.width = originalWidth;\n",
              "            element.style.color = 'green';\n",
              "            element.innerHTML = \"Copied!\";\n",
              "\n",
              "            setTimeout(() => {\n",
              "                element.innerHTML = originalHTML;\n",
              "                element.style = originalStyle;\n",
              "            }, 2000);\n",
              "        })\n",
              "        .catch(err => {\n",
              "            console.error('Failed to copy:', err);\n",
              "            element.style.color = 'red';\n",
              "            element.innerHTML = \"Failed!\";\n",
              "            setTimeout(() => {\n",
              "                element.innerHTML = originalHTML;\n",
              "                element.style = originalStyle;\n",
              "            }, 2000);\n",
              "        });\n",
              "    return false;\n",
              "}\n",
              "\n",
              "document.querySelectorAll('.fa-regular.fa-copy').forEach(function(element) {\n",
              "    const toggleableContent = element.closest('.sk-toggleable__content');\n",
              "    const paramPrefix = toggleableContent ? toggleableContent.dataset.paramPrefix : '';\n",
              "    const paramName = element.parentElement.nextElementSibling.textContent.trim();\n",
              "    const fullParamName = paramPrefix ? `${paramPrefix}${paramName}` : paramName;\n",
              "\n",
              "    element.setAttribute('title', fullParamName);\n",
              "});\n",
              "</script></body>"
            ]
          }
        }
      ],
      "source": [
        "rf_proximity = ensemble.RandomForestClassifier(random_state=0, n_jobs=-1)\n",
        "rf_proximity.fit(X_train, y_train)"
      ],
      "id": "014b8d3e"
    },
    {
      "cell_type": "markdown",
      "metadata": {},
      "source": [
        "And evaluate it in the same way as before."
      ],
      "id": "6797e8bf-ea07-4b24-8ea0-9380fcf2cfac"
    },
    {
      "cell_type": "code",
      "execution_count": 29,
      "metadata": {},
      "outputs": [
        {
          "output_type": "stream",
          "name": "stdout",
          "text": [
            "Evaluation metrics\n",
            "==================\n",
            "Basic model:\n",
            "  Accuracy: 0.585\n",
            "  Kappa:    0.451\n",
            "Basic model with spatial cross-validation:\n",
            "  Accuracy: 0.569\n",
            "  Kappa:    0.417\n",
            "Points within 200m (spatial CV):\n",
            "  Accuracy: 0.598\n",
            "  Kappa:    0.46\n"
          ]
        }
      ],
      "source": [
        "pred = rf_proximity.predict(X_test)\n",
        "\n",
        "accuracy_proximity = metrics.accuracy_score(pred, y_test)\n",
        "kappa_proximity = metrics.cohen_kappa_score(pred, y_test)\n",
        "\n",
        "summary += f\"\"\"\\\n",
        "Points within 200m (spatial CV):\n",
        "  Accuracy: {round(accuracy_proximity, 3)}\n",
        "  Kappa:    {round(kappa_proximity, 3)}\n",
        "\"\"\"\n",
        "print(summary)"
      ],
      "id": "dcd0ad34"
    },
    {
      "cell_type": "markdown",
      "metadata": {},
      "source": [
        "Remember that your baseline model is the *Basic model with spatial\n",
        "cross-validation*. Compared to that, the performance of the new model is\n",
        "a bit better, especially when looking at Cohen’s kappa. It seems that\n",
        "the point density brings some value. You can check how important it is\n",
        "compared to the original variables."
      ],
      "id": "9d904bb6-6ae3-4f5b-a124-014487d33c04"
    },
    {
      "cell_type": "code",
      "execution_count": 30,
      "metadata": {},
      "outputs": [
        {
          "output_type": "display_data",
          "metadata": {},
          "data": {
            "text/plain": [
              "compactness                    0.108826\n",
              "street_alignment               0.109491\n",
              "points_in_200m                 0.126702\n",
              "floor_area_ratio               0.146126\n",
              "height                         0.159025\n",
              "block_perimeter_wall_length    0.173752\n",
              "interbuilding_distance         0.176079\n",
              "dtype: float64"
            ]
          }
        }
      ],
      "source": [
        "pd.Series(\n",
        "    rf_proximity.feature_importances_, index=rf_proximity.feature_names_in_\n",
        ").sort_values()"
      ],
      "id": "caa889e6"
    },
    {
      "cell_type": "markdown",
      "metadata": {},
      "source": [
        "It seems that not that much, but each percent of accuracy counts.\n",
        "\n",
        "Point density is just one example, and there are many more. Below, when\n",
        "dealing with spatial dependence, you’ll get back to map synthesis once\n",
        "again. But before that, let’s use some external data to improve the\n",
        "model.\n",
        "\n",
        "### Proximity variables\n",
        "\n",
        "Sometimes, you may have an assumption that a distance to a specific\n",
        "location or a set of locations makes a difference to the spatial\n",
        "distribution of the dependent variable, and the inclusion of a variable\n",
        "reflecting this distance could help the model. You can think of distance\n",
        "to subway stations when dealing with rent price prediction or distance\n",
        "to highways when trying to predict air pollution. In the case of urban\n",
        "development in Prague, it may be interesting to capture the distance\n",
        "from the city centre. Prague is a very monocentric city whose\n",
        "development happened over the years in a series of concentric rings.\n",
        "First, the medieval centre, then industrial-era neighborhoods behind the\n",
        "original city walls, and so on. Therefore, a distance to Old Town Square\n",
        "may be useful for the development type prediction.\n",
        "\n",
        "You have done this\n",
        "[before](../geographic_data/hands_on.html#measuring-distance), so fire\n",
        "up geocoding, and extract the point representing the square in the same\n",
        "CRS the rest of the data is in.\n",
        "\n",
        "``` py\n",
        "old_town_square = (\n",
        "    gpd.tools.geocode(\"Old Town Square, Prague\")\n",
        "    .to_crs(building_data.crs)\n",
        "    .geometry.item()\n",
        ")\n",
        "```\n",
        "\n",
        "With the point, you can measure the distance from every building in the\n",
        "training sample and use the resulting column as another independent\n",
        "variable."
      ],
      "id": "b796dbbe-1807-4cd9-a12f-8e13733a9b1c"
    },
    {
      "cell_type": "code",
      "execution_count": 32,
      "metadata": {},
      "outputs": [
        {
          "output_type": "display_data",
          "metadata": {},
          "data": {}
        }
      ],
      "source": [
        "training_sample[\"distance_to_old_town\"] = training_sample.distance(old_town_square)\n",
        "\n",
        "ax = training_sample.plot(\"distance_to_old_town\", figsize=(9, 9), markersize=0.1)\n",
        "ax.set_axis_off()"
      ],
      "id": "1ec8aa94"
    },
    {
      "cell_type": "markdown",
      "metadata": {},
      "source": [
        "Now simply add it to the `DataFrame` representing independent variables\n",
        "and the rest is the same."
      ],
      "id": "6a543094-1a31-4bcd-88ed-d68c25695155"
    },
    {
      "cell_type": "code",
      "execution_count": 33,
      "metadata": {},
      "outputs": [],
      "source": [
        "independent_distance = training_sample[\n",
        "    independent_variables + [\"points_in_200m\", \"distance_to_old_town\"]\n",
        "]\n",
        "\n",
        "X_train = independent_distance.loc[train]\n",
        "y_train = training_sample[\"cluster\"].loc[train]\n",
        "\n",
        "X_test = independent_distance.loc[test]\n",
        "y_test = training_sample[\"cluster\"].loc[test]"
      ],
      "id": "a8c9cb39"
    },
    {
      "cell_type": "markdown",
      "metadata": {},
      "source": [
        "Get a new, hopefully better model."
      ],
      "id": "12b5fcfe-34ae-4b8e-9742-3c5111b07876"
    },
    {
      "cell_type": "code",
      "execution_count": 34,
      "metadata": {},
      "outputs": [
        {
          "output_type": "display_data",
          "metadata": {},
          "data": {
            "text/html": [
              "\n",
              "            </details>\n",
              "        </div>\n",
              "    </div></div></div></div></div><script>function copyToClipboard(text, element) {\n",
              "    // Get the parameter prefix from the closest toggleable content\n",
              "    const toggleableContent = element.closest('.sk-toggleable__content');\n",
              "    const paramPrefix = toggleableContent ? toggleableContent.dataset.paramPrefix : '';\n",
              "    const fullParamName = paramPrefix ? `${paramPrefix}${text}` : text;\n",
              "\n",
              "    const originalStyle = element.style;\n",
              "    const computedStyle = window.getComputedStyle(element);\n",
              "    const originalWidth = computedStyle.width;\n",
              "    const originalHTML = element.innerHTML.replace('Copied!', '');\n",
              "\n",
              "    navigator.clipboard.writeText(fullParamName)\n",
              "        .then(() => {\n",
              "            element.style.width = originalWidth;\n",
              "            element.style.color = 'green';\n",
              "            element.innerHTML = \"Copied!\";\n",
              "\n",
              "            setTimeout(() => {\n",
              "                element.innerHTML = originalHTML;\n",
              "                element.style = originalStyle;\n",
              "            }, 2000);\n",
              "        })\n",
              "        .catch(err => {\n",
              "            console.error('Failed to copy:', err);\n",
              "            element.style.color = 'red';\n",
              "            element.innerHTML = \"Failed!\";\n",
              "            setTimeout(() => {\n",
              "                element.innerHTML = originalHTML;\n",
              "                element.style = originalStyle;\n",
              "            }, 2000);\n",
              "        });\n",
              "    return false;\n",
              "}\n",
              "\n",
              "document.querySelectorAll('.fa-regular.fa-copy').forEach(function(element) {\n",
              "    const toggleableContent = element.closest('.sk-toggleable__content');\n",
              "    const paramPrefix = toggleableContent ? toggleableContent.dataset.paramPrefix : '';\n",
              "    const paramName = element.parentElement.nextElementSibling.textContent.trim();\n",
              "    const fullParamName = paramPrefix ? `${paramPrefix}${paramName}` : paramName;\n",
              "\n",
              "    element.setAttribute('title', fullParamName);\n",
              "});\n",
              "</script></body>"
            ]
          }
        }
      ],
      "source": [
        "rf_distance = ensemble.RandomForestClassifier(random_state=0, n_jobs=-1)\n",
        "rf_distance.fit(X_train, y_train)"
      ],
      "id": "f4393f64"
    },
    {
      "cell_type": "markdown",
      "metadata": {},
      "source": [
        "And check if the new variable makes a difference."
      ],
      "id": "20913bd1-c293-43a8-9f9c-3d11bb9a501c"
    },
    {
      "cell_type": "code",
      "execution_count": 35,
      "metadata": {},
      "outputs": [
        {
          "output_type": "stream",
          "name": "stdout",
          "text": [
            "Evaluation metrics\n",
            "==================\n",
            "Basic model:\n",
            "  Accuracy: 0.585\n",
            "  Kappa:    0.451\n",
            "Basic model with spatial cross-validation:\n",
            "  Accuracy: 0.569\n",
            "  Kappa:    0.417\n",
            "Points within 200m (spatial CV):\n",
            "  Accuracy: 0.598\n",
            "  Kappa:    0.46\n",
            "Distance to Old Town Sq + above (spatial CV):\n",
            "  Accuracy: 0.65\n",
            "  Kappa:    0.532\n"
          ]
        }
      ],
      "source": [
        "pred = rf_distance.predict(X_test)\n",
        "\n",
        "accuracy_distance = metrics.accuracy_score(pred, y_test)\n",
        "kappa_distance = metrics.cohen_kappa_score(pred, y_test)\n",
        "\n",
        "summary += f\"\"\"\\\n",
        "Distance to Old Town Sq + above (spatial CV):\n",
        "  Accuracy: {round(accuracy_distance, 3)}\n",
        "  Kappa:    {round(kappa_distance, 3)}\n",
        "\"\"\"\n",
        "print(summary)"
      ],
      "id": "6e945d5b"
    },
    {
      "cell_type": "markdown",
      "metadata": {},
      "source": [
        "That is quite a decent bump in performance! It seems that the distance\n",
        "to the city centre is not bad in explaining the development typology.\n",
        "Check how important it is within the model."
      ],
      "id": "1e5e9cf7-00ee-4f2c-aa8d-f60f0ad5b972"
    },
    {
      "cell_type": "code",
      "execution_count": 36,
      "metadata": {},
      "outputs": [
        {
          "output_type": "display_data",
          "metadata": {},
          "data": {
            "text/plain": [
              "compactness                    0.083854\n",
              "street_alignment               0.084547\n",
              "points_in_200m                 0.114838\n",
              "floor_area_ratio               0.118727\n",
              "height                         0.121997\n",
              "block_perimeter_wall_length    0.136083\n",
              "interbuilding_distance         0.143258\n",
              "distance_to_old_town           0.196696\n",
              "dtype: float64"
            ]
          }
        }
      ],
      "source": [
        "pd.Series(\n",
        "    rf_distance.feature_importances_, index=rf_distance.feature_names_in_\n",
        ").sort_values()"
      ],
      "id": "f4761b02"
    },
    {
      "cell_type": "markdown",
      "metadata": {},
      "source": [
        "Interestingly enough, it seems to be more explanatory than any of the\n",
        "variables reflecting the actual morphology.\n",
        "\n",
        "### Map matching\n",
        "\n",
        "In other cases, you can make use of other data and link it to existing\n",
        "data. When you join the data based on spatial operation, you can talk\n",
        "about map matching. You can measure a number of points of interest in\n",
        "the vicinity of each location, [link the data from\n",
        "rasters](../raster_data/hands_on.html#extracting-values-for-locations-with-xvec),\n",
        "[interpolate them from point\n",
        "patterns](../interpolation/hands_on.html#point-interpolation) or [from\n",
        "polygons to other\n",
        "polygons](../interpolation/hands_on.html#areal-interpolation-and-dasymetric-mapping).\n",
        "By now, you should know all that, so there’s no need to go into detail.\n",
        "Sticking to a simple case, map matching can also be done using a spatial\n",
        "join.\n",
        "\n",
        "Load the price data you worked with in the Learning GeoPandas chapter."
      ],
      "id": "3554c801-0f16-4409-a35e-af5f8998699d"
    },
    {
      "cell_type": "code",
      "execution_count": 37,
      "metadata": {},
      "outputs": [
        {
          "output_type": "display_data",
          "metadata": {},
          "data": {
            "text/html": [
              "\n",
              "</div>"
            ]
          }
        }
      ],
      "source": [
        "price = gpd.read_file(\n",
        "    \"https://martinfleischmann.net/sds/geographic_data/data/SED_CenovaMapa_p_shp.zip\",\n",
        ")\n",
        "price[\"CENA\"] = price[\"CENA\"].replace(\"N\", None).astype(\"float\")\n",
        "price.head(2)"
      ],
      "id": "5a72d175"
    },
    {
      "cell_type": "markdown",
      "metadata": {},
      "source": [
        "Before any spatial joins, check the CRS."
      ],
      "id": "bba83672-c403-4514-8534-b82b81d85053"
    },
    {
      "cell_type": "code",
      "execution_count": 38,
      "metadata": {},
      "outputs": [
        {
          "output_type": "display_data",
          "metadata": {},
          "data": {
            "text/plain": [
              "False"
            ]
          }
        }
      ],
      "source": [
        "price.crs.equals(training_sample.crs)"
      ],
      "id": "042a289f"
    },
    {
      "cell_type": "markdown",
      "metadata": {},
      "source": [
        "And, like in this case, don’t forget to re-project geometries in case of\n",
        "a CRS mismatch. Then you can go ahead with the spatial join."
      ],
      "id": "f6f10d5b-c21e-417c-8539-299a2b0a532f"
    },
    {
      "cell_type": "code",
      "execution_count": 39,
      "metadata": {},
      "outputs": [
        {
          "output_type": "display_data",
          "metadata": {},
          "data": {
            "text/html": [
              "\n",
              "</div>"
            ]
          }
        }
      ],
      "source": [
        "price = price.to_crs(training_sample.crs)\n",
        "\n",
        "training_sample_price = training_sample.sjoin(\n",
        "    price[[\"CENA\", \"geometry\"]].dropna()\n",
        ")\n",
        "training_sample_price.head(2)"
      ],
      "id": "f3bfeb43"
    },
    {
      "cell_type": "markdown",
      "metadata": {},
      "source": [
        "You can prepare data for a model with price included."
      ],
      "id": "38755c9d-a5e2-46ff-8a9c-167177fecba4"
    },
    {
      "cell_type": "code",
      "execution_count": 40,
      "metadata": {},
      "outputs": [],
      "source": [
        "independent_proximity_price = training_sample_price[\n",
        "    independent_variables + [\"points_in_200m\", \"distance_to_old_town\", \"CENA\"]\n",
        "]\n",
        "\n",
        "train_price = training_sample_price[\"split\"] != 0\n",
        "X_train = independent_proximity_price.loc[train_price]\n",
        "y_train = training_sample_price[\"cluster\"].loc[train_price]\n",
        "\n",
        "test_price = training_sample_price[\"split\"] == 0\n",
        "X_test = independent_proximity_price.loc[test_price]\n",
        "y_test = training_sample_price[\"cluster\"].loc[test_price]"
      ],
      "id": "67ef966a"
    },
    {
      "cell_type": "markdown",
      "metadata": {},
      "source": [
        "The rest, you know. First the model."
      ],
      "id": "ddf16565-1b1e-4c83-b85c-3df5e5508d95"
    },
    {
      "cell_type": "code",
      "execution_count": 41,
      "metadata": {},
      "outputs": [
        {
          "output_type": "display_data",
          "metadata": {},
          "data": {
            "text/html": [
              "\n",
              "            </details>\n",
              "        </div>\n",
              "    </div></div></div></div></div><script>function copyToClipboard(text, element) {\n",
              "    // Get the parameter prefix from the closest toggleable content\n",
              "    const toggleableContent = element.closest('.sk-toggleable__content');\n",
              "    const paramPrefix = toggleableContent ? toggleableContent.dataset.paramPrefix : '';\n",
              "    const fullParamName = paramPrefix ? `${paramPrefix}${text}` : text;\n",
              "\n",
              "    const originalStyle = element.style;\n",
              "    const computedStyle = window.getComputedStyle(element);\n",
              "    const originalWidth = computedStyle.width;\n",
              "    const originalHTML = element.innerHTML.replace('Copied!', '');\n",
              "\n",
              "    navigator.clipboard.writeText(fullParamName)\n",
              "        .then(() => {\n",
              "            element.style.width = originalWidth;\n",
              "            element.style.color = 'green';\n",
              "            element.innerHTML = \"Copied!\";\n",
              "\n",
              "            setTimeout(() => {\n",
              "                element.innerHTML = originalHTML;\n",
              "                element.style = originalStyle;\n",
              "            }, 2000);\n",
              "        })\n",
              "        .catch(err => {\n",
              "            console.error('Failed to copy:', err);\n",
              "            element.style.color = 'red';\n",
              "            element.innerHTML = \"Failed!\";\n",
              "            setTimeout(() => {\n",
              "                element.innerHTML = originalHTML;\n",
              "                element.style = originalStyle;\n",
              "            }, 2000);\n",
              "        });\n",
              "    return false;\n",
              "}\n",
              "\n",
              "document.querySelectorAll('.fa-regular.fa-copy').forEach(function(element) {\n",
              "    const toggleableContent = element.closest('.sk-toggleable__content');\n",
              "    const paramPrefix = toggleableContent ? toggleableContent.dataset.paramPrefix : '';\n",
              "    const paramName = element.parentElement.nextElementSibling.textContent.trim();\n",
              "    const fullParamName = paramPrefix ? `${paramPrefix}${paramName}` : paramName;\n",
              "\n",
              "    element.setAttribute('title', fullParamName);\n",
              "});\n",
              "</script></body>"
            ]
          }
        }
      ],
      "source": [
        "rf_distance_price = ensemble.RandomForestClassifier(random_state=0, n_jobs=-1)\n",
        "rf_distance_price.fit(X_train, y_train)"
      ],
      "id": "2ff5b63e"
    },
    {
      "cell_type": "markdown",
      "metadata": {},
      "source": [
        "Then, the evaluation."
      ],
      "id": "4d44f6c3-1499-4034-8bad-90f380e8d082"
    },
    {
      "cell_type": "code",
      "execution_count": 42,
      "metadata": {},
      "outputs": [
        {
          "output_type": "stream",
          "name": "stdout",
          "text": [
            "Evaluation metrics\n",
            "==================\n",
            "Basic model:\n",
            "  Accuracy: 0.585\n",
            "  Kappa:    0.451\n",
            "Basic model with spatial cross-validation:\n",
            "  Accuracy: 0.569\n",
            "  Kappa:    0.417\n",
            "Points within 200m (spatial CV):\n",
            "  Accuracy: 0.598\n",
            "  Kappa:    0.46\n",
            "Distance to Old Town Sq + above (spatial CV):\n",
            "  Accuracy: 0.65\n",
            "  Kappa:    0.532\n",
            "Price + above (spatial CV):\n",
            "  Accuracy: 0.675\n",
            "  Kappa:    0.556\n"
          ]
        }
      ],
      "source": [
        "pred = rf_distance_price.predict(X_test)\n",
        "\n",
        "accuracy_distance_price = metrics.accuracy_score(pred, y_test)\n",
        "kappa_distance_price = metrics.cohen_kappa_score(pred, y_test)\n",
        "\n",
        "summary += f\"\"\"\\\n",
        "Price + above (spatial CV):\n",
        "  Accuracy: {round(accuracy_distance_price, 3)}\n",
        "  Kappa:    {round(kappa_distance_price, 3)}\n",
        "\"\"\"\n",
        "print(summary)"
      ],
      "id": "5acb6571"
    },
    {
      "cell_type": "markdown",
      "metadata": {},
      "source": [
        "Another improvement. It seems that price is not that critical, but is\n",
        "surely brings some value."
      ],
      "id": "46ca91b5-5d81-45a4-acd9-9cfb14d9b948"
    },
    {
      "cell_type": "code",
      "execution_count": 43,
      "metadata": {},
      "outputs": [
        {
          "output_type": "display_data",
          "metadata": {},
          "data": {
            "text/plain": [
              "compactness                    0.065141\n",
              "street_alignment               0.066410\n",
              "floor_area_ratio               0.086952\n",
              "points_in_200m                 0.103779\n",
              "height                         0.111789\n",
              "interbuilding_distance         0.119244\n",
              "CENA                           0.136387\n",
              "block_perimeter_wall_length    0.138612\n",
              "distance_to_old_town           0.171686\n",
              "dtype: float64"
            ]
          }
        }
      ],
      "source": [
        "pd.Series(\n",
        "    rf_distance_price.feature_importances_, index=rf_distance_price.feature_names_in_\n",
        ").sort_values()"
      ],
      "id": "42c82f37"
    },
    {
      "cell_type": "markdown",
      "metadata": {},
      "source": [
        "As the feature importance shows, it is among the most important\n",
        "variables, though the distance to the Old Town Sq. is still unbeaten.\n",
        "\n",
        "## Spatial dependence\n",
        "\n",
        "Let’s get back to map synthesis and talk about spatial dependence. Some\n",
        "phenomena, urban development type may be one of them, are not explained\n",
        "only by values linked to individual geometries but also by the spatial\n",
        "configuration of the observations around. If the mean inter-building\n",
        "distance of observation A is small but that of nearly all observations\n",
        "around is high, it may be worth taking that into account. You can say\n",
        "that the predicted value on observation A *depends* on the spatial\n",
        "context and configuration around it. Generally speaking, the values of\n",
        "observations are related to each other based on their distance and are\n",
        "spatially dependent, reflecting Tobler’s First law of geography once\n",
        "again.\n",
        "\n",
        "### Include spatially lagged variables in the model\n",
        "\n",
        "The simplest way of incorporating spatial dependence to a generic ML\n",
        "model is to add variables to your set of independent variables capturing\n",
        "spatial dependence through spatial lag.\n",
        "\n",
        "Use the spatial weights matrix created above and generate a spatial lag\n",
        "of all independent variables."
      ],
      "id": "45c256d0-8360-462d-806a-3aff33d1bfa4"
    },
    {
      "cell_type": "code",
      "execution_count": 44,
      "metadata": {},
      "outputs": [
        {
          "output_type": "display_data",
          "metadata": {},
          "data": {
            "text/html": [
              "\n",
              "</div>"
            ]
          }
        }
      ],
      "source": [
        "distance_200_row = distance_200.transform(\"r\")\n",
        "lagged_variables = []\n",
        "for var in independent_variables:\n",
        "    training_sample[f\"{var}_lag\"] = distance_200_row.lag(training_sample[var])\n",
        "    lagged_variables.append(f\"{var}_lag\")\n",
        "training_sample.head(2)"
      ],
      "id": "d0e01606"
    },
    {
      "cell_type": "markdown",
      "metadata": {},
      "source": [
        "It may be interesting to assess the effect of spatial dependence without\n",
        "the variables added above. Combine original independent variables with\n",
        "the new lagged and prepare new training data."
      ],
      "id": "fd7fd06f-547a-43e8-844f-c18239a92aa0"
    },
    {
      "cell_type": "code",
      "execution_count": 45,
      "metadata": {},
      "outputs": [],
      "source": [
        "independent_lag = training_sample[independent_variables + lagged_variables]\n",
        "\n",
        "X_train = independent_lag.loc[train]\n",
        "y_train = training_sample[\"cluster\"].loc[train]\n",
        "\n",
        "X_test = independent_lag.loc[test]\n",
        "y_test = training_sample[\"cluster\"].loc[test]"
      ],
      "id": "7fbd1d3e"
    },
    {
      "cell_type": "markdown",
      "metadata": {},
      "source": [
        "Fit the new model, which should be able to use spatial dependence."
      ],
      "id": "38c50358-b53a-4b94-a4f7-1931d6068279"
    },
    {
      "cell_type": "code",
      "execution_count": 46,
      "metadata": {},
      "outputs": [
        {
          "output_type": "display_data",
          "metadata": {},
          "data": {
            "text/html": [
              "\n",
              "            </details>\n",
              "        </div>\n",
              "    </div></div></div></div></div><script>function copyToClipboard(text, element) {\n",
              "    // Get the parameter prefix from the closest toggleable content\n",
              "    const toggleableContent = element.closest('.sk-toggleable__content');\n",
              "    const paramPrefix = toggleableContent ? toggleableContent.dataset.paramPrefix : '';\n",
              "    const fullParamName = paramPrefix ? `${paramPrefix}${text}` : text;\n",
              "\n",
              "    const originalStyle = element.style;\n",
              "    const computedStyle = window.getComputedStyle(element);\n",
              "    const originalWidth = computedStyle.width;\n",
              "    const originalHTML = element.innerHTML.replace('Copied!', '');\n",
              "\n",
              "    navigator.clipboard.writeText(fullParamName)\n",
              "        .then(() => {\n",
              "            element.style.width = originalWidth;\n",
              "            element.style.color = 'green';\n",
              "            element.innerHTML = \"Copied!\";\n",
              "\n",
              "            setTimeout(() => {\n",
              "                element.innerHTML = originalHTML;\n",
              "                element.style = originalStyle;\n",
              "            }, 2000);\n",
              "        })\n",
              "        .catch(err => {\n",
              "            console.error('Failed to copy:', err);\n",
              "            element.style.color = 'red';\n",
              "            element.innerHTML = \"Failed!\";\n",
              "            setTimeout(() => {\n",
              "                element.innerHTML = originalHTML;\n",
              "                element.style = originalStyle;\n",
              "            }, 2000);\n",
              "        });\n",
              "    return false;\n",
              "}\n",
              "\n",
              "document.querySelectorAll('.fa-regular.fa-copy').forEach(function(element) {\n",
              "    const toggleableContent = element.closest('.sk-toggleable__content');\n",
              "    const paramPrefix = toggleableContent ? toggleableContent.dataset.paramPrefix : '';\n",
              "    const paramName = element.parentElement.nextElementSibling.textContent.trim();\n",
              "    const fullParamName = paramPrefix ? `${paramPrefix}${paramName}` : paramName;\n",
              "\n",
              "    element.setAttribute('title', fullParamName);\n",
              "});\n",
              "</script></body>"
            ]
          }
        }
      ],
      "source": [
        "rf_lag_200m = ensemble.RandomForestClassifier(random_state=0, n_jobs=-1)\n",
        "rf_lag_200m.fit(X_train, y_train)"
      ],
      "id": "005e221a"
    },
    {
      "cell_type": "markdown",
      "metadata": {},
      "source": [
        "And check how significant an effect it has on the model performance."
      ],
      "id": "5332951d-f00b-46c4-8615-1837861d6a35"
    },
    {
      "cell_type": "code",
      "execution_count": 47,
      "metadata": {},
      "outputs": [
        {
          "output_type": "stream",
          "name": "stdout",
          "text": [
            "Evaluation metrics\n",
            "==================\n",
            "Basic model:\n",
            "  Accuracy: 0.585\n",
            "  Kappa:    0.451\n",
            "Basic model with spatial cross-validation:\n",
            "  Accuracy: 0.569\n",
            "  Kappa:    0.417\n",
            "Points within 200m (spatial CV):\n",
            "  Accuracy: 0.598\n",
            "  Kappa:    0.46\n",
            "Distance to Old Town Sq + above (spatial CV):\n",
            "  Accuracy: 0.65\n",
            "  Kappa:    0.532\n",
            "Price + above (spatial CV):\n",
            "  Accuracy: 0.675\n",
            "  Kappa:    0.556\n",
            "Spatial dependence - lagged model (spatial CV):\n",
            "  Accuracy: 0.678\n",
            "  Kappa:    0.572\n"
          ]
        }
      ],
      "source": [
        "pred = rf_lag_200m.predict(X_test)\n",
        "\n",
        "accuracy_lag = metrics.accuracy_score(pred, y_test)\n",
        "kappa_lag = metrics.cohen_kappa_score(pred, y_test)\n",
        "\n",
        "summary += f\"\"\"\\\n",
        "Spatial dependence - lagged model (spatial CV):\n",
        "  Accuracy: {round(accuracy_lag, 3)}\n",
        "  Kappa:    {round(kappa_lag, 3)}\n",
        "\"\"\"\n",
        "print(summary)"
      ],
      "id": "0141f619"
    },
    {
      "cell_type": "markdown",
      "metadata": {},
      "source": [
        "That is surely not negligible, considering that no other data were\n",
        "needed."
      ],
      "id": "6223ff12-c0fa-4476-8ab2-c0e10db3f4ad"
    },
    {
      "cell_type": "code",
      "execution_count": 48,
      "metadata": {},
      "outputs": [
        {
          "output_type": "display_data",
          "metadata": {},
          "data": {
            "text/plain": [
              "compactness                        0.043260\n",
              "street_alignment                   0.045910\n",
              "height                             0.057639\n",
              "floor_area_ratio                   0.058157\n",
              "block_perimeter_wall_length        0.067513\n",
              "street_alignment_lag               0.071064\n",
              "compactness_lag                    0.076047\n",
              "height_lag                         0.102864\n",
              "interbuilding_distance             0.102935\n",
              "interbuilding_distance_lag         0.115112\n",
              "block_perimeter_wall_length_lag    0.125864\n",
              "floor_area_ratio_lag               0.133635\n",
              "dtype: float64"
            ]
          }
        }
      ],
      "source": [
        "pd.Series(\n",
        "    rf_lag_200m.feature_importances_, index=rf_lag_200m.feature_names_in_\n",
        ").sort_values()"
      ],
      "id": "0b13fb35"
    },
    {
      "cell_type": "markdown",
      "metadata": {},
      "source": [
        "The feature importance very clearly shows that when detecting urban\n",
        "typology, the context is always more important than the individual\n",
        "observation. It is expected as the typology attempts to reflect the\n",
        "general pattern of development but you can see the similar effect in\n",
        "many other situations.\n",
        "\n",
        "## Spatial heterogneity\n",
        "\n",
        "While ML models like the random forest learn interaction between\n",
        "variables, they are not always able to pick up spatial heterogeneity of\n",
        "the interaction between dependent and independent variables. Last week,\n",
        "you tried to deal with spatial heterogeneity using the categorical\n",
        "variable reflecting the spatial fixed effect. You could do the same\n",
        "here, but let’s try another approach.\n",
        "\n",
        "### Include x, y coordinates\n",
        "\n",
        "Including the x and y (or longitude and latitude) coordinates of your\n",
        "geometries is a clever way of capturing the spatial heterogeneity in the\n",
        "model. The location serves as a proxy for any unexplained variance of a\n",
        "spatial nature. It does not help you with interpretation, as coordinates\n",
        "do not explain anything.\n",
        "\n",
        "The model will also struggle to generalise outside of the original\n",
        "spatial extent. So while a model trained on Prague using the original\n",
        "set of variables could be easily used in any other Czech city, like\n",
        "Brno, the model that includes coordinates would have no idea how to\n",
        "interpret the values it would see in Brno. Use with caution.\n",
        "\n",
        "Technically, it is dead simple. You just include coordinates as another\n",
        "two columns."
      ],
      "id": "eddc0f7e-4d87-4c81-98d1-a6166b2dfbb0"
    },
    {
      "cell_type": "code",
      "execution_count": 49,
      "metadata": {},
      "outputs": [
        {
          "output_type": "display_data",
          "metadata": {},
          "data": {
            "text/html": [
              "\n",
              "<p>2 rows × 21 columns</p>\n",
              "</div>"
            ]
          }
        }
      ],
      "source": [
        "training_sample[[\"x\", \"y\"]] = training_sample.get_coordinates()\n",
        "training_sample.head(2)"
      ],
      "id": "5450244e"
    },
    {
      "cell_type": "markdown",
      "metadata": {},
      "source": [
        "To check the effect of spatial heterogeneity compared to the baseline\n",
        "model, create new training data with the original variables and\n",
        "coordinates on top."
      ],
      "id": "81e06a78-ba01-4539-8383-8e5860354f5f"
    },
    {
      "cell_type": "code",
      "execution_count": 50,
      "metadata": {},
      "outputs": [],
      "source": [
        "independent_coordinates = training_sample[independent_variables + [\"x\", \"y\"]]\n",
        "\n",
        "X_train = independent_coordinates.loc[train]\n",
        "y_train = training_sample[\"cluster\"].loc[train]\n",
        "\n",
        "X_test = independent_coordinates.loc[test]\n",
        "y_test = training_sample[\"cluster\"].loc[test]"
      ],
      "id": "1f3c4964"
    },
    {
      "cell_type": "markdown",
      "metadata": {},
      "source": [
        "Train the model."
      ],
      "id": "e263b718-d241-4f38-a01e-504dc52809a0"
    },
    {
      "cell_type": "code",
      "execution_count": 51,
      "metadata": {},
      "outputs": [
        {
          "output_type": "display_data",
          "metadata": {},
          "data": {
            "text/html": [
              "\n",
              "            </details>\n",
              "        </div>\n",
              "    </div></div></div></div></div><script>function copyToClipboard(text, element) {\n",
              "    // Get the parameter prefix from the closest toggleable content\n",
              "    const toggleableContent = element.closest('.sk-toggleable__content');\n",
              "    const paramPrefix = toggleableContent ? toggleableContent.dataset.paramPrefix : '';\n",
              "    const fullParamName = paramPrefix ? `${paramPrefix}${text}` : text;\n",
              "\n",
              "    const originalStyle = element.style;\n",
              "    const computedStyle = window.getComputedStyle(element);\n",
              "    const originalWidth = computedStyle.width;\n",
              "    const originalHTML = element.innerHTML.replace('Copied!', '');\n",
              "\n",
              "    navigator.clipboard.writeText(fullParamName)\n",
              "        .then(() => {\n",
              "            element.style.width = originalWidth;\n",
              "            element.style.color = 'green';\n",
              "            element.innerHTML = \"Copied!\";\n",
              "\n",
              "            setTimeout(() => {\n",
              "                element.innerHTML = originalHTML;\n",
              "                element.style = originalStyle;\n",
              "            }, 2000);\n",
              "        })\n",
              "        .catch(err => {\n",
              "            console.error('Failed to copy:', err);\n",
              "            element.style.color = 'red';\n",
              "            element.innerHTML = \"Failed!\";\n",
              "            setTimeout(() => {\n",
              "                element.innerHTML = originalHTML;\n",
              "                element.style = originalStyle;\n",
              "            }, 2000);\n",
              "        });\n",
              "    return false;\n",
              "}\n",
              "\n",
              "document.querySelectorAll('.fa-regular.fa-copy').forEach(function(element) {\n",
              "    const toggleableContent = element.closest('.sk-toggleable__content');\n",
              "    const paramPrefix = toggleableContent ? toggleableContent.dataset.paramPrefix : '';\n",
              "    const paramName = element.parentElement.nextElementSibling.textContent.trim();\n",
              "    const fullParamName = paramPrefix ? `${paramPrefix}${paramName}` : paramName;\n",
              "\n",
              "    element.setAttribute('title', fullParamName);\n",
              "});\n",
              "</script></body>"
            ]
          }
        }
      ],
      "source": [
        "rf_coordinates = ensemble.RandomForestClassifier(random_state=0, n_jobs=-1)\n",
        "rf_coordinates.fit(X_train, y_train)"
      ],
      "id": "642e3f70"
    },
    {
      "cell_type": "markdown",
      "metadata": {},
      "source": [
        "And evaluate its performance."
      ],
      "id": "ea4272f9-c9b4-40a9-8936-5d48a2bdaf5d"
    },
    {
      "cell_type": "code",
      "execution_count": 52,
      "metadata": {},
      "outputs": [
        {
          "output_type": "stream",
          "name": "stdout",
          "text": [
            "Evaluation metrics\n",
            "==================\n",
            "Basic model:\n",
            "  Accuracy: 0.585\n",
            "  Kappa:    0.451\n",
            "Basic model with spatial cross-validation:\n",
            "  Accuracy: 0.569\n",
            "  Kappa:    0.417\n",
            "Points within 200m (spatial CV):\n",
            "  Accuracy: 0.598\n",
            "  Kappa:    0.46\n",
            "Distance to Old Town Sq + above (spatial CV):\n",
            "  Accuracy: 0.65\n",
            "  Kappa:    0.532\n",
            "Price + above (spatial CV):\n",
            "  Accuracy: 0.675\n",
            "  Kappa:    0.556\n",
            "Spatial dependence - lagged model (spatial CV):\n",
            "  Accuracy: 0.678\n",
            "  Kappa:    0.572\n",
            "Spatial heterogeneity - coordinates (spatial CV):\n",
            "  Accuracy: 0.632\n",
            "  Kappa:    0.501\n"
          ]
        }
      ],
      "source": [
        "pred = rf_coordinates.predict(X_test)\n",
        "\n",
        "accuracy_coordinates = metrics.accuracy_score(pred, y_test)\n",
        "kappa_coordinates = metrics.cohen_kappa_score(pred, y_test)\n",
        "\n",
        "summary += f\"\"\"\\\n",
        "Spatial heterogeneity - coordinates (spatial CV):\n",
        "  Accuracy: {round(accuracy_coordinates, 3)}\n",
        "  Kappa:    {round(kappa_coordinates, 3)}\n",
        "\"\"\"\n",
        "print(summary)"
      ],
      "id": "3d1b9841"
    },
    {
      "cell_type": "markdown",
      "metadata": {},
      "source": [
        "There indeed is some degree of spatial heterogeneity, but its effect is\n",
        "not that strong as that of spatial dependence."
      ],
      "id": "49e03937-759a-4b44-8d6b-55d3c3bc40a3"
    },
    {
      "cell_type": "code",
      "execution_count": 53,
      "metadata": {},
      "outputs": [
        {
          "output_type": "display_data",
          "metadata": {},
          "data": {
            "text/plain": [
              "compactness                    0.079784\n",
              "street_alignment               0.082541\n",
              "height                         0.120565\n",
              "floor_area_ratio               0.121874\n",
              "block_perimeter_wall_length    0.140187\n",
              "x                              0.141216\n",
              "y                              0.144769\n",
              "interbuilding_distance         0.169063\n",
              "dtype: float64"
            ]
          }
        }
      ],
      "source": [
        "pd.Series(\n",
        "    rf_coordinates.feature_importances_, index=rf_coordinates.feature_names_in_\n",
        ").sort_values()"
      ],
      "id": "6fb6f749"
    },
    {
      "cell_type": "markdown",
      "metadata": {},
      "source": [
        "Interpreting feature importance is a bit more complicated, as x and y\n",
        "are not to be treated as two separate variables but as a pair. You can\n",
        "try to sum their importance, but remember that the result may be\n",
        "misleading.\n",
        "\n",
        "## Heterogeneity and dependence\n",
        "\n",
        "You can try to combine the effects of heterogeneity and dependence\n",
        "within a single model as each seems to help when used separately."
      ],
      "id": "5a1df06b-4658-42d2-be1f-637c2ad56f80"
    },
    {
      "cell_type": "code",
      "execution_count": 54,
      "metadata": {},
      "outputs": [],
      "source": [
        "independent_coordinates = training_sample[\n",
        "    independent_variables + lagged_variables + [\"x\", \"y\"]\n",
        "]\n",
        "\n",
        "X_train = independent_coordinates.loc[train]\n",
        "y_train = training_sample[\"cluster\"].loc[train]\n",
        "\n",
        "X_test = independent_coordinates.loc[test]\n",
        "y_test = training_sample[\"cluster\"].loc[test]"
      ],
      "id": "5895e0d4"
    },
    {
      "cell_type": "markdown",
      "metadata": {},
      "source": [
        "Let’s consider this a final model of the day."
      ],
      "id": "07f5efb6-aacd-4a78-884a-369faddc3029"
    },
    {
      "cell_type": "code",
      "execution_count": 55,
      "metadata": {},
      "outputs": [
        {
          "output_type": "display_data",
          "metadata": {},
          "data": {
            "text/html": [
              "\n",
              "            </details>\n",
              "        </div>\n",
              "    </div></div></div></div></div><script>function copyToClipboard(text, element) {\n",
              "    // Get the parameter prefix from the closest toggleable content\n",
              "    const toggleableContent = element.closest('.sk-toggleable__content');\n",
              "    const paramPrefix = toggleableContent ? toggleableContent.dataset.paramPrefix : '';\n",
              "    const fullParamName = paramPrefix ? `${paramPrefix}${text}` : text;\n",
              "\n",
              "    const originalStyle = element.style;\n",
              "    const computedStyle = window.getComputedStyle(element);\n",
              "    const originalWidth = computedStyle.width;\n",
              "    const originalHTML = element.innerHTML.replace('Copied!', '');\n",
              "\n",
              "    navigator.clipboard.writeText(fullParamName)\n",
              "        .then(() => {\n",
              "            element.style.width = originalWidth;\n",
              "            element.style.color = 'green';\n",
              "            element.innerHTML = \"Copied!\";\n",
              "\n",
              "            setTimeout(() => {\n",
              "                element.innerHTML = originalHTML;\n",
              "                element.style = originalStyle;\n",
              "            }, 2000);\n",
              "        })\n",
              "        .catch(err => {\n",
              "            console.error('Failed to copy:', err);\n",
              "            element.style.color = 'red';\n",
              "            element.innerHTML = \"Failed!\";\n",
              "            setTimeout(() => {\n",
              "                element.innerHTML = originalHTML;\n",
              "                element.style = originalStyle;\n",
              "            }, 2000);\n",
              "        });\n",
              "    return false;\n",
              "}\n",
              "\n",
              "document.querySelectorAll('.fa-regular.fa-copy').forEach(function(element) {\n",
              "    const toggleableContent = element.closest('.sk-toggleable__content');\n",
              "    const paramPrefix = toggleableContent ? toggleableContent.dataset.paramPrefix : '';\n",
              "    const paramName = element.parentElement.nextElementSibling.textContent.trim();\n",
              "    const fullParamName = paramPrefix ? `${paramPrefix}${paramName}` : paramName;\n",
              "\n",
              "    element.setAttribute('title', fullParamName);\n",
              "});\n",
              "</script></body>"
            ]
          }
        }
      ],
      "source": [
        "rf_het_dep = ensemble.RandomForestClassifier(random_state=0, n_jobs=-1)\n",
        "rf_het_dep.fit(X_train, y_train)"
      ],
      "id": "86263fa9"
    },
    {
      "cell_type": "markdown",
      "metadata": {},
      "source": [
        "The final evaluation:"
      ],
      "id": "85936304-9c52-4267-9644-387e67e2ac40"
    },
    {
      "cell_type": "code",
      "execution_count": 56,
      "metadata": {},
      "outputs": [
        {
          "output_type": "stream",
          "name": "stdout",
          "text": [
            "Evaluation metrics\n",
            "==================\n",
            "Basic model:\n",
            "  Accuracy: 0.585\n",
            "  Kappa:    0.451\n",
            "Basic model with spatial cross-validation:\n",
            "  Accuracy: 0.569\n",
            "  Kappa:    0.417\n",
            "Points within 200m (spatial CV):\n",
            "  Accuracy: 0.598\n",
            "  Kappa:    0.46\n",
            "Distance to Old Town Sq + above (spatial CV):\n",
            "  Accuracy: 0.65\n",
            "  Kappa:    0.532\n",
            "Price + above (spatial CV):\n",
            "  Accuracy: 0.675\n",
            "  Kappa:    0.556\n",
            "Spatial dependence - lagged model (spatial CV):\n",
            "  Accuracy: 0.678\n",
            "  Kappa:    0.572\n",
            "Spatial heterogeneity - coordinates (spatial CV):\n",
            "  Accuracy: 0.632\n",
            "  Kappa:    0.501\n",
            "Spatial dependence + heterogeneity (spatial CV):\n",
            "  Accuracy: 0.71\n",
            "  Kappa:    0.613\n"
          ]
        }
      ],
      "source": [
        "pred = rf_het_dep.predict(X_test)\n",
        "\n",
        "accuracy_het_dep = metrics.accuracy_score(pred, y_test)\n",
        "kappa_het_dep = metrics.cohen_kappa_score(pred, y_test)\n",
        "\n",
        "summary += f\"\"\"\\\n",
        "Spatial dependence + heterogeneity (spatial CV):\n",
        "  Accuracy: {round(accuracy_het_dep, 3)}\n",
        "  Kappa:    {round(kappa_het_dep, 3)}\n",
        "\"\"\"\n",
        "print(summary)"
      ],
      "id": "a0d53808"
    },
    {
      "cell_type": "markdown",
      "metadata": {},
      "source": [
        "This seems to be the best model so far. Keep in mind that variables\n",
        "coming from the feature engineering section are not included here, so\n",
        "there still may be some space for an improvement."
      ],
      "id": "519db269-a9a9-4b36-947c-9ef683347411"
    },
    {
      "cell_type": "code",
      "execution_count": 57,
      "metadata": {},
      "outputs": [
        {
          "output_type": "display_data",
          "metadata": {},
          "data": {
            "text/plain": [
              "compactness                        0.032543\n",
              "street_alignment                   0.035989\n",
              "floor_area_ratio                   0.047796\n",
              "height                             0.049613\n",
              "street_alignment_lag               0.057364\n",
              "block_perimeter_wall_length        0.057734\n",
              "compactness_lag                    0.063571\n",
              "y                                  0.068458\n",
              "x                                  0.071185\n",
              "height_lag                         0.083203\n",
              "interbuilding_distance             0.090557\n",
              "interbuilding_distance_lag         0.102194\n",
              "block_perimeter_wall_length_lag    0.117921\n",
              "floor_area_ratio_lag               0.121871\n",
              "dtype: float64"
            ]
          }
        }
      ],
      "source": [
        "pd.Series(\n",
        "    rf_het_dep.feature_importances_, index=rf_het_dep.feature_names_in_\n",
        ").sort_values()"
      ],
      "id": "2d0a3fba"
    },
    {
      "cell_type": "markdown",
      "metadata": {},
      "source": [
        "Both lagged variables and coordinates are valuable here but keep in mind\n",
        "that the strength of these effects will vary dependning on specific use\n",
        "case. What is clearly useful in this case may have no value in other\n",
        "situations.\n",
        "\n",
        "### Prediction on the whole dataset\n",
        "\n",
        "If you consider `rf_het_dep` a final model you are happy with, you can\n",
        "check how it performs on the full dataset, not only on the sample of 20k\n",
        "observations used above.\n",
        "\n",
        "First, you will need all the variables computed for the full dataset."
      ],
      "id": "7de85cef-d274-4ed5-9856-31abe7f6a26b"
    },
    {
      "cell_type": "code",
      "execution_count": 58,
      "metadata": {},
      "outputs": [],
      "source": [
        "distance_200_all = graph.Graph.build_distance_band(building_data, 200).transform(\"r\")\n",
        "for var in independent_variables:\n",
        "    building_data[f\"{var}_lag\"] = distance_200_all.lag(building_data[var])\n",
        "\n",
        "building_data[[\"x\", \"y\"]] = building_data.get_coordinates()"
      ],
      "id": "7f2aaafb"
    },
    {
      "cell_type": "markdown",
      "metadata": {},
      "source": [
        "Then, you can use the model for inference. First, check the\n",
        "probabilities."
      ],
      "id": "00c9d663-1589-4ea1-aaca-9f174ea16d34"
    },
    {
      "cell_type": "code",
      "execution_count": 59,
      "metadata": {},
      "outputs": [
        {
          "output_type": "display_data",
          "metadata": {},
          "data": {
            "text/plain": [
              "array([[0.28, 0.05, 0.42, ..., 0.  , 0.06, 0.  ],\n",
              "       [0.  , 0.04, 0.  , ..., 0.  , 0.  , 0.  ],\n",
              "       [0.1 , 0.  , 0.  , ..., 0.49, 0.41, 0.  ],\n",
              "       ...,\n",
              "       [0.  , 1.  , 0.  , ..., 0.  , 0.  , 0.  ],\n",
              "       [0.  , 1.  , 0.  , ..., 0.  , 0.  , 0.  ],\n",
              "       [0.52, 0.06, 0.01, ..., 0.1 , 0.07, 0.01]], shape=(140309, 8))"
            ]
          }
        }
      ],
      "source": [
        "probabilities = rf_het_dep.predict_proba(\n",
        "    building_data[independent_variables + lagged_variables + [\"x\", \"y\"]]\n",
        ")\n",
        "probabilities"
      ],
      "id": "3593127b"
    },
    {
      "cell_type": "markdown",
      "metadata": {},
      "source": [
        "Plotting class-based probabilities allows you to visualise the\n",
        "likelihood that each observation (building in our case) belonging to\n",
        "each class."
      ],
      "id": "204db319-64a6-4cfe-9f67-a6138f315c85"
    },
    {
      "cell_type": "code",
      "execution_count": 60,
      "metadata": {},
      "outputs": [
        {
          "output_type": "display_data",
          "metadata": {},
          "data": {}
        }
      ],
      "source": [
        "fig, axs = plt.subplots(4, 2, figsize=(9, 14))\n",
        "axs = axs.flatten()\n",
        "for i, ax in enumerate(axs):\n",
        "    building_data.plot(\n",
        "      probabilities[:, i], markersize=0.01, cmap=\"bone_r\", ax=ax, vmin=0, vmax=1,\n",
        "    )\n",
        "    axs[i].set_title(rf_het_dep.classes_[i], fontdict={\"fontsize\": 8})\n",
        "    ax.set_axis_off()"
      ],
      "id": "c3ee29c8"
    },
    {
      "cell_type": "markdown",
      "metadata": {},
      "source": [
        "Plotting the maximum probability assigned to an observation regardless\n",
        "of class is also useful. This can be seen as a proxy of the certainty of\n",
        "a model and allows you to identify areas where the model works well and\n",
        "has no issue picking up the correct class and those where it struggles."
      ],
      "id": "75cad0ae-97cb-402a-8d6f-268a531bde3d"
    },
    {
      "cell_type": "code",
      "execution_count": 61,
      "metadata": {},
      "outputs": [
        {
          "output_type": "display_data",
          "metadata": {},
          "data": {}
        }
      ],
      "source": [
        "building_data.plot(\n",
        "    probabilities.max(axis=1), markersize=0.01, cmap=\"cividis_r\", figsize=(9, 9)\n",
        ").set_axis_off()"
      ],
      "id": "33fd02fa"
    },
    {
      "cell_type": "markdown",
      "metadata": {},
      "source": [
        "If you want just a label, it is easier to use the `predict()` method\n",
        "instead."
      ],
      "id": "a5e9889c-8d69-49d1-91bd-9c6c8598c357"
    },
    {
      "cell_type": "code",
      "execution_count": 62,
      "metadata": {},
      "outputs": [],
      "source": [
        "predicted_class = rf_het_dep.predict(\n",
        "    building_data[independent_variables + lagged_variables + [\"x\", \"y\"]]\n",
        ")"
      ],
      "id": "4d9ea1d7"
    },
    {
      "cell_type": "markdown",
      "metadata": {},
      "source": [
        "The predicted labels allow you to check the spatial pattern of errors as\n",
        "you did earlier."
      ],
      "id": "bafde316-2702-4909-9097-b147952dfe5c"
    },
    {
      "cell_type": "code",
      "execution_count": 63,
      "metadata": {},
      "outputs": [
        {
          "output_type": "display_data",
          "metadata": {},
          "data": {}
        }
      ],
      "source": [
        "building_data.plot(\n",
        "    predicted_class == building_data[\"cluster\"],\n",
        "    categorical=True,\n",
        "    figsize=(9, 9),\n",
        "    markersize=0.005,\n",
        "    cmap=\"bwr_r\",\n",
        "    legend=True,\n",
        ").set_axis_off()"
      ],
      "id": "92f61245"
    },
    {
      "cell_type": "markdown",
      "metadata": {},
      "source": [
        "Finally, you may be interested in the performance of the model on the\n",
        "full dataset."
      ],
      "id": "148aa421-3e9d-4a37-905a-23b926766cf6"
    },
    {
      "cell_type": "code",
      "execution_count": 64,
      "metadata": {},
      "outputs": [
        {
          "output_type": "stream",
          "name": "stdout",
          "text": [
            "Evaluation metrics\n",
            "==================\n",
            "Basic model:\n",
            "  Accuracy: 0.585\n",
            "  Kappa:    0.451\n",
            "Basic model with spatial cross-validation:\n",
            "  Accuracy: 0.569\n",
            "  Kappa:    0.417\n",
            "Points within 200m (spatial CV):\n",
            "  Accuracy: 0.598\n",
            "  Kappa:    0.46\n",
            "Distance to Old Town Sq + above (spatial CV):\n",
            "  Accuracy: 0.65\n",
            "  Kappa:    0.532\n",
            "Price + above (spatial CV):\n",
            "  Accuracy: 0.675\n",
            "  Kappa:    0.556\n",
            "Spatial dependence - lagged model (spatial CV):\n",
            "  Accuracy: 0.678\n",
            "  Kappa:    0.572\n",
            "Spatial heterogeneity - coordinates (spatial CV):\n",
            "  Accuracy: 0.632\n",
            "  Kappa:    0.501\n",
            "Spatial dependence + heterogeneity (spatial CV):\n",
            "  Accuracy: 0.71\n",
            "  Kappa:    0.613\n",
            "\n",
            "Complete dataset\n",
            "----------------\n",
            "Spatial dependence + heterogeneity (spatial CV):\n",
            "  Accuracy: 0.776\n",
            "  Kappa:    0.703\n"
          ]
        }
      ],
      "source": [
        "accuracy_all = metrics.accuracy_score(predicted_class, building_data[\"cluster\"])\n",
        "kappa_all = metrics.cohen_kappa_score(predicted_class, building_data[\"cluster\"])\n",
        "\n",
        "summary += f\"\"\"\n",
        "Complete dataset\n",
        "----------------\n",
        "Spatial dependence + heterogeneity (spatial CV):\n",
        "  Accuracy: {round(accuracy_all, 3)}\n",
        "  Kappa:    {round(kappa_all, 3)}\n",
        "\"\"\"\n",
        "print(summary)"
      ],
      "id": "09e6398c"
    },
    {
      "cell_type": "markdown",
      "metadata": {},
      "source": [
        "Not bad at all. More than 75% of buildings were correctly classified\n",
        "using only the data you were given in the beginning and geography. Just\n",
        "note that since the evaluation based on the full dataset is done based\n",
        "on a different sample of data than all those above, the values are not\n",
        "entirely comparable.\n",
        "\n",
        "> **Additional reading**\n",
        ">\n",
        "> This material combines components from the chapters on [*Spatial\n",
        "> Regression*](https://geographicdata.science/book/notebooks/11_regression.html)\n",
        "> and [*Spatial Feature\n",
        "> Engineering*](https://geographicdata.science/book/notebooks/12_feature_engineering.html)\n",
        "> from the Geographic Data Science with Python by @rey2023geographic.\n",
        "\n",
        "## The end\n",
        "\n",
        "Thank you for getting this far."
      ],
      "id": "938c7e00-0f6e-4f8c-91bb-186d17256fda"
    }
  ],
  "nbformat": 4,
  "nbformat_minor": 5,
  "metadata": {
    "kernelspec": {
      "name": "sds",
      "display_name": "sds",
      "language": "python",
      "path": "/home/runner/.local/share/jupyter/kernels/sds"
    },
    "language_info": {
      "name": "python",
      "codemirror_mode": {
        "name": "ipython",
        "version": "3"
      },
      "file_extension": ".py",
      "mimetype": "text/x-python",
      "nbconvert_exporter": "python",
      "pygments_lexer": "ipython3",
      "version": "3.12.11"
    }
  }
}