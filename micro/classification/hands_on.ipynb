{
  "cells": [
    {
      "cell_type": "markdown",
      "metadata": {},
      "source": [
        "# Classification in space\n",
        "\n",
        "As with regressions, both linear and non-linear, classification belongs\n",
        "to the realm of supervised machine learning. Right now, you should now\n",
        "how to deal with prediction of continuous variables and how to evaluate\n",
        "the model performance using the spatial dimension. In this chapter, you\n",
        "will learn how to predict categorical variables - classes, while\n",
        "outlining methods of introducing spatial dimension to commonly used\n",
        "machine learning models and make use of space to train much better model\n",
        "than without it.\n",
        "\n",
        "> **This is not an introduction to ML**\n",
        ">\n",
        "> Note that this material does not aim to cover an introduction to\n",
        "> machine learning thoroughly. There are other, much better materials\n",
        "> for that. One of them can be [scikit-learn’s User\n",
        "> guide](https://scikit-learn.org/stable/user_guide.html), but I am sure\n",
        "> you will find one that suits you."
      ],
      "id": "4a0f5ef3-5932-4955-a838-15b5697b7bf7"
    },
    {
      "cell_type": "code",
      "execution_count": 2,
      "metadata": {},
      "outputs": [],
      "source": [
        "import geopandas as gpd\n",
        "import matplotlib.pyplot as plt\n",
        "import numpy as np\n",
        "import pandas as pd\n",
        "import shapely\n",
        "from libpysal import graph\n",
        "from sklearn import ensemble, metrics, model_selection"
      ],
      "id": "68925da6"
    },
    {
      "cell_type": "markdown",
      "metadata": {},
      "source": [
        "## Data\n",
        "\n",
        "The data you will work with today comes from the study on the urban\n",
        "development of Prague, published in @fleischmann2022Methodological. The\n",
        "original dataset is significantly simplified for the purpose of this\n",
        "material and contains point data reflecting the location of buildings in\n",
        "Prague with a subset of measured attributes describing each one and\n",
        "(aggregated) type of urban development they belong to. The type is a\n",
        "categorical variable that will be your dependent variable today. The\n",
        "goal is to use the other variables and spatial information to predict\n",
        "which type each building belongs to.\n",
        "\n",
        "> **Caution**\n",
        ">\n",
        "> The dataset contains ~140k points, so I don’t recommend using\n",
        "> `explore()` on all of it."
      ],
      "id": "69f19527-6d19-498d-affd-7a1ea49adee7"
    },
    {
      "cell_type": "code",
      "execution_count": 3,
      "metadata": {},
      "outputs": [
        {
          "output_type": "display_data",
          "metadata": {},
          "data": {
            "text/html": [
              "\n",
              "</div>"
            ]
          }
        }
      ],
      "source": [
        "building_data = gpd.read_file(\n",
        "  \"https://martinfleischmann.net/sds/classification/data/prg_building_locations.gpkg\",\n",
        ")\n",
        "building_data.head()"
      ],
      "id": "6ea9c749"
    },
    {
      "cell_type": "markdown",
      "metadata": {},
      "source": [
        "> **Alternative**\n",
        ">\n",
        "> Instead of reading the file directly off the web, it is possible to\n",
        "> download it manually, store it on your computer, and read it locally.\n",
        "> To do that, you can follow these steps:\n",
        ">\n",
        "> 1.  Download the file by right-clicking on [this\n",
        ">     link](https://martinfleischmann.net/sds/classification/data/prg_building_locations.gpkg)\n",
        ">     and saving the file\n",
        "> 2.  Place the file in the same folder as the notebook where you intend\n",
        ">     to read it\n",
        "> 3.  Replace the code in the cell above with:\n",
        ">\n",
        "> ``` python\n",
        "> building_data = gpd.read_file(\n",
        ">     \"prg_building_locations.gpkg\",\n",
        "> )\n",
        "> ```\n",
        "\n",
        "The original taxonomy has been re-classified to provide eight types of\n",
        "urban development shown in the figure below."
      ],
      "id": "f3df0dc5-9b0b-400e-b1c5-37f9219c39f4"
    },
    {
      "cell_type": "code",
      "execution_count": 4,
      "metadata": {},
      "outputs": [
        {
          "output_type": "display_data",
          "metadata": {},
          "data": {}
        }
      ],
      "source": [
        "ax = building_data.plot(\n",
        "    \"cluster\", legend=True, figsize=(9, 9), markersize=0.005\n",
        ")\n",
        "ax.set_axis_off()"
      ],
      "id": "2c6a41fe"
    },
    {
      "cell_type": "markdown",
      "metadata": {},
      "source": [
        "List the columns containing some numerical value and save it as a\n",
        "variable. There are six of them out of the original few hundred."
      ],
      "id": "db0bf948-d593-4a42-912e-bcac55427b5a"
    },
    {
      "cell_type": "code",
      "execution_count": 5,
      "metadata": {},
      "outputs": [],
      "source": [
        "independent_variables = [\n",
        "    \"floor_area_ratio\",\n",
        "    \"height\",\n",
        "    \"compactness\",\n",
        "    \"street_alignment\",\n",
        "    \"interbuilding_distance\",\n",
        "    \"block_perimeter_wall_length\",\n",
        "]"
      ],
      "id": "1cdfb8c0"
    },
    {
      "cell_type": "markdown",
      "metadata": {},
      "source": [
        "It may be helpful to understand the spatial distribution of each of them\n",
        "to know what to expect, and build an intuition about their relationship\n",
        "with the classification above."
      ],
      "id": "7b099135-5d29-45ab-8206-dbc966edacee"
    },
    {
      "cell_type": "code",
      "execution_count": 6,
      "metadata": {},
      "outputs": [
        {
          "output_type": "display_data",
          "metadata": {},
          "data": {}
        }
      ],
      "source": [
        "fig, axs = plt.subplots(3, 2, figsize=(9, 9))\n",
        "axs = axs.flatten()\n",
        "for i, var in enumerate(independent_variables):\n",
        "    building_data.plot(var, markersize=0.01, cmap=\"bone_r\", ax=axs[i])\n",
        "    axs[i].set_title(var, fontdict={\"fontsize\": 8})\n",
        "    axs[i].set_axis_off()"
      ],
      "id": "8909c301"
    },
    {
      "cell_type": "markdown",
      "metadata": {},
      "source": [
        "## Classification 101\n",
        "\n",
        "The main task of today is to train classification models using the\n",
        "`scikit-learn`, so let’s begin.\n",
        "\n",
        "### Data preparation\n",
        "\n",
        "The dataset contains a bit over 140k points. While more data tend to\n",
        "bring additional performance to ML models, the relationship is far from\n",
        "linear, and you often get nearly as performant models using just a\n",
        "fraction of data. Moreover, it takes longer to train on more data :).\n",
        "\n",
        "Select a random sample of 20k points you will work with. You can later\n",
        "test for yourself how big of an effect the size of the sample has."
      ],
      "id": "72e84375-1811-49a6-9302-7384ce102173"
    },
    {
      "cell_type": "code",
      "execution_count": 7,
      "metadata": {},
      "outputs": [],
      "source": [
        "training_sample = building_data.sample(20_000, random_state=0)"
      ],
      "id": "837af843"
    },
    {
      "cell_type": "markdown",
      "metadata": {},
      "source": [
        "From the sample, extract the `DataFrame` with just the independent\n",
        "variables for the simplicity."
      ],
      "id": "e8e740bd-b60b-4310-8bdf-77b5bbdec434"
    },
    {
      "cell_type": "code",
      "execution_count": 8,
      "metadata": {},
      "outputs": [
        {
          "output_type": "display_data",
          "metadata": {},
          "data": {
            "text/html": [
              "\n",
              "</div>"
            ]
          }
        }
      ],
      "source": [
        "independent = training_sample[independent_variables]\n",
        "independent.head(2)"
      ],
      "id": "82562b01"
    },
    {
      "cell_type": "markdown",
      "metadata": {},
      "source": [
        "### Train-test split\n",
        "\n",
        "You already know what train-test split is from the last session. The\n",
        "same code used for regression can be used for classification (now)."
      ],
      "id": "3c083479-1c17-49fa-9df6-49f19681e9c3"
    },
    {
      "cell_type": "code",
      "execution_count": 9,
      "metadata": {},
      "outputs": [],
      "source": [
        "X_train, X_test, y_train, y_test = model_selection.train_test_split(\n",
        "    independent, training_sample[\"cluster\"], test_size=0.25, random_state=0\n",
        ")"
      ],
      "id": "5728f679"
    },
    {
      "cell_type": "markdown",
      "metadata": {},
      "source": [
        "### Random Forest Classifier\n",
        "\n",
        "As the last time, let’s not overcomplicate your life with overview of\n",
        "various model architectures. The goal of today is to learn how to\n",
        "include the spatial dimension in them and that is the same for most of\n",
        "them. Pick a random forest classifier and fit the baseline model without\n",
        "thinking about space and geography at all."
      ],
      "id": "d8e9669e-6ce0-4d4a-b74a-5ba3dfe54c09"
    },
    {
      "cell_type": "code",
      "execution_count": 10,
      "metadata": {},
      "outputs": [
        {
          "output_type": "display_data",
          "metadata": {},
          "data": {
            "text/html": [
              "\n",
              "            </details>\n",
              "        </div>\n",
              "    </div></div></div></div></div><script>function copyToClipboard(text, element) {\n",
              "    // Get the parameter prefix from the closest toggleable content\n",
              "    const toggleableContent = element.closest('.sk-toggleable__content');\n",
              "    const paramPrefix = toggleableContent ? toggleableContent.dataset.paramPrefix : '';\n",
              "    const fullParamName = paramPrefix ? `${paramPrefix}${text}` : text;\n",
              "\n",
              "    const originalStyle = element.style;\n",
              "    const computedStyle = window.getComputedStyle(element);\n",
              "    const originalWidth = computedStyle.width;\n",
              "    const originalHTML = element.innerHTML.replace('Copied!', '');\n",
              "\n",
              "    navigator.clipboard.writeText(fullParamName)\n",
              "        .then(() => {\n",
              "            element.style.width = originalWidth;\n",
              "            element.style.color = 'green';\n",
              "            element.innerHTML = \"Copied!\";\n",
              "\n",
              "            setTimeout(() => {\n",
              "                element.innerHTML = originalHTML;\n",
              "                element.style = originalStyle;\n",
              "            }, 2000);\n",
              "        })\n",
              "        .catch(err => {\n",
              "            console.error('Failed to copy:', err);\n",
              "            element.style.color = 'red';\n",
              "            element.innerHTML = \"Failed!\";\n",
              "            setTimeout(() => {\n",
              "                element.innerHTML = originalHTML;\n",
              "                element.style = originalStyle;\n",
              "            }, 2000);\n",
              "        });\n",
              "    return false;\n",
              "}\n",
              "\n",
              "document.querySelectorAll('.fa-regular.fa-copy').forEach(function(element) {\n",
              "    const toggleableContent = element.closest('.sk-toggleable__content');\n",
              "    const paramPrefix = toggleableContent ? toggleableContent.dataset.paramPrefix : '';\n",
              "    const paramName = element.parentElement.nextElementSibling.textContent.trim();\n",
              "    const fullParamName = paramPrefix ? `${paramPrefix}${paramName}` : paramName;\n",
              "\n",
              "    element.setAttribute('title', fullParamName);\n",
              "});\n",
              "</script></body>"
            ]
          }
        }
      ],
      "source": [
        "model = ensemble.RandomForestClassifier(random_state=0, n_jobs=-1)\n",
        "model.fit(X_train, y_train)"
      ],
      "id": "0e5058ab"
    },
    {
      "cell_type": "markdown",
      "metadata": {},
      "source": [
        "#### Prediction\n",
        "\n",
        "The trained model can be directly used to predict the classes (type of\n",
        "development in this case). Using the test portion of data, you can get\n",
        "the predicted label:"
      ],
      "id": "4478effb-b17f-4b6b-9c40-94a6b1b0f315"
    },
    {
      "cell_type": "code",
      "execution_count": 11,
      "metadata": {},
      "outputs": [
        {
          "output_type": "display_data",
          "metadata": {},
          "data": {
            "text/plain": [
              "array(['single family housing', 'single family housing', 'medieval city',\n",
              "       ..., 'single family housing', 'grids', 'single family housing'],\n",
              "      shape=(5000,), dtype=object)"
            ]
          }
        }
      ],
      "source": [
        "pred = model.predict(X_test)\n",
        "pred"
      ],
      "id": "357a8e9e"
    },
    {
      "cell_type": "markdown",
      "metadata": {},
      "source": [
        "Or probabilities for every single class. The class prediction above just\n",
        "involves selecting the one with the maximum probability."
      ],
      "id": "498124e8-6395-412e-ac14-0cacf77a5f76"
    },
    {
      "cell_type": "code",
      "execution_count": 12,
      "metadata": {},
      "outputs": [
        {
          "output_type": "display_data",
          "metadata": {},
          "data": {
            "text/plain": [
              "array([[0.02, 0.18, 0.06, ..., 0.04, 0.42, 0.25],\n",
              "       [0.01, 0.  , 0.  , ..., 0.13, 0.86, 0.  ],\n",
              "       [0.  , 0.19, 0.  , ..., 0.  , 0.  , 0.  ],\n",
              "       ...,\n",
              "       [0.03, 0.08, 0.  , ..., 0.06, 0.5 , 0.33],\n",
              "       [0.  , 0.99, 0.  , ..., 0.  , 0.  , 0.01],\n",
              "       [0.07, 0.18, 0.04, ..., 0.  , 0.52, 0.08]], shape=(5000, 8))"
            ]
          }
        }
      ],
      "source": [
        "proba = model.predict_proba(X_test)\n",
        "proba"
      ],
      "id": "1b9d0267"
    },
    {
      "cell_type": "markdown",
      "metadata": {},
      "source": [
        "Both outputs are numpy arrays, but the probabilities would be especially\n",
        "helpful to see as a `DataFrame` with column names representing class\n",
        "names. Those are available as `.classes_`:"
      ],
      "id": "d1fae32d-2253-410c-bafa-700a96f83e1b"
    },
    {
      "cell_type": "code",
      "execution_count": 13,
      "metadata": {},
      "outputs": [
        {
          "output_type": "display_data",
          "metadata": {},
          "data": {
            "text/plain": [
              "array(['fringe development', 'grids', 'housing estates',\n",
              "       'large-scale industry', 'medieval city', 'periphery',\n",
              "       'single family housing', 'small-scale row houses'], dtype=object)"
            ]
          }
        }
      ],
      "source": [
        "model.classes_"
      ],
      "id": "23d82215"
    },
    {
      "cell_type": "markdown",
      "metadata": {},
      "source": [
        "You can quickly combine it all with the original index to get a\n",
        "`DataFrame` of probabilities."
      ],
      "id": "7555a045-ed2f-4b6d-a0fe-21a6741f50b1"
    },
    {
      "cell_type": "code",
      "execution_count": 14,
      "metadata": {},
      "outputs": [
        {
          "output_type": "display_data",
          "metadata": {},
          "data": {
            "text/html": [
              "\n",
              "<p>5000 rows × 8 columns</p>\n",
              "</div>"
            ]
          }
        }
      ],
      "source": [
        "pd.DataFrame(proba, columns=model.classes_, index=X_test.index)"
      ],
      "id": "7b9bffb5"
    },
    {
      "cell_type": "markdown",
      "metadata": {},
      "source": [
        "#### Evaluation\n",
        "\n",
        "Now comes the evaluation part. Normally, you are interested in a number\n",
        "of performance metrics capturing how good the model is. Among the most\n",
        "common ones are *accuracy* and *Cohen’s kappa score*. Accuracy captures\n",
        "the fraction of correct predictions, i.e., how many labels in the\n",
        "predicted array equal the known labels. [Kappa\n",
        "score](https://en.wikipedia.org/wiki/Cohen%27s_kappa) is seen as a more\n",
        "robust metric but not straightforwardly interpretable."
      ],
      "id": "549d3aa6-85f0-4c4e-bff2-0e0d2cbeb32d"
    },
    {
      "cell_type": "code",
      "execution_count": 15,
      "metadata": {},
      "outputs": [
        {
          "output_type": "stream",
          "name": "stdout",
          "text": [
            "Evaluation metrics\n",
            "==================\n",
            "Basic model:\n",
            "  Accuracy: 0.585\n",
            "  Kappa:    0.451\n"
          ]
        }
      ],
      "source": [
        "accuracy = metrics.accuracy_score(pred, y_test)\n",
        "kappa = metrics.cohen_kappa_score(pred, y_test)\n",
        "\n",
        "summary = f\"\"\"\\\n",
        "Evaluation metrics\n",
        "==================\n",
        "Basic model:\n",
        "  Accuracy: {round(accuracy, 3)}\n",
        "  Kappa:    {round(kappa, 3)}\n",
        "\"\"\"\n",
        "\n",
        "print(summary)"
      ],
      "id": "679bfc4f"
    },
    {
      "cell_type": "markdown",
      "metadata": {},
      "source": [
        "The results are not bad, considering the limited amount of information\n",
        "provided in independent variables. Around 58% of labels are correctly\n",
        "predicted.\n",
        "\n",
        "Apart from the model performance, you can also evaluate how important\n",
        "each of the independent variables for the result is using the\n",
        "`.feature_importances_` metric. Again, wrapping it in a pandas object is\n",
        "useful to get feature names alongside the values."
      ],
      "id": "03b87a33-1edf-4b06-ad14-5e0124f1465d"
    },
    {
      "cell_type": "code",
      "execution_count": 16,
      "metadata": {},
      "outputs": [
        {
          "output_type": "display_data",
          "metadata": {},
          "data": {
            "text/plain": [
              "compactness                    0.125290\n",
              "street_alignment               0.125377\n",
              "floor_area_ratio               0.166264\n",
              "height                         0.174755\n",
              "block_perimeter_wall_length    0.187369\n",
              "interbuilding_distance         0.220944\n",
              "dtype: float64"
            ]
          }
        }
      ],
      "source": [
        "pd.Series(model.feature_importances_, index=model.feature_names_in_).sort_values()"
      ],
      "id": "20aff567"
    },
    {
      "cell_type": "markdown",
      "metadata": {},
      "source": [
        "There seems to be a relatively good balance of importance ranging from\n",
        "12% for compactness to 22% for inter-building distance. Check if that\n",
        "matches our intuition in relation to the spatial distribution of each of\n",
        "them.\n",
        "\n",
        "### Cross-validated prediction\n",
        "\n",
        "To get a full map, we need to use cross-validated prediction once again.\n",
        "For the detailed explanation see the previous chapter on non-linear\n",
        "regression."
      ],
      "id": "128a1ca0-88e3-4d48-a489-d8b09898c6b7"
    },
    {
      "cell_type": "code",
      "execution_count": 17,
      "metadata": {},
      "outputs": [
        {
          "output_type": "display_data",
          "metadata": {},
          "data": {}
        }
      ],
      "source": [
        "predicted = model_selection.cross_val_predict(\n",
        "    model, independent, training_sample[\"cluster\"], cv=4, n_jobs=-1\n",
        ")\n",
        "\n",
        "ax = training_sample.plot(predicted, legend=True, figsize=(9, 9), markersize=0.1)\n",
        "ax.set_axis_off()"
      ],
      "id": "b85c0e7a"
    },
    {
      "cell_type": "markdown",
      "metadata": {},
      "source": [
        "What CV-prediction allows to not only plot the labels but importantly to\n",
        "plot the spatial pattern of errors."
      ],
      "id": "b9ef8cd1-c05d-4527-9f21-e91e60ee984f"
    },
    {
      "cell_type": "code",
      "execution_count": 18,
      "metadata": {},
      "outputs": [
        {
          "output_type": "display_data",
          "metadata": {},
          "data": {}
        }
      ],
      "source": [
        "ax = training_sample.plot(\n",
        "    predicted == training_sample[\"cluster\"],\n",
        "    categorical=True,\n",
        "    figsize=(9, 9),\n",
        "    markersize=0.1,\n",
        "    cmap=\"bwr_r\",\n",
        "    legend=True,\n",
        ")\n",
        "ax.set_axis_off()"
      ],
      "id": "2a51a073"
    },
    {
      "cell_type": "markdown",
      "metadata": {},
      "source": [
        "As with the linear regression, a spatial autocorrelation of errors means\n",
        "that the model does not represent space reliably and may need some\n",
        "adaptations.\n",
        "\n",
        "## Spatial cross-validation\n",
        "\n",
        "The same discussed in the regression chapter applies to classification.\n",
        "Spaital leakage caused by spatial dependency is a real problem and needs\n",
        "to be mitigated.\n",
        "\n",
        "You can do that based on many criteria, but it is handy to have a\n",
        "variable representing those regions as the `\"basic_settlement_unit\"`\n",
        "column in your DataFrame.\n",
        "\n",
        "With a categorical column indicating groups, you can use the\n",
        "`StratifiedGroupKFold` class from the `scikit-learn` to create the\n",
        "folds. Stratified K-fold not only ensures that the data is split by\n",
        "groups but also that there is a roughly equal proportion of classes\n",
        "within each split."
      ],
      "id": "41cc4b10-c9b9-4620-b74d-729a209e9f41"
    },
    {
      "cell_type": "code",
      "execution_count": 19,
      "metadata": {},
      "outputs": [],
      "source": [
        "gkf = model_selection.StratifiedGroupKFold(n_splits=5)\n",
        "splits = gkf.split(\n",
        "    training_sample,\n",
        "    training_sample.cluster,\n",
        "    groups=training_sample.basic_settlement_unit,\n",
        ")"
      ],
      "id": "0eb684bf"
    },
    {
      "cell_type": "markdown",
      "metadata": {},
      "source": [
        "The `splits` variable now contains an iterator - an object we can loop\n",
        "through that gives you train and test parts for each split. You can\n",
        "easily extract the labels indicating the splits:"
      ],
      "id": "0306bb3d-364d-4f52-a867-7e7f491810b9"
    },
    {
      "cell_type": "code",
      "execution_count": 20,
      "metadata": {},
      "outputs": [],
      "source": [
        "split_label = np.empty(len(training_sample), dtype=float)\n",
        "for i, (train, test) in enumerate(splits):\n",
        "    split_label[test] = i\n",
        "training_sample[\"split\"] = split_label"
      ],
      "id": "0c090d28"
    },
    {
      "cell_type": "markdown",
      "metadata": {},
      "source": [
        "With the labels extracted from `StratifiedGroupKFold`, you can plot the\n",
        "splits on a map."
      ],
      "id": "cd8046d2-876f-4eac-9881-4e5eb4a954ee"
    },
    {
      "cell_type": "code",
      "execution_count": 21,
      "metadata": {},
      "outputs": [
        {
          "output_type": "display_data",
          "metadata": {},
          "data": {}
        }
      ],
      "source": [
        "ax = training_sample.plot(\n",
        "  \"split\", categorical=True, figsize=(9, 9), markersize=0.1, legend=True\n",
        ")\n",
        "training_sample.dissolve(\"basic_settlement_unit\").convex_hull.boundary.plot(\n",
        "    ax=ax, color=\"k\", linewidth=0.5, markersize=0\n",
        ")\n",
        "ax.set_axis_off()"
      ],
      "id": "6ff0c8ba"
    },
    {
      "cell_type": "markdown",
      "metadata": {},
      "source": [
        "With the new, and arguably better train-test, split, you can create new\n",
        "training and evaluation data. You can use the split with the label `0`\n",
        "as a test part and the rest as a train part."
      ],
      "id": "168ecc58-d87a-436d-b0bc-bfa9b61b851a"
    },
    {
      "cell_type": "code",
      "execution_count": 22,
      "metadata": {},
      "outputs": [],
      "source": [
        "train = training_sample[\"split\"] != 0\n",
        "X_train = independent.loc[train]\n",
        "y_train = training_sample[\"cluster\"].loc[train]\n",
        "\n",
        "test = training_sample[\"split\"] == 0\n",
        "X_test = independent.loc[test]\n",
        "y_test = training_sample[\"cluster\"].loc[test]"
      ],
      "id": "8c2967db"
    },
    {
      "cell_type": "markdown",
      "metadata": {},
      "source": [
        "New data require a new model."
      ],
      "id": "5445ff05-95eb-44cf-9646-eb8808b9606b"
    },
    {
      "cell_type": "code",
      "execution_count": 23,
      "metadata": {},
      "outputs": [
        {
          "output_type": "display_data",
          "metadata": {},
          "data": {
            "text/html": [
              "\n",
              "            </details>\n",
              "        </div>\n",
              "    </div></div></div></div></div><script>function copyToClipboard(text, element) {\n",
              "    // Get the parameter prefix from the closest toggleable content\n",
              "    const toggleableContent = element.closest('.sk-toggleable__content');\n",
              "    const paramPrefix = toggleableContent ? toggleableContent.dataset.paramPrefix : '';\n",
              "    const fullParamName = paramPrefix ? `${paramPrefix}${text}` : text;\n",
              "\n",
              "    const originalStyle = element.style;\n",
              "    const computedStyle = window.getComputedStyle(element);\n",
              "    const originalWidth = computedStyle.width;\n",
              "    const originalHTML = element.innerHTML.replace('Copied!', '');\n",
              "\n",
              "    navigator.clipboard.writeText(fullParamName)\n",
              "        .then(() => {\n",
              "            element.style.width = originalWidth;\n",
              "            element.style.color = 'green';\n",
              "            element.innerHTML = \"Copied!\";\n",
              "\n",
              "            setTimeout(() => {\n",
              "                element.innerHTML = originalHTML;\n",
              "                element.style = originalStyle;\n",
              "            }, 2000);\n",
              "        })\n",
              "        .catch(err => {\n",
              "            console.error('Failed to copy:', err);\n",
              "            element.style.color = 'red';\n",
              "            element.innerHTML = \"Failed!\";\n",
              "            setTimeout(() => {\n",
              "                element.innerHTML = originalHTML;\n",
              "                element.style = originalStyle;\n",
              "            }, 2000);\n",
              "        });\n",
              "    return false;\n",
              "}\n",
              "\n",
              "document.querySelectorAll('.fa-regular.fa-copy').forEach(function(element) {\n",
              "    const toggleableContent = element.closest('.sk-toggleable__content');\n",
              "    const paramPrefix = toggleableContent ? toggleableContent.dataset.paramPrefix : '';\n",
              "    const paramName = element.parentElement.nextElementSibling.textContent.trim();\n",
              "    const fullParamName = paramPrefix ? `${paramPrefix}${paramName}` : paramName;\n",
              "\n",
              "    element.setAttribute('title', fullParamName);\n",
              "});\n",
              "</script></body>"
            ]
          }
        }
      ],
      "source": [
        "rf_spatial_cv = ensemble.RandomForestClassifier(random_state=0, n_jobs=-1)\n",
        "rf_spatial_cv.fit(X_train, y_train)"
      ],
      "id": "29593705"
    },
    {
      "cell_type": "markdown",
      "metadata": {},
      "source": [
        "And its evaluation. Just use `+=` to add to the existing summary."
      ],
      "id": "03f079b0-d33a-4521-ba7e-cea9daba32b6"
    },
    {
      "cell_type": "code",
      "execution_count": 24,
      "metadata": {},
      "outputs": [
        {
          "output_type": "stream",
          "name": "stdout",
          "text": [
            "Evaluation metrics\n",
            "==================\n",
            "Basic model:\n",
            "  Accuracy: 0.585\n",
            "  Kappa:    0.451\n",
            "Basic model with spatial cross-validation:\n",
            "  Accuracy: 0.569\n",
            "  Kappa:    0.417\n"
          ]
        }
      ],
      "source": [
        "pred = rf_spatial_cv.predict(X_test)\n",
        "\n",
        "accuracy_spatial_cv = metrics.accuracy_score(pred, y_test)\n",
        "kappa_spatial_cv = metrics.cohen_kappa_score(pred, y_test)\n",
        "\n",
        "summary += f\"\"\"\\\n",
        "Basic model with spatial cross-validation:\n",
        "  Accuracy: {round(accuracy_spatial_cv, 3)}\n",
        "  Kappa:    {round(kappa_spatial_cv, 3)}\n",
        "\"\"\"\n",
        "\n",
        "print(summary)"
      ],
      "id": "0a4e0bc2"
    },
    {
      "cell_type": "markdown",
      "metadata": {},
      "source": [
        "The results are marginally worse, but that is expected. It means that\n",
        "the original model was indeed a bit leaking! The model based on the\n",
        "spatial CV should be more robust than the previous one, meaning that it\n",
        "should perform as expected on unseen data.\n",
        "\n",
        "The result is worse on paper but is now more spatially robust - it will\n",
        "generalize better on unseen data.\n",
        "\n",
        "## Feature engineering\n",
        "\n",
        "Sometimes, the original data is just not enough for a decent prediction.\n",
        "At that point, you may want to include some other variables that would\n",
        "help, but they may not be readily available, and you need to create\n",
        "them.\n",
        "\n",
        "The first option is to look at the data you have and extract some\n",
        "additional information from it using methods known as map synthesis.\n",
        "\n",
        "### Map synthesis\n",
        "\n",
        "Map synthesis uses the spatial structure of the data to derive new\n",
        "features. There’s no external input, you simply put geography at work.\n",
        "\n",
        "#### Point density\n",
        "\n",
        "There are methods of map synthesis that work directly with existing\n",
        "values, and there are those that look solely at the spatial distribution\n",
        "of your data. One example of the latter is a measurement of point\n",
        "density (number of neighbors within a distance band).\n",
        "\n",
        "You should already know how to do that using the `graph` module of\n",
        "`libpysal`. Create a `Graph` and extract its cardinalities (the number\n",
        "of neighbors)."
      ],
      "id": "0154d91f-f3ad-4a6a-bbbb-e3c1d8059dbc"
    },
    {
      "cell_type": "code",
      "execution_count": 25,
      "metadata": {},
      "outputs": [],
      "source": [
        "distance_200 = graph.Graph.build_distance_band(training_sample, 200)\n",
        "training_sample[\"points_in_200m\"] = distance_200.cardinalities"
      ],
      "id": "69ef0d0c"
    },
    {
      "cell_type": "markdown",
      "metadata": {},
      "source": [
        "Let’s check if the result has some meaningful spatial pattern."
      ],
      "id": "12a5ee49-dd35-4eb0-8596-6a3439357f4d"
    },
    {
      "cell_type": "code",
      "execution_count": 26,
      "metadata": {},
      "outputs": [
        {
          "output_type": "display_data",
          "metadata": {},
          "data": {}
        }
      ],
      "source": [
        "ax = training_sample.plot(\"points_in_200m\", figsize=(9, 9), markersize=0.1)\n",
        "ax.set_axis_off()"
      ],
      "id": "03e79b3a"
    },
    {
      "cell_type": "markdown",
      "metadata": {},
      "source": [
        "It is not a strong one, but there are clear pockets of the higher point\n",
        "density, so this new column can help with the prediction accuracy.\n",
        "Create a new set of independent variables, including the new one, and\n",
        "generate new training and evaluation data."
      ],
      "id": "d5bb3f05-ca0a-4281-99a1-d34c83ec91b7"
    },
    {
      "cell_type": "code",
      "execution_count": 27,
      "metadata": {},
      "outputs": [],
      "source": [
        "independent_proximity = training_sample[\n",
        "    independent_variables + [\"points_in_200m\"]\n",
        "]\n",
        "\n",
        "X_train = independent_proximity.loc[train]\n",
        "y_train = training_sample[\"cluster\"].loc[train]\n",
        "\n",
        "X_test = independent_proximity.loc[test]\n",
        "y_test = training_sample[\"cluster\"].loc[test]"
      ],
      "id": "fc5a668a"
    },
    {
      "cell_type": "markdown",
      "metadata": {},
      "source": [
        "The rest is simply rinse and repeat. Create the model and train it on\n",
        "new data."
      ],
      "id": "837ea996-2255-40db-b8d8-fa4d2e5f9ba7"
    },
    {
      "cell_type": "code",
      "execution_count": 28,
      "metadata": {},
      "outputs": [
        {
          "output_type": "display_data",
          "metadata": {},
          "data": {
            "text/html": [
              "\n",
              "            </details>\n",
              "        </div>\n",
              "    </div></div></div></div></div><script>function copyToClipboard(text, element) {\n",
              "    // Get the parameter prefix from the closest toggleable content\n",
              "    const toggleableContent = element.closest('.sk-toggleable__content');\n",
              "    const paramPrefix = toggleableContent ? toggleableContent.dataset.paramPrefix : '';\n",
              "    const fullParamName = paramPrefix ? `${paramPrefix}${text}` : text;\n",
              "\n",
              "    const originalStyle = element.style;\n",
              "    const computedStyle = window.getComputedStyle(element);\n",
              "    const originalWidth = computedStyle.width;\n",
              "    const originalHTML = element.innerHTML.replace('Copied!', '');\n",
              "\n",
              "    navigator.clipboard.writeText(fullParamName)\n",
              "        .then(() => {\n",
              "            element.style.width = originalWidth;\n",
              "            element.style.color = 'green';\n",
              "            element.innerHTML = \"Copied!\";\n",
              "\n",
              "            setTimeout(() => {\n",
              "                element.innerHTML = originalHTML;\n",
              "                element.style = originalStyle;\n",
              "            }, 2000);\n",
              "        })\n",
              "        .catch(err => {\n",
              "            console.error('Failed to copy:', err);\n",
              "            element.style.color = 'red';\n",
              "            element.innerHTML = \"Failed!\";\n",
              "            setTimeout(() => {\n",
              "                element.innerHTML = originalHTML;\n",
              "                element.style = originalStyle;\n",
              "            }, 2000);\n",
              "        });\n",
              "    return false;\n",
              "}\n",
              "\n",
              "document.querySelectorAll('.fa-regular.fa-copy').forEach(function(element) {\n",
              "    const toggleableContent = element.closest('.sk-toggleable__content');\n",
              "    const paramPrefix = toggleableContent ? toggleableContent.dataset.paramPrefix : '';\n",
              "    const paramName = element.parentElement.nextElementSibling.textContent.trim();\n",
              "    const fullParamName = paramPrefix ? `${paramPrefix}${paramName}` : paramName;\n",
              "\n",
              "    element.setAttribute('title', fullParamName);\n",
              "});\n",
              "</script></body>"
            ]
          }
        }
      ],
      "source": [
        "rf_proximity = ensemble.RandomForestClassifier(random_state=0, n_jobs=-1)\n",
        "rf_proximity.fit(X_train, y_train)"
      ],
      "id": "c57649ec"
    },
    {
      "cell_type": "markdown",
      "metadata": {},
      "source": [
        "And evaluate it in the same way as before."
      ],
      "id": "ef9a5758-7406-4ce5-be16-4893100d88dc"
    },
    {
      "cell_type": "code",
      "execution_count": 29,
      "metadata": {},
      "outputs": [
        {
          "output_type": "stream",
          "name": "stdout",
          "text": [
            "Evaluation metrics\n",
            "==================\n",
            "Basic model:\n",
            "  Accuracy: 0.585\n",
            "  Kappa:    0.451\n",
            "Basic model with spatial cross-validation:\n",
            "  Accuracy: 0.569\n",
            "  Kappa:    0.417\n",
            "Points within 200m (spatial CV):\n",
            "  Accuracy: 0.598\n",
            "  Kappa:    0.46\n"
          ]
        }
      ],
      "source": [
        "pred = rf_proximity.predict(X_test)\n",
        "\n",
        "accuracy_proximity = metrics.accuracy_score(pred, y_test)\n",
        "kappa_proximity = metrics.cohen_kappa_score(pred, y_test)\n",
        "\n",
        "summary += f\"\"\"\\\n",
        "Points within 200m (spatial CV):\n",
        "  Accuracy: {round(accuracy_proximity, 3)}\n",
        "  Kappa:    {round(kappa_proximity, 3)}\n",
        "\"\"\"\n",
        "print(summary)"
      ],
      "id": "e87d3605"
    },
    {
      "cell_type": "markdown",
      "metadata": {},
      "source": [
        "Remember that your baseline model is the *Basic model with spatial\n",
        "cross-validation*. Compared to that, the performance of the new model is\n",
        "a bit better, especially when looking at Cohen’s kappa. It seems that\n",
        "the point density brings some value. You can check how important it is\n",
        "compared to the original variables."
      ],
      "id": "314c5d5a-ce81-4100-a666-83397dc06387"
    },
    {
      "cell_type": "code",
      "execution_count": 30,
      "metadata": {},
      "outputs": [
        {
          "output_type": "display_data",
          "metadata": {},
          "data": {
            "text/plain": [
              "compactness                    0.108826\n",
              "street_alignment               0.109491\n",
              "points_in_200m                 0.126702\n",
              "floor_area_ratio               0.146126\n",
              "height                         0.159025\n",
              "block_perimeter_wall_length    0.173752\n",
              "interbuilding_distance         0.176079\n",
              "dtype: float64"
            ]
          }
        }
      ],
      "source": [
        "pd.Series(\n",
        "    rf_proximity.feature_importances_, index=rf_proximity.feature_names_in_\n",
        ").sort_values()"
      ],
      "id": "b01197cc"
    },
    {
      "cell_type": "markdown",
      "metadata": {},
      "source": [
        "It seems that not that much, but each percent of accuracy counts.\n",
        "\n",
        "Point density is just one example, and there are many more. Below, when\n",
        "dealing with spatial dependence, you’ll get back to map synthesis once\n",
        "again. But before that, let’s use some external data to improve the\n",
        "model.\n",
        "\n",
        "### Proximity variables\n",
        "\n",
        "Sometimes, you may have an assumption that a distance to a specific\n",
        "location or a set of locations makes a difference to the spatial\n",
        "distribution of the dependent variable, and the inclusion of a variable\n",
        "reflecting this distance could help the model. You can think of distance\n",
        "to subway stations when dealing with rent price prediction or distance\n",
        "to highways when trying to predict air pollution. In the case of urban\n",
        "development in Prague, it may be interesting to capture the distance\n",
        "from the city centre. Prague is a very monocentric city whose\n",
        "development happened over the years in a series of concentric rings.\n",
        "First, the medieval centre, then industrial-era neighborhoods behind the\n",
        "original city walls, and so on. Therefore, a distance to Old Town Square\n",
        "may be useful for the development type prediction.\n",
        "\n",
        "You have done this\n",
        "[before](../geographic_data/hands_on.html#measuring-distance), so fire\n",
        "up geocoding, and extract the point representing the square in the same\n",
        "CRS the rest of the data is in.\n",
        "\n",
        "``` py\n",
        "old_town_square = (\n",
        "    gpd.tools.geocode(\"Old Town Square, Prague\")\n",
        "    .to_crs(building_data.crs)\n",
        "    .geometry.item()\n",
        ")\n",
        "```\n",
        "\n",
        "With the point, you can measure the distance from every building in the\n",
        "training sample and use the resulting column as another independent\n",
        "variable."
      ],
      "id": "c4587560-07b7-4283-b019-5410a089f5c6"
    },
    {
      "cell_type": "code",
      "execution_count": 32,
      "metadata": {},
      "outputs": [
        {
          "output_type": "display_data",
          "metadata": {},
          "data": {}
        }
      ],
      "source": [
        "training_sample[\"distance_to_old_town\"] = training_sample.distance(old_town_square)\n",
        "\n",
        "ax = training_sample.plot(\"distance_to_old_town\", figsize=(9, 9), markersize=0.1)\n",
        "ax.set_axis_off()"
      ],
      "id": "be21eaad"
    },
    {
      "cell_type": "markdown",
      "metadata": {},
      "source": [
        "Now simply add it to the `DataFrame` representing independent variables\n",
        "and the rest is the same."
      ],
      "id": "9703a7ef-7ec9-407b-8103-b10ccd6201f5"
    },
    {
      "cell_type": "code",
      "execution_count": 33,
      "metadata": {},
      "outputs": [],
      "source": [
        "independent_distance = training_sample[\n",
        "    independent_variables + [\"points_in_200m\", \"distance_to_old_town\"]\n",
        "]\n",
        "\n",
        "X_train = independent_distance.loc[train]\n",
        "y_train = training_sample[\"cluster\"].loc[train]\n",
        "\n",
        "X_test = independent_distance.loc[test]\n",
        "y_test = training_sample[\"cluster\"].loc[test]"
      ],
      "id": "dd135a2d"
    },
    {
      "cell_type": "markdown",
      "metadata": {},
      "source": [
        "Get a new, hopefully better model."
      ],
      "id": "abccb9a4-5260-4506-98db-d5536b7413d1"
    },
    {
      "cell_type": "code",
      "execution_count": 34,
      "metadata": {},
      "outputs": [
        {
          "output_type": "display_data",
          "metadata": {},
          "data": {
            "text/html": [
              "\n",
              "            </details>\n",
              "        </div>\n",
              "    </div></div></div></div></div><script>function copyToClipboard(text, element) {\n",
              "    // Get the parameter prefix from the closest toggleable content\n",
              "    const toggleableContent = element.closest('.sk-toggleable__content');\n",
              "    const paramPrefix = toggleableContent ? toggleableContent.dataset.paramPrefix : '';\n",
              "    const fullParamName = paramPrefix ? `${paramPrefix}${text}` : text;\n",
              "\n",
              "    const originalStyle = element.style;\n",
              "    const computedStyle = window.getComputedStyle(element);\n",
              "    const originalWidth = computedStyle.width;\n",
              "    const originalHTML = element.innerHTML.replace('Copied!', '');\n",
              "\n",
              "    navigator.clipboard.writeText(fullParamName)\n",
              "        .then(() => {\n",
              "            element.style.width = originalWidth;\n",
              "            element.style.color = 'green';\n",
              "            element.innerHTML = \"Copied!\";\n",
              "\n",
              "            setTimeout(() => {\n",
              "                element.innerHTML = originalHTML;\n",
              "                element.style = originalStyle;\n",
              "            }, 2000);\n",
              "        })\n",
              "        .catch(err => {\n",
              "            console.error('Failed to copy:', err);\n",
              "            element.style.color = 'red';\n",
              "            element.innerHTML = \"Failed!\";\n",
              "            setTimeout(() => {\n",
              "                element.innerHTML = originalHTML;\n",
              "                element.style = originalStyle;\n",
              "            }, 2000);\n",
              "        });\n",
              "    return false;\n",
              "}\n",
              "\n",
              "document.querySelectorAll('.fa-regular.fa-copy').forEach(function(element) {\n",
              "    const toggleableContent = element.closest('.sk-toggleable__content');\n",
              "    const paramPrefix = toggleableContent ? toggleableContent.dataset.paramPrefix : '';\n",
              "    const paramName = element.parentElement.nextElementSibling.textContent.trim();\n",
              "    const fullParamName = paramPrefix ? `${paramPrefix}${paramName}` : paramName;\n",
              "\n",
              "    element.setAttribute('title', fullParamName);\n",
              "});\n",
              "</script></body>"
            ]
          }
        }
      ],
      "source": [
        "rf_distance = ensemble.RandomForestClassifier(random_state=0, n_jobs=-1)\n",
        "rf_distance.fit(X_train, y_train)"
      ],
      "id": "0a72e5bd"
    },
    {
      "cell_type": "markdown",
      "metadata": {},
      "source": [
        "And check if the new variable makes a difference."
      ],
      "id": "5de66cea-649e-481a-92c3-a2bf89e4335c"
    },
    {
      "cell_type": "code",
      "execution_count": 35,
      "metadata": {},
      "outputs": [
        {
          "output_type": "stream",
          "name": "stdout",
          "text": [
            "Evaluation metrics\n",
            "==================\n",
            "Basic model:\n",
            "  Accuracy: 0.585\n",
            "  Kappa:    0.451\n",
            "Basic model with spatial cross-validation:\n",
            "  Accuracy: 0.569\n",
            "  Kappa:    0.417\n",
            "Points within 200m (spatial CV):\n",
            "  Accuracy: 0.598\n",
            "  Kappa:    0.46\n",
            "Distance to Old Town Sq + above (spatial CV):\n",
            "  Accuracy: 0.65\n",
            "  Kappa:    0.532\n"
          ]
        }
      ],
      "source": [
        "pred = rf_distance.predict(X_test)\n",
        "\n",
        "accuracy_distance = metrics.accuracy_score(pred, y_test)\n",
        "kappa_distance = metrics.cohen_kappa_score(pred, y_test)\n",
        "\n",
        "summary += f\"\"\"\\\n",
        "Distance to Old Town Sq + above (spatial CV):\n",
        "  Accuracy: {round(accuracy_distance, 3)}\n",
        "  Kappa:    {round(kappa_distance, 3)}\n",
        "\"\"\"\n",
        "print(summary)"
      ],
      "id": "d528ad2d"
    },
    {
      "cell_type": "markdown",
      "metadata": {},
      "source": [
        "That is quite a decent bump in performance! It seems that the distance\n",
        "to the city centre is not bad in explaining the development typology.\n",
        "Check how important it is within the model."
      ],
      "id": "f3511574-b963-4bcb-bf01-19f115aa0dc8"
    },
    {
      "cell_type": "code",
      "execution_count": 36,
      "metadata": {},
      "outputs": [
        {
          "output_type": "display_data",
          "metadata": {},
          "data": {
            "text/plain": [
              "compactness                    0.083854\n",
              "street_alignment               0.084547\n",
              "points_in_200m                 0.114838\n",
              "floor_area_ratio               0.118727\n",
              "height                         0.121997\n",
              "block_perimeter_wall_length    0.136083\n",
              "interbuilding_distance         0.143258\n",
              "distance_to_old_town           0.196696\n",
              "dtype: float64"
            ]
          }
        }
      ],
      "source": [
        "pd.Series(\n",
        "    rf_distance.feature_importances_, index=rf_distance.feature_names_in_\n",
        ").sort_values()"
      ],
      "id": "4b10aa55"
    },
    {
      "cell_type": "markdown",
      "metadata": {},
      "source": [
        "Interestingly enough, it seems to be more explanatory than any of the\n",
        "variables reflecting the actual morphology.\n",
        "\n",
        "### Map matching\n",
        "\n",
        "In other cases, you can make use of other data and link it to existing\n",
        "data. When you join the data based on spatial operation, you can talk\n",
        "about map matching. You can measure a number of points of interest in\n",
        "the vicinity of each location, [link the data from\n",
        "rasters](../raster_data/hands_on.html#extracting-values-for-locations-with-xvec),\n",
        "[interpolate them from point\n",
        "patterns](../interpolation/hands_on.html#point-interpolation) or [from\n",
        "polygons to other\n",
        "polygons](../interpolation/hands_on.html#areal-interpolation-and-dasymetric-mapping).\n",
        "By now, you should know all that, so there’s no need to go into detail.\n",
        "Sticking to a simple case, map matching can also be done using a spatial\n",
        "join.\n",
        "\n",
        "Load the price data you worked with in the Learning GeoPandas chapter."
      ],
      "id": "0c31788f-3501-42d3-a821-3c307667b19e"
    },
    {
      "cell_type": "code",
      "execution_count": 37,
      "metadata": {},
      "outputs": [
        {
          "output_type": "display_data",
          "metadata": {},
          "data": {
            "text/html": [
              "\n",
              "</div>"
            ]
          }
        }
      ],
      "source": [
        "price = gpd.read_file(\n",
        "    \"https://martinfleischmann.net/sds/geographic_data/data/SED_CenovaMapa_p_shp.zip\",\n",
        ")\n",
        "price[\"CENA\"] = price[\"CENA\"].replace(\"N\", None).astype(\"float\")\n",
        "price.head(2)"
      ],
      "id": "2bdf6182"
    },
    {
      "cell_type": "markdown",
      "metadata": {},
      "source": [
        "Before any spatial joins, check the CRS."
      ],
      "id": "5b53017d-12f9-4f0e-86a2-8502df4861d7"
    },
    {
      "cell_type": "code",
      "execution_count": 38,
      "metadata": {},
      "outputs": [
        {
          "output_type": "display_data",
          "metadata": {},
          "data": {
            "text/plain": [
              "False"
            ]
          }
        }
      ],
      "source": [
        "price.crs.equals(training_sample.crs)"
      ],
      "id": "a3aeb885"
    },
    {
      "cell_type": "markdown",
      "metadata": {},
      "source": [
        "And, like in this case, don’t forget to re-project geometries in case of\n",
        "a CRS mismatch. Then you can go ahead with the spatial join."
      ],
      "id": "03750c6d-cc81-4139-96dc-7b6fcd7846a0"
    },
    {
      "cell_type": "code",
      "execution_count": 39,
      "metadata": {},
      "outputs": [
        {
          "output_type": "display_data",
          "metadata": {},
          "data": {
            "text/html": [
              "\n",
              "</div>"
            ]
          }
        }
      ],
      "source": [
        "price = price.to_crs(training_sample.crs)\n",
        "\n",
        "training_sample_price = training_sample.sjoin(\n",
        "    price[[\"CENA\", \"geometry\"]].dropna()\n",
        ")\n",
        "training_sample_price.head(2)"
      ],
      "id": "98d52d09"
    },
    {
      "cell_type": "markdown",
      "metadata": {},
      "source": [
        "You can prepare data for a model with price included."
      ],
      "id": "e3309f9e-5ce6-44ed-801b-9bec28676d54"
    },
    {
      "cell_type": "code",
      "execution_count": 40,
      "metadata": {},
      "outputs": [],
      "source": [
        "independent_proximity_price = training_sample_price[\n",
        "    independent_variables + [\"points_in_200m\", \"distance_to_old_town\", \"CENA\"]\n",
        "]\n",
        "\n",
        "train_price = training_sample_price[\"split\"] != 0\n",
        "X_train = independent_proximity_price.loc[train_price]\n",
        "y_train = training_sample_price[\"cluster\"].loc[train_price]\n",
        "\n",
        "test_price = training_sample_price[\"split\"] == 0\n",
        "X_test = independent_proximity_price.loc[test_price]\n",
        "y_test = training_sample_price[\"cluster\"].loc[test_price]"
      ],
      "id": "88827f87"
    },
    {
      "cell_type": "markdown",
      "metadata": {},
      "source": [
        "The rest, you know. First the model."
      ],
      "id": "ed854743-173c-4234-ae89-b165ef62c407"
    },
    {
      "cell_type": "code",
      "execution_count": 41,
      "metadata": {},
      "outputs": [
        {
          "output_type": "display_data",
          "metadata": {},
          "data": {
            "text/html": [
              "\n",
              "            </details>\n",
              "        </div>\n",
              "    </div></div></div></div></div><script>function copyToClipboard(text, element) {\n",
              "    // Get the parameter prefix from the closest toggleable content\n",
              "    const toggleableContent = element.closest('.sk-toggleable__content');\n",
              "    const paramPrefix = toggleableContent ? toggleableContent.dataset.paramPrefix : '';\n",
              "    const fullParamName = paramPrefix ? `${paramPrefix}${text}` : text;\n",
              "\n",
              "    const originalStyle = element.style;\n",
              "    const computedStyle = window.getComputedStyle(element);\n",
              "    const originalWidth = computedStyle.width;\n",
              "    const originalHTML = element.innerHTML.replace('Copied!', '');\n",
              "\n",
              "    navigator.clipboard.writeText(fullParamName)\n",
              "        .then(() => {\n",
              "            element.style.width = originalWidth;\n",
              "            element.style.color = 'green';\n",
              "            element.innerHTML = \"Copied!\";\n",
              "\n",
              "            setTimeout(() => {\n",
              "                element.innerHTML = originalHTML;\n",
              "                element.style = originalStyle;\n",
              "            }, 2000);\n",
              "        })\n",
              "        .catch(err => {\n",
              "            console.error('Failed to copy:', err);\n",
              "            element.style.color = 'red';\n",
              "            element.innerHTML = \"Failed!\";\n",
              "            setTimeout(() => {\n",
              "                element.innerHTML = originalHTML;\n",
              "                element.style = originalStyle;\n",
              "            }, 2000);\n",
              "        });\n",
              "    return false;\n",
              "}\n",
              "\n",
              "document.querySelectorAll('.fa-regular.fa-copy').forEach(function(element) {\n",
              "    const toggleableContent = element.closest('.sk-toggleable__content');\n",
              "    const paramPrefix = toggleableContent ? toggleableContent.dataset.paramPrefix : '';\n",
              "    const paramName = element.parentElement.nextElementSibling.textContent.trim();\n",
              "    const fullParamName = paramPrefix ? `${paramPrefix}${paramName}` : paramName;\n",
              "\n",
              "    element.setAttribute('title', fullParamName);\n",
              "});\n",
              "</script></body>"
            ]
          }
        }
      ],
      "source": [
        "rf_distance_price = ensemble.RandomForestClassifier(random_state=0, n_jobs=-1)\n",
        "rf_distance_price.fit(X_train, y_train)"
      ],
      "id": "773ea71a"
    },
    {
      "cell_type": "markdown",
      "metadata": {},
      "source": [
        "Then, the evaluation."
      ],
      "id": "fe42334b-8498-4804-99ad-55197314d98c"
    },
    {
      "cell_type": "code",
      "execution_count": 42,
      "metadata": {},
      "outputs": [
        {
          "output_type": "stream",
          "name": "stdout",
          "text": [
            "Evaluation metrics\n",
            "==================\n",
            "Basic model:\n",
            "  Accuracy: 0.585\n",
            "  Kappa:    0.451\n",
            "Basic model with spatial cross-validation:\n",
            "  Accuracy: 0.569\n",
            "  Kappa:    0.417\n",
            "Points within 200m (spatial CV):\n",
            "  Accuracy: 0.598\n",
            "  Kappa:    0.46\n",
            "Distance to Old Town Sq + above (spatial CV):\n",
            "  Accuracy: 0.65\n",
            "  Kappa:    0.532\n",
            "Price + above (spatial CV):\n",
            "  Accuracy: 0.675\n",
            "  Kappa:    0.556\n"
          ]
        }
      ],
      "source": [
        "pred = rf_distance_price.predict(X_test)\n",
        "\n",
        "accuracy_distance_price = metrics.accuracy_score(pred, y_test)\n",
        "kappa_distance_price = metrics.cohen_kappa_score(pred, y_test)\n",
        "\n",
        "summary += f\"\"\"\\\n",
        "Price + above (spatial CV):\n",
        "  Accuracy: {round(accuracy_distance_price, 3)}\n",
        "  Kappa:    {round(kappa_distance_price, 3)}\n",
        "\"\"\"\n",
        "print(summary)"
      ],
      "id": "2871ff1c"
    },
    {
      "cell_type": "markdown",
      "metadata": {},
      "source": [
        "Another improvement. It seems that price is not that critical, but is\n",
        "surely brings some value."
      ],
      "id": "e2efc12a-1e39-4eb5-9c5e-b3cecff940d8"
    },
    {
      "cell_type": "code",
      "execution_count": 43,
      "metadata": {},
      "outputs": [
        {
          "output_type": "display_data",
          "metadata": {},
          "data": {
            "text/plain": [
              "compactness                    0.065141\n",
              "street_alignment               0.066410\n",
              "floor_area_ratio               0.086952\n",
              "points_in_200m                 0.103779\n",
              "height                         0.111789\n",
              "interbuilding_distance         0.119244\n",
              "CENA                           0.136387\n",
              "block_perimeter_wall_length    0.138612\n",
              "distance_to_old_town           0.171686\n",
              "dtype: float64"
            ]
          }
        }
      ],
      "source": [
        "pd.Series(\n",
        "    rf_distance_price.feature_importances_, index=rf_distance_price.feature_names_in_\n",
        ").sort_values()"
      ],
      "id": "ba48060b"
    },
    {
      "cell_type": "markdown",
      "metadata": {},
      "source": [
        "As the feature importance shows, it is among the most important\n",
        "variables, though the distance to the Old Town Sq. is still unbeaten.\n",
        "\n",
        "## Spatial dependence\n",
        "\n",
        "Let’s get back to map synthesis and talk about spatial dependence. Some\n",
        "phenomena, urban development type may be one of them, are not explained\n",
        "only by values linked to individual geometries but also by the spatial\n",
        "configuration of the observations around. If the mean inter-building\n",
        "distance of observation A is small but that of nearly all observations\n",
        "around is high, it may be worth taking that into account. You can say\n",
        "that the predicted value on observation A *depends* on the spatial\n",
        "context and configuration around it. Generally speaking, the values of\n",
        "observations are related to each other based on their distance and are\n",
        "spatially dependent, reflecting Tobler’s First law of geography once\n",
        "again.\n",
        "\n",
        "### Include spatially lagged variables in the model\n",
        "\n",
        "The simplest way of incorporating spatial dependence to a generic ML\n",
        "model is to add variables to your set of independent variables capturing\n",
        "spatial dependence through spatial lag.\n",
        "\n",
        "Use the spatial weights matrix created above and generate a spatial lag\n",
        "of all independent variables."
      ],
      "id": "fe9d7db3-b414-434c-96e3-672d27a96966"
    },
    {
      "cell_type": "code",
      "execution_count": 44,
      "metadata": {},
      "outputs": [
        {
          "output_type": "display_data",
          "metadata": {},
          "data": {
            "text/html": [
              "\n",
              "</div>"
            ]
          }
        }
      ],
      "source": [
        "distance_200_row = distance_200.transform(\"r\")\n",
        "lagged_variables = []\n",
        "for var in independent_variables:\n",
        "    training_sample[f\"{var}_lag\"] = distance_200_row.lag(training_sample[var])\n",
        "    lagged_variables.append(f\"{var}_lag\")\n",
        "training_sample.head(2)"
      ],
      "id": "b72bca5d"
    },
    {
      "cell_type": "markdown",
      "metadata": {},
      "source": [
        "It may be interesting to assess the effect of spatial dependence without\n",
        "the variables added above. Combine original independent variables with\n",
        "the new lagged and prepare new training data."
      ],
      "id": "3d382e31-c97e-4a2b-b4ec-0ee96ea2d673"
    },
    {
      "cell_type": "code",
      "execution_count": 45,
      "metadata": {},
      "outputs": [],
      "source": [
        "independent_lag = training_sample[independent_variables + lagged_variables]\n",
        "\n",
        "X_train = independent_lag.loc[train]\n",
        "y_train = training_sample[\"cluster\"].loc[train]\n",
        "\n",
        "X_test = independent_lag.loc[test]\n",
        "y_test = training_sample[\"cluster\"].loc[test]"
      ],
      "id": "b4468f56"
    },
    {
      "cell_type": "markdown",
      "metadata": {},
      "source": [
        "Fit the new model, which should be able to use spatial dependence."
      ],
      "id": "7519cdb1-7e87-41bd-8ae9-57753356a2a2"
    },
    {
      "cell_type": "code",
      "execution_count": 46,
      "metadata": {},
      "outputs": [
        {
          "output_type": "display_data",
          "metadata": {},
          "data": {
            "text/html": [
              "\n",
              "            </details>\n",
              "        </div>\n",
              "    </div></div></div></div></div><script>function copyToClipboard(text, element) {\n",
              "    // Get the parameter prefix from the closest toggleable content\n",
              "    const toggleableContent = element.closest('.sk-toggleable__content');\n",
              "    const paramPrefix = toggleableContent ? toggleableContent.dataset.paramPrefix : '';\n",
              "    const fullParamName = paramPrefix ? `${paramPrefix}${text}` : text;\n",
              "\n",
              "    const originalStyle = element.style;\n",
              "    const computedStyle = window.getComputedStyle(element);\n",
              "    const originalWidth = computedStyle.width;\n",
              "    const originalHTML = element.innerHTML.replace('Copied!', '');\n",
              "\n",
              "    navigator.clipboard.writeText(fullParamName)\n",
              "        .then(() => {\n",
              "            element.style.width = originalWidth;\n",
              "            element.style.color = 'green';\n",
              "            element.innerHTML = \"Copied!\";\n",
              "\n",
              "            setTimeout(() => {\n",
              "                element.innerHTML = originalHTML;\n",
              "                element.style = originalStyle;\n",
              "            }, 2000);\n",
              "        })\n",
              "        .catch(err => {\n",
              "            console.error('Failed to copy:', err);\n",
              "            element.style.color = 'red';\n",
              "            element.innerHTML = \"Failed!\";\n",
              "            setTimeout(() => {\n",
              "                element.innerHTML = originalHTML;\n",
              "                element.style = originalStyle;\n",
              "            }, 2000);\n",
              "        });\n",
              "    return false;\n",
              "}\n",
              "\n",
              "document.querySelectorAll('.fa-regular.fa-copy').forEach(function(element) {\n",
              "    const toggleableContent = element.closest('.sk-toggleable__content');\n",
              "    const paramPrefix = toggleableContent ? toggleableContent.dataset.paramPrefix : '';\n",
              "    const paramName = element.parentElement.nextElementSibling.textContent.trim();\n",
              "    const fullParamName = paramPrefix ? `${paramPrefix}${paramName}` : paramName;\n",
              "\n",
              "    element.setAttribute('title', fullParamName);\n",
              "});\n",
              "</script></body>"
            ]
          }
        }
      ],
      "source": [
        "rf_lag_200m = ensemble.RandomForestClassifier(random_state=0, n_jobs=-1)\n",
        "rf_lag_200m.fit(X_train, y_train)"
      ],
      "id": "e60334cd"
    },
    {
      "cell_type": "markdown",
      "metadata": {},
      "source": [
        "And check how significant an effect it has on the model performance."
      ],
      "id": "3be7ca2f-653d-4c0f-a0a7-8a7676254351"
    },
    {
      "cell_type": "code",
      "execution_count": 47,
      "metadata": {},
      "outputs": [
        {
          "output_type": "stream",
          "name": "stdout",
          "text": [
            "Evaluation metrics\n",
            "==================\n",
            "Basic model:\n",
            "  Accuracy: 0.585\n",
            "  Kappa:    0.451\n",
            "Basic model with spatial cross-validation:\n",
            "  Accuracy: 0.569\n",
            "  Kappa:    0.417\n",
            "Points within 200m (spatial CV):\n",
            "  Accuracy: 0.598\n",
            "  Kappa:    0.46\n",
            "Distance to Old Town Sq + above (spatial CV):\n",
            "  Accuracy: 0.65\n",
            "  Kappa:    0.532\n",
            "Price + above (spatial CV):\n",
            "  Accuracy: 0.675\n",
            "  Kappa:    0.556\n",
            "Spatial dependence - lagged model (spatial CV):\n",
            "  Accuracy: 0.678\n",
            "  Kappa:    0.572\n"
          ]
        }
      ],
      "source": [
        "pred = rf_lag_200m.predict(X_test)\n",
        "\n",
        "accuracy_lag = metrics.accuracy_score(pred, y_test)\n",
        "kappa_lag = metrics.cohen_kappa_score(pred, y_test)\n",
        "\n",
        "summary += f\"\"\"\\\n",
        "Spatial dependence - lagged model (spatial CV):\n",
        "  Accuracy: {round(accuracy_lag, 3)}\n",
        "  Kappa:    {round(kappa_lag, 3)}\n",
        "\"\"\"\n",
        "print(summary)"
      ],
      "id": "16ff8c63"
    },
    {
      "cell_type": "markdown",
      "metadata": {},
      "source": [
        "That is surely not negligible, considering that no other data were\n",
        "needed."
      ],
      "id": "3f04b71f-eaf5-4530-a1e3-4166e000a49f"
    },
    {
      "cell_type": "code",
      "execution_count": 48,
      "metadata": {},
      "outputs": [
        {
          "output_type": "display_data",
          "metadata": {},
          "data": {
            "text/plain": [
              "compactness                        0.043260\n",
              "street_alignment                   0.045910\n",
              "height                             0.057639\n",
              "floor_area_ratio                   0.058157\n",
              "block_perimeter_wall_length        0.067513\n",
              "street_alignment_lag               0.071064\n",
              "compactness_lag                    0.076047\n",
              "height_lag                         0.102864\n",
              "interbuilding_distance             0.102935\n",
              "interbuilding_distance_lag         0.115112\n",
              "block_perimeter_wall_length_lag    0.125864\n",
              "floor_area_ratio_lag               0.133635\n",
              "dtype: float64"
            ]
          }
        }
      ],
      "source": [
        "pd.Series(\n",
        "    rf_lag_200m.feature_importances_, index=rf_lag_200m.feature_names_in_\n",
        ").sort_values()"
      ],
      "id": "09c01624"
    },
    {
      "cell_type": "markdown",
      "metadata": {},
      "source": [
        "The feature importance very clearly shows that when detecting urban\n",
        "typology, the context is always more important than the individual\n",
        "observation. It is expected as the typology attempts to reflect the\n",
        "general pattern of development but you can see the similar effect in\n",
        "many other situations.\n",
        "\n",
        "## Spatial heterogneity\n",
        "\n",
        "While ML models like the random forest learn interaction between\n",
        "variables, they are not always able to pick up spatial heterogeneity of\n",
        "the interaction between dependent and independent variables. Last week,\n",
        "you tried to deal with spatial heterogeneity using the categorical\n",
        "variable reflecting the spatial fixed effect. You could do the same\n",
        "here, but let’s try another approach.\n",
        "\n",
        "### Include x, y coordinates\n",
        "\n",
        "Including the x and y (or longitude and latitude) coordinates of your\n",
        "geometries is a clever way of capturing the spatial heterogeneity in the\n",
        "model. The location serves as a proxy for any unexplained variance of a\n",
        "spatial nature. It does not help you with interpretation, as coordinates\n",
        "do not explain anything.\n",
        "\n",
        "The model will also struggle to generalise outside of the original\n",
        "spatial extent. So while a model trained on Prague using the original\n",
        "set of variables could be easily used in any other Czech city, like\n",
        "Brno, the model that includes coordinates would have no idea how to\n",
        "interpret the values it would see in Brno. Use with caution.\n",
        "\n",
        "Technically, it is dead simple. You just include coordinates as another\n",
        "two columns."
      ],
      "id": "77839197-2ddb-461c-a756-bdfd4f316ec6"
    },
    {
      "cell_type": "code",
      "execution_count": 49,
      "metadata": {},
      "outputs": [
        {
          "output_type": "display_data",
          "metadata": {},
          "data": {
            "text/html": [
              "\n",
              "<p>2 rows × 21 columns</p>\n",
              "</div>"
            ]
          }
        }
      ],
      "source": [
        "training_sample[[\"x\", \"y\"]] = training_sample.get_coordinates()\n",
        "training_sample.head(2)"
      ],
      "id": "a6d91c33"
    },
    {
      "cell_type": "markdown",
      "metadata": {},
      "source": [
        "To check the effect of spatial heterogeneity compared to the baseline\n",
        "model, create new training data with the original variables and\n",
        "coordinates on top."
      ],
      "id": "f3f89d45-c5c9-4e81-8134-b4b65dc19f88"
    },
    {
      "cell_type": "code",
      "execution_count": 50,
      "metadata": {},
      "outputs": [],
      "source": [
        "independent_coordinates = training_sample[independent_variables + [\"x\", \"y\"]]\n",
        "\n",
        "X_train = independent_coordinates.loc[train]\n",
        "y_train = training_sample[\"cluster\"].loc[train]\n",
        "\n",
        "X_test = independent_coordinates.loc[test]\n",
        "y_test = training_sample[\"cluster\"].loc[test]"
      ],
      "id": "c3684ccf"
    },
    {
      "cell_type": "markdown",
      "metadata": {},
      "source": [
        "Train the model."
      ],
      "id": "ad89f6bf-dc52-4a5d-9e6a-f7d63faa2758"
    },
    {
      "cell_type": "code",
      "execution_count": 51,
      "metadata": {},
      "outputs": [
        {
          "output_type": "display_data",
          "metadata": {},
          "data": {
            "text/html": [
              "\n",
              "            </details>\n",
              "        </div>\n",
              "    </div></div></div></div></div><script>function copyToClipboard(text, element) {\n",
              "    // Get the parameter prefix from the closest toggleable content\n",
              "    const toggleableContent = element.closest('.sk-toggleable__content');\n",
              "    const paramPrefix = toggleableContent ? toggleableContent.dataset.paramPrefix : '';\n",
              "    const fullParamName = paramPrefix ? `${paramPrefix}${text}` : text;\n",
              "\n",
              "    const originalStyle = element.style;\n",
              "    const computedStyle = window.getComputedStyle(element);\n",
              "    const originalWidth = computedStyle.width;\n",
              "    const originalHTML = element.innerHTML.replace('Copied!', '');\n",
              "\n",
              "    navigator.clipboard.writeText(fullParamName)\n",
              "        .then(() => {\n",
              "            element.style.width = originalWidth;\n",
              "            element.style.color = 'green';\n",
              "            element.innerHTML = \"Copied!\";\n",
              "\n",
              "            setTimeout(() => {\n",
              "                element.innerHTML = originalHTML;\n",
              "                element.style = originalStyle;\n",
              "            }, 2000);\n",
              "        })\n",
              "        .catch(err => {\n",
              "            console.error('Failed to copy:', err);\n",
              "            element.style.color = 'red';\n",
              "            element.innerHTML = \"Failed!\";\n",
              "            setTimeout(() => {\n",
              "                element.innerHTML = originalHTML;\n",
              "                element.style = originalStyle;\n",
              "            }, 2000);\n",
              "        });\n",
              "    return false;\n",
              "}\n",
              "\n",
              "document.querySelectorAll('.fa-regular.fa-copy').forEach(function(element) {\n",
              "    const toggleableContent = element.closest('.sk-toggleable__content');\n",
              "    const paramPrefix = toggleableContent ? toggleableContent.dataset.paramPrefix : '';\n",
              "    const paramName = element.parentElement.nextElementSibling.textContent.trim();\n",
              "    const fullParamName = paramPrefix ? `${paramPrefix}${paramName}` : paramName;\n",
              "\n",
              "    element.setAttribute('title', fullParamName);\n",
              "});\n",
              "</script></body>"
            ]
          }
        }
      ],
      "source": [
        "rf_coordinates = ensemble.RandomForestClassifier(random_state=0, n_jobs=-1)\n",
        "rf_coordinates.fit(X_train, y_train)"
      ],
      "id": "e69fea54"
    },
    {
      "cell_type": "markdown",
      "metadata": {},
      "source": [
        "And evaluate its performance."
      ],
      "id": "22ac6cfd-6cec-4244-8531-58782d78f9d7"
    },
    {
      "cell_type": "code",
      "execution_count": 52,
      "metadata": {},
      "outputs": [
        {
          "output_type": "stream",
          "name": "stdout",
          "text": [
            "Evaluation metrics\n",
            "==================\n",
            "Basic model:\n",
            "  Accuracy: 0.585\n",
            "  Kappa:    0.451\n",
            "Basic model with spatial cross-validation:\n",
            "  Accuracy: 0.569\n",
            "  Kappa:    0.417\n",
            "Points within 200m (spatial CV):\n",
            "  Accuracy: 0.598\n",
            "  Kappa:    0.46\n",
            "Distance to Old Town Sq + above (spatial CV):\n",
            "  Accuracy: 0.65\n",
            "  Kappa:    0.532\n",
            "Price + above (spatial CV):\n",
            "  Accuracy: 0.675\n",
            "  Kappa:    0.556\n",
            "Spatial dependence - lagged model (spatial CV):\n",
            "  Accuracy: 0.678\n",
            "  Kappa:    0.572\n",
            "Spatial heterogeneity - coordinates (spatial CV):\n",
            "  Accuracy: 0.632\n",
            "  Kappa:    0.501\n"
          ]
        }
      ],
      "source": [
        "pred = rf_coordinates.predict(X_test)\n",
        "\n",
        "accuracy_coordinates = metrics.accuracy_score(pred, y_test)\n",
        "kappa_coordinates = metrics.cohen_kappa_score(pred, y_test)\n",
        "\n",
        "summary += f\"\"\"\\\n",
        "Spatial heterogeneity - coordinates (spatial CV):\n",
        "  Accuracy: {round(accuracy_coordinates, 3)}\n",
        "  Kappa:    {round(kappa_coordinates, 3)}\n",
        "\"\"\"\n",
        "print(summary)"
      ],
      "id": "60f92aed"
    },
    {
      "cell_type": "markdown",
      "metadata": {},
      "source": [
        "There indeed is some degree of spatial heterogeneity, but its effect is\n",
        "not that strong as that of spatial dependence."
      ],
      "id": "a9779b50-97eb-4018-a24c-f2e4d2848695"
    },
    {
      "cell_type": "code",
      "execution_count": 53,
      "metadata": {},
      "outputs": [
        {
          "output_type": "display_data",
          "metadata": {},
          "data": {
            "text/plain": [
              "compactness                    0.079784\n",
              "street_alignment               0.082541\n",
              "height                         0.120565\n",
              "floor_area_ratio               0.121874\n",
              "block_perimeter_wall_length    0.140187\n",
              "x                              0.141216\n",
              "y                              0.144769\n",
              "interbuilding_distance         0.169063\n",
              "dtype: float64"
            ]
          }
        }
      ],
      "source": [
        "pd.Series(\n",
        "    rf_coordinates.feature_importances_, index=rf_coordinates.feature_names_in_\n",
        ").sort_values()"
      ],
      "id": "d69d0e49"
    },
    {
      "cell_type": "markdown",
      "metadata": {},
      "source": [
        "Interpreting feature importance is a bit more complicated, as x and y\n",
        "are not to be treated as two separate variables but as a pair. You can\n",
        "try to sum their importance, but remember that the result may be\n",
        "misleading.\n",
        "\n",
        "## Heterogeneity and dependence\n",
        "\n",
        "You can try to combine the effects of heterogeneity and dependence\n",
        "within a single model as each seems to help when used separately."
      ],
      "id": "515819c7-d822-491d-9814-240656571705"
    },
    {
      "cell_type": "code",
      "execution_count": 54,
      "metadata": {},
      "outputs": [],
      "source": [
        "independent_coordinates = training_sample[\n",
        "    independent_variables + lagged_variables + [\"x\", \"y\"]\n",
        "]\n",
        "\n",
        "X_train = independent_coordinates.loc[train]\n",
        "y_train = training_sample[\"cluster\"].loc[train]\n",
        "\n",
        "X_test = independent_coordinates.loc[test]\n",
        "y_test = training_sample[\"cluster\"].loc[test]"
      ],
      "id": "8374f52e"
    },
    {
      "cell_type": "markdown",
      "metadata": {},
      "source": [
        "Let’s consider this a final model of the day."
      ],
      "id": "80745f5c-ba3e-4a9f-b428-1e5f310d12e1"
    },
    {
      "cell_type": "code",
      "execution_count": 55,
      "metadata": {},
      "outputs": [
        {
          "output_type": "display_data",
          "metadata": {},
          "data": {
            "text/html": [
              "\n",
              "            </details>\n",
              "        </div>\n",
              "    </div></div></div></div></div><script>function copyToClipboard(text, element) {\n",
              "    // Get the parameter prefix from the closest toggleable content\n",
              "    const toggleableContent = element.closest('.sk-toggleable__content');\n",
              "    const paramPrefix = toggleableContent ? toggleableContent.dataset.paramPrefix : '';\n",
              "    const fullParamName = paramPrefix ? `${paramPrefix}${text}` : text;\n",
              "\n",
              "    const originalStyle = element.style;\n",
              "    const computedStyle = window.getComputedStyle(element);\n",
              "    const originalWidth = computedStyle.width;\n",
              "    const originalHTML = element.innerHTML.replace('Copied!', '');\n",
              "\n",
              "    navigator.clipboard.writeText(fullParamName)\n",
              "        .then(() => {\n",
              "            element.style.width = originalWidth;\n",
              "            element.style.color = 'green';\n",
              "            element.innerHTML = \"Copied!\";\n",
              "\n",
              "            setTimeout(() => {\n",
              "                element.innerHTML = originalHTML;\n",
              "                element.style = originalStyle;\n",
              "            }, 2000);\n",
              "        })\n",
              "        .catch(err => {\n",
              "            console.error('Failed to copy:', err);\n",
              "            element.style.color = 'red';\n",
              "            element.innerHTML = \"Failed!\";\n",
              "            setTimeout(() => {\n",
              "                element.innerHTML = originalHTML;\n",
              "                element.style = originalStyle;\n",
              "            }, 2000);\n",
              "        });\n",
              "    return false;\n",
              "}\n",
              "\n",
              "document.querySelectorAll('.fa-regular.fa-copy').forEach(function(element) {\n",
              "    const toggleableContent = element.closest('.sk-toggleable__content');\n",
              "    const paramPrefix = toggleableContent ? toggleableContent.dataset.paramPrefix : '';\n",
              "    const paramName = element.parentElement.nextElementSibling.textContent.trim();\n",
              "    const fullParamName = paramPrefix ? `${paramPrefix}${paramName}` : paramName;\n",
              "\n",
              "    element.setAttribute('title', fullParamName);\n",
              "});\n",
              "</script></body>"
            ]
          }
        }
      ],
      "source": [
        "rf_het_dep = ensemble.RandomForestClassifier(random_state=0, n_jobs=-1)\n",
        "rf_het_dep.fit(X_train, y_train)"
      ],
      "id": "7d7d1140"
    },
    {
      "cell_type": "markdown",
      "metadata": {},
      "source": [
        "The final evaluation:"
      ],
      "id": "d156a028-9860-45c7-baee-8a10b6e1ef04"
    },
    {
      "cell_type": "code",
      "execution_count": 56,
      "metadata": {},
      "outputs": [
        {
          "output_type": "stream",
          "name": "stdout",
          "text": [
            "Evaluation metrics\n",
            "==================\n",
            "Basic model:\n",
            "  Accuracy: 0.585\n",
            "  Kappa:    0.451\n",
            "Basic model with spatial cross-validation:\n",
            "  Accuracy: 0.569\n",
            "  Kappa:    0.417\n",
            "Points within 200m (spatial CV):\n",
            "  Accuracy: 0.598\n",
            "  Kappa:    0.46\n",
            "Distance to Old Town Sq + above (spatial CV):\n",
            "  Accuracy: 0.65\n",
            "  Kappa:    0.532\n",
            "Price + above (spatial CV):\n",
            "  Accuracy: 0.675\n",
            "  Kappa:    0.556\n",
            "Spatial dependence - lagged model (spatial CV):\n",
            "  Accuracy: 0.678\n",
            "  Kappa:    0.572\n",
            "Spatial heterogeneity - coordinates (spatial CV):\n",
            "  Accuracy: 0.632\n",
            "  Kappa:    0.501\n",
            "Spatial dependence + heterogeneity (spatial CV):\n",
            "  Accuracy: 0.71\n",
            "  Kappa:    0.613\n"
          ]
        }
      ],
      "source": [
        "pred = rf_het_dep.predict(X_test)\n",
        "\n",
        "accuracy_het_dep = metrics.accuracy_score(pred, y_test)\n",
        "kappa_het_dep = metrics.cohen_kappa_score(pred, y_test)\n",
        "\n",
        "summary += f\"\"\"\\\n",
        "Spatial dependence + heterogeneity (spatial CV):\n",
        "  Accuracy: {round(accuracy_het_dep, 3)}\n",
        "  Kappa:    {round(kappa_het_dep, 3)}\n",
        "\"\"\"\n",
        "print(summary)"
      ],
      "id": "b0cf030a"
    },
    {
      "cell_type": "markdown",
      "metadata": {},
      "source": [
        "This seems to be the best model so far. Keep in mind that variables\n",
        "coming from the feature engineering section are not included here, so\n",
        "there still may be some space for an improvement."
      ],
      "id": "83f66857-37a3-431a-98b1-94a8f0b2ee90"
    },
    {
      "cell_type": "code",
      "execution_count": 57,
      "metadata": {},
      "outputs": [
        {
          "output_type": "display_data",
          "metadata": {},
          "data": {
            "text/plain": [
              "compactness                        0.032543\n",
              "street_alignment                   0.035989\n",
              "floor_area_ratio                   0.047796\n",
              "height                             0.049613\n",
              "street_alignment_lag               0.057364\n",
              "block_perimeter_wall_length        0.057734\n",
              "compactness_lag                    0.063571\n",
              "y                                  0.068458\n",
              "x                                  0.071185\n",
              "height_lag                         0.083203\n",
              "interbuilding_distance             0.090557\n",
              "interbuilding_distance_lag         0.102194\n",
              "block_perimeter_wall_length_lag    0.117921\n",
              "floor_area_ratio_lag               0.121871\n",
              "dtype: float64"
            ]
          }
        }
      ],
      "source": [
        "pd.Series(\n",
        "    rf_het_dep.feature_importances_, index=rf_het_dep.feature_names_in_\n",
        ").sort_values()"
      ],
      "id": "daeaf68c"
    },
    {
      "cell_type": "markdown",
      "metadata": {},
      "source": [
        "Both lagged variables and coordinates are valuable here but keep in mind\n",
        "that the strength of these effects will vary dependning on specific use\n",
        "case. What is clearly useful in this case may have no value in other\n",
        "situations.\n",
        "\n",
        "### Prediction on the whole dataset\n",
        "\n",
        "If you consider `rf_het_dep` a final model you are happy with, you can\n",
        "check how it performs on the full dataset, not only on the sample of 20k\n",
        "observations used above.\n",
        "\n",
        "First, you will need all the variables computed for the full dataset."
      ],
      "id": "a174ace5-8d94-4412-bf25-95cf2b3fa69c"
    },
    {
      "cell_type": "code",
      "execution_count": 58,
      "metadata": {},
      "outputs": [],
      "source": [
        "distance_200_all = graph.Graph.build_distance_band(building_data, 200).transform(\"r\")\n",
        "for var in independent_variables:\n",
        "    building_data[f\"{var}_lag\"] = distance_200_all.lag(building_data[var])\n",
        "\n",
        "building_data[[\"x\", \"y\"]] = building_data.get_coordinates()"
      ],
      "id": "f1c4bea2"
    },
    {
      "cell_type": "markdown",
      "metadata": {},
      "source": [
        "Then, you can use the model for inference. First, check the\n",
        "probabilities."
      ],
      "id": "174f918f-48a7-411e-814c-38d3b4b302f2"
    },
    {
      "cell_type": "code",
      "execution_count": 59,
      "metadata": {},
      "outputs": [
        {
          "output_type": "display_data",
          "metadata": {},
          "data": {
            "text/plain": [
              "array([[0.28, 0.05, 0.42, ..., 0.  , 0.06, 0.  ],\n",
              "       [0.  , 0.04, 0.  , ..., 0.  , 0.  , 0.  ],\n",
              "       [0.1 , 0.  , 0.  , ..., 0.49, 0.41, 0.  ],\n",
              "       ...,\n",
              "       [0.  , 1.  , 0.  , ..., 0.  , 0.  , 0.  ],\n",
              "       [0.  , 1.  , 0.  , ..., 0.  , 0.  , 0.  ],\n",
              "       [0.52, 0.06, 0.01, ..., 0.1 , 0.07, 0.01]], shape=(140309, 8))"
            ]
          }
        }
      ],
      "source": [
        "probabilities = rf_het_dep.predict_proba(\n",
        "    building_data[independent_variables + lagged_variables + [\"x\", \"y\"]]\n",
        ")\n",
        "probabilities"
      ],
      "id": "1308c4c0"
    },
    {
      "cell_type": "markdown",
      "metadata": {},
      "source": [
        "Plotting class-based probabilities allows you to visualise the\n",
        "likelihood that each observation (building in our case) belonging to\n",
        "each class."
      ],
      "id": "3c975441-8f1b-40ff-a67c-ca6d55cb990c"
    },
    {
      "cell_type": "code",
      "execution_count": 60,
      "metadata": {},
      "outputs": [
        {
          "output_type": "display_data",
          "metadata": {},
          "data": {}
        }
      ],
      "source": [
        "fig, axs = plt.subplots(4, 2, figsize=(9, 14))\n",
        "axs = axs.flatten()\n",
        "for i, ax in enumerate(axs):\n",
        "    building_data.plot(\n",
        "      probabilities[:, i], markersize=0.01, cmap=\"bone_r\", ax=ax, vmin=0, vmax=1,\n",
        "    )\n",
        "    axs[i].set_title(rf_het_dep.classes_[i], fontdict={\"fontsize\": 8})\n",
        "    ax.set_axis_off()"
      ],
      "id": "d27e2e4d"
    },
    {
      "cell_type": "markdown",
      "metadata": {},
      "source": [
        "Plotting the maximum probability assigned to an observation regardless\n",
        "of class is also useful. This can be seen as a proxy of the certainty of\n",
        "a model and allows you to identify areas where the model works well and\n",
        "has no issue picking up the correct class and those where it struggles."
      ],
      "id": "d6b1b1a6-726a-4842-af9f-45cfe54f0466"
    },
    {
      "cell_type": "code",
      "execution_count": 61,
      "metadata": {},
      "outputs": [
        {
          "output_type": "display_data",
          "metadata": {},
          "data": {}
        }
      ],
      "source": [
        "building_data.plot(\n",
        "    probabilities.max(axis=1), markersize=0.01, cmap=\"cividis_r\", figsize=(9, 9)\n",
        ").set_axis_off()"
      ],
      "id": "e6863ec4"
    },
    {
      "cell_type": "markdown",
      "metadata": {},
      "source": [
        "If you want just a label, it is easier to use the `predict()` method\n",
        "instead."
      ],
      "id": "80de29e3-5ab3-4200-8855-02f6d253566a"
    },
    {
      "cell_type": "code",
      "execution_count": 62,
      "metadata": {},
      "outputs": [],
      "source": [
        "predicted_class = rf_het_dep.predict(\n",
        "    building_data[independent_variables + lagged_variables + [\"x\", \"y\"]]\n",
        ")"
      ],
      "id": "8f23c553"
    },
    {
      "cell_type": "markdown",
      "metadata": {},
      "source": [
        "The predicted labels allow you to check the spatial pattern of errors as\n",
        "you did earlier."
      ],
      "id": "fe004648-82b1-4bc9-9913-7624c5297c0b"
    },
    {
      "cell_type": "code",
      "execution_count": 63,
      "metadata": {},
      "outputs": [
        {
          "output_type": "display_data",
          "metadata": {},
          "data": {}
        }
      ],
      "source": [
        "building_data.plot(\n",
        "    predicted_class == building_data[\"cluster\"],\n",
        "    categorical=True,\n",
        "    figsize=(9, 9),\n",
        "    markersize=0.005,\n",
        "    cmap=\"bwr_r\",\n",
        "    legend=True,\n",
        ").set_axis_off()"
      ],
      "id": "75181a4c"
    },
    {
      "cell_type": "markdown",
      "metadata": {},
      "source": [
        "Finally, you may be interested in the performance of the model on the\n",
        "full dataset."
      ],
      "id": "33325d04-c9bf-4892-9526-1a6a5bacda26"
    },
    {
      "cell_type": "code",
      "execution_count": 64,
      "metadata": {},
      "outputs": [
        {
          "output_type": "stream",
          "name": "stdout",
          "text": [
            "Evaluation metrics\n",
            "==================\n",
            "Basic model:\n",
            "  Accuracy: 0.585\n",
            "  Kappa:    0.451\n",
            "Basic model with spatial cross-validation:\n",
            "  Accuracy: 0.569\n",
            "  Kappa:    0.417\n",
            "Points within 200m (spatial CV):\n",
            "  Accuracy: 0.598\n",
            "  Kappa:    0.46\n",
            "Distance to Old Town Sq + above (spatial CV):\n",
            "  Accuracy: 0.65\n",
            "  Kappa:    0.532\n",
            "Price + above (spatial CV):\n",
            "  Accuracy: 0.675\n",
            "  Kappa:    0.556\n",
            "Spatial dependence - lagged model (spatial CV):\n",
            "  Accuracy: 0.678\n",
            "  Kappa:    0.572\n",
            "Spatial heterogeneity - coordinates (spatial CV):\n",
            "  Accuracy: 0.632\n",
            "  Kappa:    0.501\n",
            "Spatial dependence + heterogeneity (spatial CV):\n",
            "  Accuracy: 0.71\n",
            "  Kappa:    0.613\n",
            "\n",
            "Complete dataset\n",
            "----------------\n",
            "Spatial dependence + heterogeneity (spatial CV):\n",
            "  Accuracy: 0.776\n",
            "  Kappa:    0.703\n"
          ]
        }
      ],
      "source": [
        "accuracy_all = metrics.accuracy_score(predicted_class, building_data[\"cluster\"])\n",
        "kappa_all = metrics.cohen_kappa_score(predicted_class, building_data[\"cluster\"])\n",
        "\n",
        "summary += f\"\"\"\n",
        "Complete dataset\n",
        "----------------\n",
        "Spatial dependence + heterogeneity (spatial CV):\n",
        "  Accuracy: {round(accuracy_all, 3)}\n",
        "  Kappa:    {round(kappa_all, 3)}\n",
        "\"\"\"\n",
        "print(summary)"
      ],
      "id": "5ba4fa30"
    },
    {
      "cell_type": "markdown",
      "metadata": {},
      "source": [
        "Not bad at all. More than 75% of buildings were correctly classified\n",
        "using only the data you were given in the beginning and geography. Just\n",
        "note that since the evaluation based on the full dataset is done based\n",
        "on a different sample of data than all those above, the values are not\n",
        "entirely comparable.\n",
        "\n",
        "> **Additional reading**\n",
        ">\n",
        "> This material combines components from the chapters on [*Spatial\n",
        "> Regression*](https://geographicdata.science/book/notebooks/11_regression.html)\n",
        "> and [*Spatial Feature\n",
        "> Engineering*](https://geographicdata.science/book/notebooks/12_feature_engineering.html)\n",
        "> from the Geographic Data Science with Python by @rey2023geographic.\n",
        "\n",
        "## The end\n",
        "\n",
        "Thank you for getting this far."
      ],
      "id": "4fc46dca-4612-411f-ae69-b365b6a66eb2"
    }
  ],
  "nbformat": 4,
  "nbformat_minor": 5,
  "metadata": {
    "kernelspec": {
      "name": "sds",
      "display_name": "sds",
      "language": "python",
      "path": "/home/runner/.local/share/jupyter/kernels/sds"
    },
    "language_info": {
      "name": "python",
      "codemirror_mode": {
        "name": "ipython",
        "version": "3"
      },
      "file_extension": ".py",
      "mimetype": "text/x-python",
      "nbconvert_exporter": "python",
      "pygments_lexer": "ipython3",
      "version": "3.12.11"
    }
  }
}