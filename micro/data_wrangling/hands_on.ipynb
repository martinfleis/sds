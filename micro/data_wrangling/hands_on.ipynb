{
  "cells": [
    {
      "cell_type": "markdown",
      "metadata": {},
      "source": [
        "# Data wrangling\n",
        "\n",
        "You know the basics. What are Jupyter notebooks, how do they work, and\n",
        "how do you run Python in them. It is time to start using them for data\n",
        "science (no, that simple math you did the last time doesn’t count as\n",
        "data science).\n",
        "\n",
        "You are about to enter the PyData ecosystem. It means that you will\n",
        "start learning how to work with Python from the middle. This course does\n",
        "not explicitly cover the fundamentals of programming. It is expected\n",
        "that those parts you need you’ll be able to pick as you go through the\n",
        "specialised data science stack. If you’re stuck, confused or need\n",
        "further explanation, use Google (or your favourite search engine), ask\n",
        "AI to explain the code or ask in online chat or during the class. Not\n",
        "everything will be told during the course (by design), and the internet\n",
        "is a friend of every programmer, so let’s figure out how to use it\n",
        "efficiently from the beginning.\n",
        "\n",
        "Let’s dig in!\n",
        "\n",
        "## Munging and wrangling\n",
        "\n",
        "Real-world datasets are messy. There is no way around it: datasets have\n",
        "“holes” (missing data), the amount of formats in which data can be\n",
        "stored is endless, and the best structure to share data is not always\n",
        "the optimum to analyse them, hence the need to\n",
        "[munge](http://dictionary.reference.com/browse/munge)[1] them. As has\n",
        "been correctly pointed out in many outlets, much of the time spent in\n",
        "what is called Data Science is related not only to sophisticated\n",
        "modelling and insight but has to do with much more basic and less exotic\n",
        "tasks such as obtaining data, processing, and turning them into a shape\n",
        "that makes analysis possible, and exploring it to get to know their\n",
        "basic properties.\n",
        "\n",
        "Surprisingly, very little has been published on patterns, techniques,\n",
        "and best practices for quick and efficient data cleaning, manipulation,\n",
        "and transformation because of how labour-intensive and relevant this\n",
        "aspect is. In this session, you will use a few real-world datasets and\n",
        "learn how to process them into Python so they can be transformed and\n",
        "manipulated, if necessary, and analysed. For this, you will introduce\n",
        "some of the bread and butter of data analysis and scientific computing\n",
        "in Python. These are fundamental tools that are constantly used in\n",
        "almost any task relating to data analysis.\n",
        "\n",
        "This notebook covers the basics and the content that is expected to be\n",
        "learnt by every student. You use a prepared dataset that saves us much\n",
        "of the more intricate processing that goes beyond the introductory level\n",
        "the session is aimed at. If you are interested in how it was done, there\n",
        "is a\n",
        "[notebook](https://github.com/martinfleis/sds/blob/main/data/chicago_influenza_1918/preprocessing.ipynb).\n",
        "\n",
        "This notebook discusses several patterns to clean and structure data\n",
        "properly, including tidying, subsetting, and aggregating. You finish\n",
        "with some basic visualisation. An additional extension presents more\n",
        "advanced tricks to manipulate tabular data.\n",
        "\n",
        "## Dataset\n",
        "\n",
        "You will be exploring demographic characteristics of Chicago in 1918\n",
        "linked to the influenza mortality during the pandemic that happened back\n",
        "then, coming from the research paper by @grantz2016disparities. The data\n",
        "are aggregated to census tracts and contain information on unemployment,\n",
        "home ownership, age structure and influenza mortality from a period of 8\n",
        "weeks.\n",
        "\n",
        "The main tool you use is the `pandas` package. As with the `math` you\n",
        "used [before](../introduction/hands_on.qmd), you must import it first.\n",
        "\n",
        "[1] Data munging and data wrangling are used interchangeably. Pick the\n",
        "one you like."
      ],
      "id": "edde6933-4e93-4950-b693-51b7242c4b7a"
    },
    {
      "cell_type": "code",
      "execution_count": 2,
      "metadata": {},
      "outputs": [],
      "source": [
        "import pandas as pd"
      ],
      "id": "13ca9b7b"
    },
    {
      "cell_type": "markdown",
      "metadata": {},
      "source": [
        "The data is stored in a CSV file. To make things easier, you can read\n",
        "data from a file posted online so, for now, you do not need to download\n",
        "any dataset:"
      ],
      "id": "50e43eac-914f-4458-a47b-a029aadf5d85"
    },
    {
      "cell_type": "code",
      "execution_count": 3,
      "metadata": {},
      "outputs": [],
      "source": [
        "chicago_1918 = pd.read_csv(\n",
        "    \"https://martinfleischmann.net/sds/data_wrangling/data/chicago_influenza_1918.csv\",\n",
        "    index_col=\"geography_code\",\n",
        ")"
      ],
      "id": "c1bd1873"
    },
    {
      "cell_type": "markdown",
      "metadata": {},
      "source": [
        "> **Tip**\n",
        ">\n",
        "> You are using `read_csv` because the file you want to read is in CSV\n",
        "> format. However, `pandas` allows for many more formats to be read and\n",
        "> write. A full list of formats supported may be found in [the\n",
        "> documentation](https://pandas.pydata.org/docs/user_guide/io.html).\n",
        "\n",
        "> **Alternative**\n",
        ">\n",
        "> Instead of reading the file directly off the web, it is possible to\n",
        "> download it manually, store it on your computer, and read it locally.\n",
        "> To do that, you can follow these steps:\n",
        ">\n",
        "> 1.  Download the file by right-clicking on [this\n",
        ">     link](https://martinfleischmann.net/sds/data_wrangling/data/chicago_influenza_1918.csv)\n",
        ">     and saving the file\n",
        "> 2.  Place the file in the same folder as the notebook where you intend\n",
        ">     to read it\n",
        "> 3.  Replace the code in the cell above with:\n",
        ">\n",
        "> ``` python\n",
        "> chicago_1918 = pd.read_csv(\n",
        ">     \"chicago_influenza_1918.csv\",\n",
        ">     index_col=\"geography_code\",\n",
        "> )\n",
        "> ```\n",
        "\n",
        "## Pandas 101\n",
        "\n",
        "Now, you are ready to start playing and interrogating the dataset! What\n",
        "you have at your fingertips is a table summarising, for each of the\n",
        "census tracts in Chicago more than a century ago, how many people lived\n",
        "in each by age, accompanied by some other socioeconomic data and\n",
        "influenza mortality. These tables are called `DataFrame` objects, and\n",
        "they have a lot of functionality built-in to explore and manipulate the\n",
        "data they contain. Let’s explore a few of those cool tricks!\n",
        "\n",
        "### Data Structures\n",
        "\n",
        "The first aspect worth spending a bit of time on is the structure of a\n",
        "`DataFrame`. You can print it by simply typing its name:"
      ],
      "id": "bd004c02-abb3-451e-9ede-2ecc6f116e33"
    },
    {
      "cell_type": "code",
      "execution_count": 4,
      "metadata": {},
      "outputs": [
        {
          "output_type": "display_data",
          "metadata": {},
          "data": {
            "text/html": [
              "\n",
              "<p>496 rows × 12 columns</p>\n",
              "</div>"
            ]
          }
        }
      ],
      "source": [
        "chicago_1918"
      ],
      "id": "62937a9b"
    },
    {
      "cell_type": "markdown",
      "metadata": {},
      "source": [
        "Note the printing is cut to keep a nice and compact view but enough to\n",
        "see its structure. Since they represent a table of data, `DataFrame`\n",
        "objects have two dimensions: rows and columns. Each of these is\n",
        "automatically assigned a name in what you will call its *index*. When\n",
        "printing, the index of each dimension is rendered in bold, as opposed to\n",
        "the standard rendering for the content. The example above shows how the\n",
        "column index is automatically picked up from the `.csv` file’s column\n",
        "names. For rows, we have specified when reading the file you wanted the\n",
        "column `geography_code`, so that is used. If you hadn’t set any,\n",
        "`pandas` would automatically generate a sequence starting in `0` and\n",
        "going all the way to the number of rows minus one. This is the standard\n",
        "structure of a `DataFrame` object, so you will come to it over and over.\n",
        "Importantly, even when you move to spatial data, your datasets will have\n",
        "a similar structure.\n",
        "\n",
        "One final feature that is worth mentioning about these tables is that\n",
        "they can hold columns with different types of data. In this example, you\n",
        "have counts (or `int` for integer types) and ratios (or ‘float’ for\n",
        "floating point numbers - a number with decimals) for each column. But it\n",
        "is useful to keep in mind that you can combine this with columns that\n",
        "hold other types of data such as categories, text (`str`, for string),\n",
        "dates or, as you will see later in the course, geographic features.\n",
        "\n",
        "To extract a single column from this `DataFrame`, specify its name in\n",
        "the square brackets (`[]`). Note that the name, in this case, is a\n",
        "`string`. A piece of text. As such, it needs to be within single (`'`)\n",
        "or double quotes (`\"`). The resulting data structure is no longer a\n",
        "`DataFrame`, but you have a `Series` because you deal with a single\n",
        "column."
      ],
      "id": "916a8091-cff3-47f4-9392-6e4fe0d617df"
    },
    {
      "cell_type": "code",
      "execution_count": 5,
      "metadata": {},
      "outputs": [
        {
          "output_type": "display_data",
          "metadata": {},
          "data": {
            "text/plain": [
              "geography_code\n",
              "G17003100001     9\n",
              "G17003100002     6\n",
              "G17003100003     8\n",
              "G17003100004     2\n",
              "G17003100005     7\n",
              "                ..\n",
              "G17003100492    12\n",
              "G17003100493    40\n",
              "G17003100494    85\n",
              "G17003100495    15\n",
              "G17003100496    30\n",
              "Name: influenza, Length: 496, dtype: int64"
            ]
          }
        }
      ],
      "source": [
        "chicago_1918[\"influenza\"]"
      ],
      "id": "07778ed6"
    },
    {
      "cell_type": "markdown",
      "metadata": {},
      "source": [
        "### Inspect\n",
        "\n",
        "Inspecting what it looks like. You can check the table’s top (or bottom)\n",
        "X lines by passing X to the method `head` (`tail`). For example, for the\n",
        "top/bottom five lines:"
      ],
      "id": "a84b2fac-6934-4a5c-b8b5-36a7b73d2154"
    },
    {
      "cell_type": "code",
      "execution_count": 6,
      "metadata": {},
      "outputs": [
        {
          "output_type": "display_data",
          "metadata": {},
          "data": {
            "text/html": [
              "\n",
              "</div>"
            ]
          }
        }
      ],
      "source": [
        "chicago_1918.head()"
      ],
      "id": "c17f8679"
    },
    {
      "cell_type": "code",
      "execution_count": 7,
      "metadata": {},
      "outputs": [
        {
          "output_type": "display_data",
          "metadata": {},
          "data": {
            "text/html": [
              "\n",
              "</div>"
            ]
          }
        }
      ],
      "source": [
        "chicago_1918.tail()"
      ],
      "id": "d394d3ce"
    },
    {
      "cell_type": "markdown",
      "metadata": {},
      "source": [
        "Or get an overview of the table:"
      ],
      "id": "f2b45b18-5728-4c21-be1a-e1783ed408b7"
    },
    {
      "cell_type": "code",
      "execution_count": 8,
      "metadata": {},
      "outputs": [
        {
          "output_type": "stream",
          "name": "stdout",
          "text": [
            "<class 'pandas.core.frame.DataFrame'>\n",
            "Index: 496 entries, G17003100001 to G17003100496\n",
            "Data columns (total 12 columns):\n",
            " #   Column          Non-Null Count  Dtype  \n",
            "---  ------          --------------  -----  \n",
            " 0   gross_acres     496 non-null    float64\n",
            " 1   illit           496 non-null    int64  \n",
            " 2   unemployed_pct  496 non-null    float64\n",
            " 3   ho_pct          496 non-null    float64\n",
            " 4   agecat1         496 non-null    int64  \n",
            " 5   agecat2         496 non-null    int64  \n",
            " 6   agecat3         496 non-null    int64  \n",
            " 7   agecat4         496 non-null    int64  \n",
            " 8   agecat5         496 non-null    int64  \n",
            " 9   agecat6         496 non-null    int64  \n",
            " 10  agecat7         496 non-null    int64  \n",
            " 11  influenza       496 non-null    int64  \n",
            "dtypes: float64(3), int64(9)\n",
            "memory usage: 66.5+ KB"
          ]
        }
      ],
      "source": [
        "chicago_1918.info()"
      ],
      "id": "f5664dee"
    },
    {
      "cell_type": "markdown",
      "metadata": {},
      "source": [
        "### Summarise\n",
        "\n",
        "Or of the *values* of the table:"
      ],
      "id": "d13b0b7a-add6-4a7c-a680-459893b14648"
    },
    {
      "cell_type": "code",
      "execution_count": 9,
      "metadata": {},
      "outputs": [
        {
          "output_type": "display_data",
          "metadata": {},
          "data": {
            "text/html": [
              "\n",
              "</div>"
            ]
          }
        }
      ],
      "source": [
        "chicago_1918.describe()"
      ],
      "id": "78d6be07"
    },
    {
      "cell_type": "markdown",
      "metadata": {},
      "source": [
        "Note how the output is also a `DataFrame` object, so you can do with it\n",
        "the same things you would with the original table (e.g. writing it to a\n",
        "file).\n",
        "\n",
        "In this case, the summary might be better presented if the table is\n",
        "“transposed”:"
      ],
      "id": "3c4adc72-ad51-4fd1-8716-02d37319a4cd"
    },
    {
      "cell_type": "code",
      "execution_count": 10,
      "metadata": {},
      "outputs": [
        {
          "output_type": "display_data",
          "metadata": {},
          "data": {
            "text/html": [
              "\n",
              "</div>"
            ]
          }
        }
      ],
      "source": [
        "chicago_1918.describe().T"
      ],
      "id": "4ae1d75b"
    },
    {
      "cell_type": "markdown",
      "metadata": {},
      "source": [
        "Equally, common descriptive statistics are also available. To obtain\n",
        "minimum values for each column, you can use `.min()`."
      ],
      "id": "6f6b89fd-4d70-4efd-928a-3415c6e808b9"
    },
    {
      "cell_type": "code",
      "execution_count": 11,
      "metadata": {},
      "outputs": [
        {
          "output_type": "display_data",
          "metadata": {},
          "data": {
            "text/plain": [
              "gross_acres       6.9000\n",
              "illit             0.0000\n",
              "unemployed_pct    0.0578\n",
              "ho_pct            0.0000\n",
              "agecat1           0.0000\n",
              "agecat2           3.0000\n",
              "agecat3           1.0000\n",
              "agecat4           4.0000\n",
              "agecat5           0.0000\n",
              "agecat6           8.0000\n",
              "agecat7           6.0000\n",
              "influenza         0.0000\n",
              "dtype: float64"
            ]
          }
        }
      ],
      "source": [
        "chicago_1918.min()"
      ],
      "id": "d963506c"
    },
    {
      "cell_type": "markdown",
      "metadata": {},
      "source": [
        "Or to obtain a minimum for a single column only."
      ],
      "id": "83c91545-5365-41b2-a963-459a739c1a54"
    },
    {
      "cell_type": "code",
      "execution_count": 12,
      "metadata": {},
      "outputs": [
        {
          "output_type": "display_data",
          "metadata": {},
          "data": {
            "text/plain": [
              "0"
            ]
          }
        }
      ],
      "source": [
        "chicago_1918[\"influenza\"].min()"
      ],
      "id": "629e7255"
    },
    {
      "cell_type": "markdown",
      "metadata": {},
      "source": [
        "Note here how you have restricted the calculation of the minimum value\n",
        "to one column only by getting the `Series` and calling `.min()` on that.\n",
        "\n",
        "Similarly, you can restrict the calculations to a single row using\n",
        "`.loc[]` indexer:"
      ],
      "id": "81af1670-be84-46fb-ae4e-0cb091c91658"
    },
    {
      "cell_type": "code",
      "execution_count": 13,
      "metadata": {},
      "outputs": [
        {
          "output_type": "display_data",
          "metadata": {},
          "data": {
            "text/plain": [
              "2176.6"
            ]
          }
        }
      ],
      "source": [
        "chicago_1918.loc[\"G17003100492\"].max()"
      ],
      "id": "5ee7cddf"
    },
    {
      "cell_type": "markdown",
      "metadata": {},
      "source": [
        "### Create new columns\n",
        "\n",
        "You can generate new variables by applying operations to existing ones.\n",
        "For example, you can calculate the total population by area. Here are a\n",
        "couple of ways to do it:"
      ],
      "id": "8c3c28cb-ccf0-42c2-86cf-be7b3a6d16d5"
    },
    {
      "cell_type": "code",
      "execution_count": 14,
      "metadata": {},
      "outputs": [
        {
          "output_type": "display_data",
          "metadata": {},
          "data": {
            "text/plain": [
              "geography_code\n",
              "G17003100001    2819\n",
              "G17003100002    3265\n",
              "G17003100003    2256\n",
              "G17003100004    2623\n",
              "G17003100005    5528\n",
              "dtype: int64"
            ]
          }
        }
      ],
      "source": [
        "# This one is longer, hardcoded\n",
        "total_population = (\n",
        "    chicago_1918[\"agecat1\"]\n",
        "    + chicago_1918[\"agecat2\"]\n",
        "    + chicago_1918[\"agecat3\"]\n",
        "    + chicago_1918[\"agecat4\"]\n",
        "    + chicago_1918[\"agecat5\"]\n",
        "    + chicago_1918[\"agecat6\"]\n",
        "    + chicago_1918[\"agecat7\"]\n",
        ")\n",
        "total_population.head()"
      ],
      "id": "199cf5ec"
    },
    {
      "cell_type": "code",
      "execution_count": 15,
      "metadata": {},
      "outputs": [
        {
          "output_type": "display_data",
          "metadata": {},
          "data": {
            "text/plain": [
              "geography_code\n",
              "G17003100001    2819\n",
              "G17003100002    3265\n",
              "G17003100003    2256\n",
              "G17003100004    2623\n",
              "G17003100005    5528\n",
              "dtype: int64"
            ]
          }
        }
      ],
      "source": [
        "# This one is shorted, using a range of columns and sum\n",
        "total_population = chicago_1918.loc[:, \"agecat1\":\"agecat7\"].sum(axis=1)\n",
        "total_population.head()"
      ],
      "id": "87d517b6"
    },
    {
      "cell_type": "markdown",
      "metadata": {},
      "source": [
        "Once you have created the variable, you can make it part of the table:"
      ],
      "id": "27946da3-2555-4e24-8f75-fcab59ec713e"
    },
    {
      "cell_type": "code",
      "execution_count": 16,
      "metadata": {},
      "outputs": [
        {
          "output_type": "display_data",
          "metadata": {},
          "data": {
            "text/html": [
              "\n",
              "</div>"
            ]
          }
        }
      ],
      "source": [
        "chicago_1918[\"total_population\"] = total_population\n",
        "chicago_1918.head()"
      ],
      "id": "c11d6632"
    },
    {
      "cell_type": "markdown",
      "metadata": {},
      "source": [
        "You can also do other mathematical operations on columns. These are\n",
        "always automatically applied to individual values in corresponding rows."
      ],
      "id": "7b346e2d-25a2-4e8e-a14e-cdcba8c482f8"
    },
    {
      "cell_type": "code",
      "execution_count": 17,
      "metadata": {},
      "outputs": [
        {
          "output_type": "display_data",
          "metadata": {},
          "data": {
            "text/plain": [
              "geography_code\n",
              "G17003100001    351.875177\n",
              "G17003100002    233.928353\n",
              "G17003100003    209.628319\n",
              "G17003100004     78.879711\n",
              "G17003100005    468.237675\n",
              "dtype: float64"
            ]
          }
        }
      ],
      "source": [
        "homeowners = chicago_1918[\"total_population\"] * chicago_1918[\"ho_pct\"]\n",
        "homeowners.head()"
      ],
      "id": "cd9ec523"
    },
    {
      "cell_type": "code",
      "execution_count": 18,
      "metadata": {},
      "outputs": [
        {
          "output_type": "display_data",
          "metadata": {},
          "data": {
            "text/plain": [
              "geography_code\n",
              "G17003100001     2.030687\n",
              "G17003100002    14.997703\n",
              "G17003100003     5.621729\n",
              "G17003100004    30.184120\n",
              "G17003100005    16.398695\n",
              "dtype: float64"
            ]
          }
        }
      ],
      "source": [
        "pop_density = chicago_1918[\"total_population\"] / chicago_1918[\"gross_acres\"]\n",
        "pop_density.head()"
      ],
      "id": "f094aa22"
    },
    {
      "cell_type": "markdown",
      "metadata": {},
      "source": [
        "A different spin on this is assigning new values: you can generate new\n",
        "variables with scalars[1], and modify those:\n",
        "\n",
        "[1] Scalar is a single value, like a number (`42`) or a string\n",
        "(`\"towel\"`)."
      ],
      "id": "5f86ce54-bd39-466b-84ca-a348ceb58dcb"
    },
    {
      "cell_type": "code",
      "execution_count": 19,
      "metadata": {},
      "outputs": [
        {
          "output_type": "display_data",
          "metadata": {},
          "data": {
            "text/html": [
              "\n",
              "</div>"
            ]
          }
        }
      ],
      "source": [
        "chicago_1918[\"ones\"] = 1\n",
        "chicago_1918.head()"
      ],
      "id": "29248f66"
    },
    {
      "cell_type": "markdown",
      "metadata": {},
      "source": [
        "And you can modify specific values too:"
      ],
      "id": "3a865e7a-120f-4e57-ac8c-5235ad00f98e"
    },
    {
      "cell_type": "code",
      "execution_count": 20,
      "metadata": {},
      "outputs": [
        {
          "output_type": "display_data",
          "metadata": {},
          "data": {
            "text/html": [
              "\n",
              "</div>"
            ]
          }
        }
      ],
      "source": [
        "chicago_1918.loc[\"G17003100001\", \"ones\"] = 3\n",
        "chicago_1918.head()"
      ],
      "id": "db1533be"
    },
    {
      "cell_type": "markdown",
      "metadata": {},
      "source": [
        "### Remove columns\n",
        "\n",
        "Permanently deleting variables is also within reach of one command:"
      ],
      "id": "c5da8525-2b80-43fa-a94e-9a7d6b749d9b"
    },
    {
      "cell_type": "code",
      "execution_count": 21,
      "metadata": {},
      "outputs": [
        {
          "output_type": "display_data",
          "metadata": {},
          "data": {
            "text/html": [
              "\n",
              "</div>"
            ]
          }
        }
      ],
      "source": [
        "chicago_1918 = chicago_1918.drop(columns=\"ones\")\n",
        "chicago_1918.head()"
      ],
      "id": "68e9e140"
    },
    {
      "cell_type": "markdown",
      "metadata": {},
      "source": [
        "### Index-based queries\n",
        "\n",
        "Here, you explore how to subset parts of a `DataFrame` if you know\n",
        "exactly which bits you want. For example, if you want to extract the\n",
        "influenza mortality and total population of the first four areas in the\n",
        "table, you use `loc` with lists:"
      ],
      "id": "ced4efbb-aaf3-42ad-b2a5-9166eabcd258"
    },
    {
      "cell_type": "code",
      "execution_count": 22,
      "metadata": {},
      "outputs": [
        {
          "output_type": "display_data",
          "metadata": {},
          "data": {
            "text/html": [
              "\n",
              "</div>"
            ]
          }
        }
      ],
      "source": [
        "death_pop_first4 = chicago_1918.loc[\n",
        "    [\"G17003100001\", \"G17003100002\", \"G17003100003\", \"G17003100004\"],\n",
        "    [\"influenza\", \"total_population\"],\n",
        "]\n",
        "death_pop_first4"
      ],
      "id": "559300be"
    },
    {
      "cell_type": "markdown",
      "metadata": {},
      "source": [
        "You can see how you can create a list with the names (index IDs) along\n",
        "each of the two dimensions of a `DataFrame` (rows and columns), and\n",
        "`loc` will return a subset of the original table only with the elements\n",
        "queried for.\n",
        "\n",
        "An alternative to list-based queries is what is called “range-based”\n",
        "queries. These work on the indices of the table, but instead of\n",
        "requiring the ID of each item you want to retrieve, they operate by\n",
        "requiring only two IDs: the first and last element in a range of items.\n",
        "Range queries are expressed with a colon (`:`). For example:"
      ],
      "id": "425dfa3b-c9b6-4050-90c6-631f63e0ac00"
    },
    {
      "cell_type": "code",
      "execution_count": 23,
      "metadata": {},
      "outputs": [
        {
          "output_type": "display_data",
          "metadata": {},
          "data": {
            "text/html": [
              "\n",
              "</div>"
            ]
          }
        }
      ],
      "source": [
        "range_query = chicago_1918.loc[\n",
        "    \"G17003100010\":\"G17003100012\",\n",
        "    \"influenza\":'total_population',\n",
        "]\n",
        "range_query"
      ],
      "id": "8d124548"
    },
    {
      "cell_type": "markdown",
      "metadata": {},
      "source": [
        "The range query picks up all the elements between the specified IDs.\n",
        "Note that for this to work, the first ID in the range needs to be placed\n",
        "before the second one in the table’s index.\n",
        "\n",
        "Once you know about list and range-based queries, you can combine them!\n",
        "For example, you can specify a range of rows and a list of columns:"
      ],
      "id": "ad27e727-9c30-40dc-bc1b-5f706fa5b6f2"
    },
    {
      "cell_type": "code",
      "execution_count": 24,
      "metadata": {},
      "outputs": [
        {
          "output_type": "display_data",
          "metadata": {},
          "data": {
            "text/html": [
              "\n",
              "</div>"
            ]
          }
        }
      ],
      "source": [
        "range_list_qry = chicago_1918.loc[\n",
        "    \"G17003100010\":\"G17003100012\", [\"influenza\", \"total_population\"]\n",
        "]\n",
        "\n",
        "range_list_qry"
      ],
      "id": "8afd404c"
    },
    {
      "cell_type": "markdown",
      "metadata": {},
      "source": [
        "### Condition-based queries\n",
        "\n",
        "However, sometimes, you do not know exactly which observations you want,\n",
        "but you do know what conditions they need to satisfy (e.g. areas with\n",
        "more than 2,000 inhabitants). For these cases, `DataFrames` support\n",
        "selection based on conditions. Let us see a few examples. Suppose you\n",
        "want to select…\n",
        "\n",
        "*… areas with more than 60 cases of influenza deaths:*"
      ],
      "id": "97b382f6-68eb-4c0d-8837-14db0dfdb976"
    },
    {
      "cell_type": "code",
      "execution_count": 25,
      "metadata": {},
      "outputs": [
        {
          "output_type": "display_data",
          "metadata": {},
          "data": {
            "text/html": [
              "\n",
              "</div>"
            ]
          }
        }
      ],
      "source": [
        "flu_over_60 = chicago_1918.loc[chicago_1918[\"influenza\"] > 60]\n",
        "flu_over_60"
      ],
      "id": "aec5a0ee"
    },
    {
      "cell_type": "markdown",
      "metadata": {},
      "source": [
        "*… areas with less than 200 inhabitants:*"
      ],
      "id": "97ac4898-9769-4cd0-985b-f906f62f7c35"
    },
    {
      "cell_type": "code",
      "execution_count": 26,
      "metadata": {},
      "outputs": [
        {
          "output_type": "display_data",
          "metadata": {},
          "data": {
            "text/html": [
              "\n",
              "</div>"
            ]
          }
        }
      ],
      "source": [
        "pop_under = chicago_1918.loc[chicago_1918[\"total_population\"] < 200]\n",
        "pop_under"
      ],
      "id": "7d7aefb5"
    },
    {
      "cell_type": "markdown",
      "metadata": {},
      "source": [
        "*… areas with exactly a hundred illiterate persons:*"
      ],
      "id": "ff80bb95-6d32-4ab5-b981-fed2cb6fe86a"
    },
    {
      "cell_type": "code",
      "execution_count": 27,
      "metadata": {},
      "outputs": [
        {
          "output_type": "display_data",
          "metadata": {},
          "data": {
            "text/html": [
              "\n",
              "</div>"
            ]
          }
        }
      ],
      "source": [
        "illit_100 = chicago_1918.loc[chicago_1918[\"illit\"] == 100]\n",
        "illit_100"
      ],
      "id": "313bfd9b"
    },
    {
      "cell_type": "markdown",
      "metadata": {},
      "source": [
        "> **Unlimited power**\n",
        ">\n",
        "> These queries can grow in sophistication with almost no limits. For\n",
        "> example, here is a case where you want to find out the areas where the\n",
        "> oldest age group is more than half the population:\n",
        ">\n",
        "> ``` python\n",
        "> chicago_1918.loc[\n",
        ">     (chicago_1918[\"agecat7\"] * 100 / chicago_1918[\"total_population\"]) > 50\n",
        "> ]\n",
        "> ```\n",
        ">\n",
        "> <div>\n",
        "> <style scoped>\n",
        ">     .dataframe tbody tr th:only-of-type {\n",
        ">         vertical-align: middle;\n",
        ">     }\n",
        ">\n",
        ">     .dataframe tbody tr th {\n",
        ">         vertical-align: top;\n",
        ">     }\n",
        ">\n",
        ">     .dataframe thead th {\n",
        ">         text-align: right;\n",
        ">     }\n",
        "> </style>\n",
        ">\n",
        "> |  | gross_acres | illit | unemployed_pct | ho_pct | agecat1 | agecat2 | agecat3 | agecat4 | agecat5 | agecat6 | agecat7 | influenza | total_population |\n",
        "> |----|----|----|----|----|----|----|----|----|----|----|----|----|----|\n",
        "> | geography_code |  |  |  |  |  |  |  |  |  |  |  |  |  |\n",
        "> | G17003100227 | 146.3 | 22 | 0.0657 | 0.000853 | 2 | 16 | 9 | 22 | 27 | 480 | 614 | 3 | 1170 |\n",
        ">\n",
        "> </div>\n",
        "\n",
        "All the condition-based queries above are expressed using the `loc`\n",
        "operator. This is a powerful way, and since it shares syntax with\n",
        "index-based queries, it is also easier to remember. However, sometimes\n",
        "querying using `loc` involves a lot of quotation marks, parenthesis,\n",
        "etc. A more streamlined approach for condition-based queries of rows is\n",
        "provided by the `query` engine. Using this approach, you express\n",
        "everything in our query on a single string, or piece of text, and that\n",
        "is evaluated in the table at once. For example, you can run the same\n",
        "operation as in the first query above with the following syntax:"
      ],
      "id": "67a2f229-e8ab-4b99-ba4d-1e1e233832e3"
    },
    {
      "cell_type": "code",
      "execution_count": 29,
      "metadata": {},
      "outputs": [
        {
          "output_type": "display_data",
          "metadata": {},
          "data": {
            "text/html": [
              "\n",
              "</div>"
            ]
          }
        }
      ],
      "source": [
        "flu_over_60_query = chicago_1918.query(\"influenza > 60\")\n",
        "flu_over_60_query"
      ],
      "id": "13ab85a0"
    },
    {
      "cell_type": "markdown",
      "metadata": {},
      "source": [
        "If you want to combine operations, this is also possible:"
      ],
      "id": "112de053-c318-43e7-9910-14a03e2b806e"
    },
    {
      "cell_type": "code",
      "execution_count": 30,
      "metadata": {},
      "outputs": [
        {
          "output_type": "display_data",
          "metadata": {},
          "data": {
            "text/html": [
              "\n",
              "</div>"
            ]
          }
        }
      ],
      "source": [
        "flu_query = chicago_1918.query(\"(influenza > 60) & (total_population < 10000)\")\n",
        "flu_query"
      ],
      "id": "5b3d9be1"
    },
    {
      "cell_type": "markdown",
      "metadata": {},
      "source": [
        "Note that, in these cases, using query results in code that is much more\n",
        "streamlined and easier to read. However, `query` is not perfect and,\n",
        "particularly for more sophisticated queries, it does not afford the same\n",
        "degree of flexibility. For example, the last `query` we had using loc\n",
        "would not be possible using `query`.\n",
        "\n",
        "> **Tip**\n",
        ">\n",
        "> If you are interested, more detail about `query` is available in the\n",
        "> [pandas\n",
        "> documentation](https://pandas.pydata.org/pandas-docs/stable/user_guide/indexing.html#the-query-method).\n",
        "\n",
        "### Combining queries\n",
        "\n",
        "Now, all of these queries can be combined with each other for further\n",
        "flexibility. For example, imagine you want areas with more than 60 cases\n",
        "of influenza from areas with less than 10,000 inhabitants:"
      ],
      "id": "63874630-fe4a-41ee-ae5c-9cb7e0d20d52"
    },
    {
      "cell_type": "code",
      "execution_count": 31,
      "metadata": {},
      "outputs": [
        {
          "output_type": "display_data",
          "metadata": {},
          "data": {
            "text/html": [
              "\n",
              "</div>"
            ]
          }
        }
      ],
      "source": [
        "flu_loc = chicago_1918.loc[\n",
        "    (chicago_1918[\"influenza\"] > 60)\n",
        "    & (chicago_1918[\"total_population\"] < 10000)\n",
        "]\n",
        "flu_loc"
      ],
      "id": "e6d129a3"
    },
    {
      "cell_type": "markdown",
      "metadata": {},
      "source": [
        "> **How do the `loc` queries work?**\n",
        ">\n",
        "> Let’s unpack how these queries work. Each part of the query above\n",
        "> creates a single `Series` with boolean (`True` or `False`) values,\n",
        "> encoding whether the row fulfils the condition or not.\n",
        ">\n",
        "> ``` python\n",
        "> chicago_1918[\"influenza\"] > 60\n",
        "> ```\n",
        ">\n",
        ">     geography_code\n",
        ">     G17003100001    False\n",
        ">     G17003100002    False\n",
        ">     G17003100003    False\n",
        ">     G17003100004    False\n",
        ">     G17003100005    False\n",
        ">                     ...  \n",
        ">     G17003100492    False\n",
        ">     G17003100493    False\n",
        ">     G17003100494     True\n",
        ">     G17003100495    False\n",
        ">     G17003100496    False\n",
        ">     Name: influenza, Length: 496, dtype: bool\n",
        ">\n",
        "> ``` python\n",
        "> chicago_1918[\"total_population\"] < 10000\n",
        "> ```\n",
        ">\n",
        ">     geography_code\n",
        ">     G17003100001     True\n",
        ">     G17003100002     True\n",
        ">     G17003100003     True\n",
        ">     G17003100004     True\n",
        ">     G17003100005     True\n",
        ">                     ...  \n",
        ">     G17003100492     True\n",
        ">     G17003100493    False\n",
        ">     G17003100494    False\n",
        ">     G17003100495     True\n",
        ">     G17003100496     True\n",
        ">     Name: total_population, Length: 496, dtype: bool\n",
        ">\n",
        "> You then combine two of these Series with `&`, asking for a new\n",
        "> `Series` where values in both the first and the second `Series` are\n",
        "> `True`.\n",
        ">\n",
        "> ``` python\n",
        "> (chicago_1918[\"influenza\"] > 60) & (chicago_1918[\"total_population\"] < 10000)\n",
        "> ```\n",
        ">\n",
        ">     geography_code\n",
        ">     G17003100001    False\n",
        ">     G17003100002    False\n",
        ">     G17003100003    False\n",
        ">     G17003100004    False\n",
        ">     G17003100005    False\n",
        ">                     ...  \n",
        ">     G17003100492    False\n",
        ">     G17003100493    False\n",
        ">     G17003100494    False\n",
        ">     G17003100495    False\n",
        ">     G17003100496    False\n",
        ">     Length: 496, dtype: bool\n",
        ">\n",
        "> Such a `Series` is then essentially used as a mask, and `loc` returns\n",
        "> only those columns that contain `True` in that mask.\n",
        "\n",
        "### Sorting\n",
        "\n",
        "Among the many operations `DataFrame` objects support, one of the most\n",
        "useful ones is to sort a table based on a given column. For example,\n",
        "imagine you want to sort the table by the influenza cases:"
      ],
      "id": "58b25fd9-71ca-4666-a699-d91fa577f9ac"
    },
    {
      "cell_type": "code",
      "execution_count": 35,
      "metadata": {},
      "outputs": [
        {
          "output_type": "display_data",
          "metadata": {},
          "data": {
            "text/html": [
              "\n",
              "<p>496 rows × 13 columns</p>\n",
              "</div>"
            ]
          }
        }
      ],
      "source": [
        "chicago_sorted = chicago_1918.sort_values('influenza', ascending=False)\n",
        "chicago_sorted"
      ],
      "id": "3d7a3d58"
    },
    {
      "cell_type": "markdown",
      "metadata": {},
      "source": [
        "Given the areas of each census tract differ, it may be better to sort by\n",
        "the mortality rate rather than raw counts."
      ],
      "id": "61dcca1b-3442-45ee-a8db-f0ff31f8a307"
    },
    {
      "cell_type": "code",
      "execution_count": 36,
      "metadata": {},
      "outputs": [
        {
          "output_type": "display_data",
          "metadata": {},
          "data": {
            "text/html": [
              "\n",
              "<p>496 rows × 14 columns</p>\n",
              "</div>"
            ]
          }
        }
      ],
      "source": [
        "chicago_1918[\"flu_rate\"] = (\n",
        "    chicago_1918[\"influenza\"] / chicago_1918[\"total_population\"]\n",
        ")\n",
        "chicago_sorted_rel = chicago_1918.sort_values('flu_rate', ascending=False)\n",
        "chicago_sorted_rel"
      ],
      "id": "0f1d11e1"
    },
    {
      "cell_type": "markdown",
      "metadata": {},
      "source": [
        "If you inspect the help of `chicago_1918.sort_values`, you will find\n",
        "that you can pass more than one column to sort the table by. This allows\n",
        "you to do so-called hierarchical sorting: sort first based on one\n",
        "column, if equal, then based on another column, etc.\n",
        "\n",
        "## Visual Exploration\n",
        "\n",
        "The next step to continue exploring a dataset is to get a feel for what\n",
        "it looks like, visually. You have already learnt how to unconver and\n",
        "inspect specific parts of the data, to check for particular cases you\n",
        "might be interested in. Now, you will see how to plot the data to get a\n",
        "sense of the overall distribution of values. For that, you can use the\n",
        "plotting capabilities of `pandas`.\n",
        "\n",
        "### Histograms\n",
        "\n",
        "One of the most common graphical devices to display the distribution of\n",
        "values in a variable is a histogram. Values are assigned into groups of\n",
        "equal intervals, and the groups are plotted as bars rising as high as\n",
        "the number of values into the group.\n",
        "\n",
        "A histogram is easily created with the following command. In this case,\n",
        "let us have a look at the shape of the overall influenza rates:"
      ],
      "id": "d307e69d-79ba-4f98-817f-7deccc9cf6cb"
    },
    {
      "cell_type": "code",
      "execution_count": 37,
      "metadata": {},
      "outputs": [
        {
          "output_type": "display_data",
          "metadata": {},
          "data": {}
        }
      ],
      "source": [
        "_ = chicago_1918[\"influenza\"].plot.hist()"
      ],
      "id": "bd647e47"
    },
    {
      "cell_type": "markdown",
      "metadata": {},
      "source": [
        "> **Assigning to `_`**\n",
        ">\n",
        "> `pandas` returns an object with the drawing from its plotting methods.\n",
        "> Since you are in Jupyter environment, and you don’t need to work\n",
        "> further with that object; you can assign it to `_`, a convention for\n",
        "> an unused variable.\n",
        "\n",
        "However, the default `pandas` plots can be a bit dull. A better option\n",
        "is to use another package, called\n",
        "[`seaborn`](https://seaborn.pydata.org)."
      ],
      "id": "727809f7-e535-49d3-822d-9d129a0355e0"
    },
    {
      "cell_type": "code",
      "execution_count": 38,
      "metadata": {},
      "outputs": [],
      "source": [
        "import seaborn as sns"
      ],
      "id": "45ec4ac3"
    },
    {
      "cell_type": "markdown",
      "metadata": {},
      "source": [
        "> **Why `sns`?**\n",
        ">\n",
        "> `seaborn` is, by convention, imported as `sns`. That came as a joke\n",
        "> after [Samuel Normal\n",
        "> Seaborn](https://en.wikipedia.org/wiki/Sam_Seaborn), a fictional\n",
        "> character The West Wing show.\n",
        "\n",
        "The same plot using `seaborn` has a more pleasant default style and more\n",
        "customisability."
      ],
      "id": "9c302b99-5ad7-4596-9f5f-802e915b0b93"
    },
    {
      "cell_type": "code",
      "execution_count": 39,
      "metadata": {},
      "outputs": [
        {
          "output_type": "display_data",
          "metadata": {},
          "data": {}
        }
      ],
      "source": [
        "sns.displot(chicago_1918[\"influenza\"])"
      ],
      "id": "0541aca2"
    },
    {
      "cell_type": "markdown",
      "metadata": {},
      "source": [
        "Note you are using `sns` instead of `pd`, as the function belongs to\n",
        "`seaborn` instead of `pandas`.\n",
        "\n",
        "You can quickly see most of the areas have seen somewhere between 0 and\n",
        "60 cases, approx. However, there are a few areas that have more, up to\n",
        "more than 80 cases.\n",
        "\n",
        "### Kernel Density Plots\n",
        "\n",
        "Histograms are useful, but they are artificial in the sense that a\n",
        "continuous variable is made discrete by turning the values into discrete\n",
        "groups. An alternative is kernel density estimation (KDE), which\n",
        "produces an empirical density function:"
      ],
      "id": "8265527e-0933-450d-92a3-55436084f185"
    },
    {
      "cell_type": "code",
      "execution_count": 40,
      "metadata": {},
      "outputs": [
        {
          "output_type": "display_data",
          "metadata": {},
          "data": {}
        }
      ],
      "source": [
        "sns.displot(chicago_1918[\"influenza\"], kind=\"kde\", fill=True)"
      ],
      "id": "e4822cf0"
    },
    {
      "cell_type": "markdown",
      "metadata": {},
      "source": [
        "### Line and bar plots\n",
        "\n",
        "Another very common way of visually displaying a variable is with a line\n",
        "or a bar chart. For example, if you want to generate a line plot of the\n",
        "(sorted) total cases by area:"
      ],
      "id": "425ac9dd-59f1-4bc8-a7f6-bd116cbdd3f9"
    },
    {
      "cell_type": "code",
      "execution_count": 41,
      "metadata": {},
      "outputs": [
        {
          "output_type": "display_data",
          "metadata": {},
          "data": {}
        }
      ],
      "source": [
        "_ = chicago_1918[\"influenza\"].sort_values(ascending=False).plot()"
      ],
      "id": "c8b26dad"
    },
    {
      "cell_type": "markdown",
      "metadata": {},
      "source": [
        "For a bar plot all you need to do is to change from `plot` to\n",
        "`plot.bar`. Since there are many census tracts, let us plot only the ten\n",
        "largest ones (which you can retrieve with `head`):"
      ],
      "id": "02f5e300-7cfb-4bf4-88bb-32bb3342cc70"
    },
    {
      "cell_type": "code",
      "execution_count": 42,
      "metadata": {},
      "outputs": [
        {
          "output_type": "display_data",
          "metadata": {},
          "data": {}
        }
      ],
      "source": [
        "_ = chicago_1918[\"influenza\"].sort_values(ascending=False).head(10).plot.bar()"
      ],
      "id": "7797eff8"
    },
    {
      "cell_type": "markdown",
      "metadata": {},
      "source": [
        "You can turn the plot around by displaying the bars horizontally (see\n",
        "how it’s just changing `bar` for `barh`). Let’s display now the top 50\n",
        "areas and, to make it more readable, let us expand the plot’s height:"
      ],
      "id": "379b3178-1bde-4611-9800-f5fb825b7361"
    },
    {
      "cell_type": "code",
      "execution_count": 43,
      "metadata": {},
      "outputs": [
        {
          "output_type": "display_data",
          "metadata": {},
          "data": {}
        }
      ],
      "source": [
        "_ = (\n",
        "    chicago_1918[\"total_population\"]\n",
        "    .sort_values()\n",
        "    .head(50)\n",
        "    .plot.barh(figsize=(6, 20))\n",
        ")"
      ],
      "id": "26e4ca00"
    },
    {
      "cell_type": "markdown",
      "metadata": {},
      "source": [
        "> **One line or multiple lines?**\n",
        ">\n",
        "> You may have noticed that in some cases, the code is on a single line,\n",
        "> but longer code is split into multiple lines. Python requires you to\n",
        "> follow the [indentation rules](https://peps.python.org/pep-0008/), but\n",
        "> apart from that, there are not a lot of other limits.\n",
        "\n",
        "## Tidy data\n",
        "\n",
        "> **Caution**\n",
        ">\n",
        "> This section is a bit more advanced and hence considered optional.\n",
        "> Feel free to skip it, move to the next, and return later when you feel\n",
        "> more confident.\n",
        "\n",
        "Once you can read your data in, explore specific cases, and have a first\n",
        "visual approach to the entire set, the next step can be preparing it for\n",
        "more sophisticated analysis. Maybe you are thinking of modeling it\n",
        "through regression, or on creating subgroups in the dataset with\n",
        "particular characteristics, or maybe you simply need to present summary\n",
        "measures that relate to a slightly different arrangement of the data\n",
        "than you have been presented with.\n",
        "\n",
        "For all these cases, you first need what statistician, and general R\n",
        "wizard, Hadley Wickham calls *“tidy data”*. The general idea to “tidy”\n",
        "your data is to convert them from whatever structure they were handed in\n",
        "to you into one that allows convenient and standardized manipulation,\n",
        "and that supports directly inputting the data into what he calls\n",
        "“*tidy*” analysis tools. But, at a more practical level, what is exactly\n",
        "*“tidy data”*? In Wickham’s own words:\n",
        "\n",
        "> *Tidy data is a standard way of mapping the meaning of a dataset to\n",
        "> its structure. A dataset is messy or tidy depending on how rows,\n",
        "> columns and tables are matched up with observations, variables and\n",
        "> types.*\n",
        "\n",
        "He then goes on to list the three fundamental characteristics of *“tidy\n",
        "data”*:\n",
        "\n",
        "1.  Each variable forms a column.\n",
        "2.  Each observation forms a row.\n",
        "3.  Each type of observational unit forms a table.\n",
        "\n",
        "If you are further interested in the concept of *“tidy data”*, I\n",
        "recommend you check out the [original\n",
        "paper](http://www.jstatsoft.org/v59/i10/) (open access) and the [public\n",
        "repository](https://github.com/hadley/tidy-data) associated with it.\n",
        "\n",
        "Let us bring in the concept of “*tidy data*” to our own Chicago dataset.\n",
        "First, remember its structure:"
      ],
      "id": "3807008f-4204-4964-a437-baf2ddf446b2"
    },
    {
      "cell_type": "code",
      "execution_count": 44,
      "metadata": {},
      "outputs": [
        {
          "output_type": "display_data",
          "metadata": {},
          "data": {
            "text/html": [
              "\n",
              "</div>"
            ]
          }
        }
      ],
      "source": [
        "chicago_1918.head()"
      ],
      "id": "00df5a71"
    },
    {
      "cell_type": "markdown",
      "metadata": {},
      "source": [
        "Thinking through *tidy* lenses, this is not a tidy dataset. It is not so\n",
        "for each of the three conditions:\n",
        "\n",
        "-   Starting by the last one (*each type of observational unit forms a\n",
        "    table*), this dataset actually contains not one but many\n",
        "    observational units: the different areas of Chicago, captured by\n",
        "    `geography_code`; *and* different observatoins for each area. To\n",
        "    *tidy* up this aspect, you can create separate tables. You will\n",
        "    probably want population groups divided by age as one tidy table and\n",
        "    flu rates as another. Start by extracting relevant columns."
      ],
      "id": "f46a64e3-54cc-40ed-b63b-b01057fe1a1b"
    },
    {
      "cell_type": "code",
      "execution_count": 45,
      "metadata": {},
      "outputs": [
        {
          "output_type": "display_data",
          "metadata": {},
          "data": {
            "text/html": [
              "\n",
              "</div>"
            ]
          }
        }
      ],
      "source": [
        "influenza_rates = chicago_1918[[\"influenza\"]]\n",
        "influenza_rates.head()"
      ],
      "id": "c3464afc"
    },
    {
      "cell_type": "code",
      "execution_count": 46,
      "metadata": {},
      "outputs": [
        {
          "output_type": "display_data",
          "metadata": {},
          "data": {
            "text/html": [
              "\n",
              "</div>"
            ]
          }
        }
      ],
      "source": [
        "population = chicago_1918.loc[:, \"agecat1\":\"agecat7\"]\n",
        "population.head()"
      ],
      "id": "fc429baf"
    },
    {
      "cell_type": "markdown",
      "metadata": {},
      "source": [
        "At this point, the table `influenza_rates` is tidy: every row is an\n",
        "observation, every table is a variable, and there is only one\n",
        "observational unit in the table.\n",
        "\n",
        "The other table (`population`), however, is not entirely tidied up yet:\n",
        "there is only one observational unit in the table, true; but every row\n",
        "is not an observation, and there are variable values as the names of\n",
        "columns (in other words, every column is not a variable). To obtain a\n",
        "fully tidy version of the table, you need to re-arrange it in a way that\n",
        "every row is an age category in an area, and there are three variables:\n",
        "`geography_code`, age category, and population count (or frequency).\n",
        "\n",
        "Because this is actually a fairly common pattern, there is a direct way\n",
        "to solve it in `pandas`:"
      ],
      "id": "f893e017-46f5-4946-85d2-0ab25d1bbc4d"
    },
    {
      "cell_type": "code",
      "execution_count": 47,
      "metadata": {},
      "outputs": [
        {
          "output_type": "display_data",
          "metadata": {},
          "data": {
            "text/plain": [
              "geography_code         \n",
              "G17003100001    agecat1     46\n",
              "                agecat2    274\n",
              "                agecat3    257\n",
              "                agecat4    311\n",
              "                agecat5    222\n",
              "dtype: int64"
            ]
          }
        }
      ],
      "source": [
        "tidy_population = population.stack()\n",
        "tidy_population.head()"
      ],
      "id": "17e39ce4"
    },
    {
      "cell_type": "markdown",
      "metadata": {},
      "source": [
        "The method `stack`, well, “stacks” the different columns into rows. This\n",
        "fixes our “tidiness” problems but the type of object that is returning\n",
        "is not a `DataFrame`:"
      ],
      "id": "62b6f635-7736-4d49-b574-02207ae708d9"
    },
    {
      "cell_type": "code",
      "execution_count": 48,
      "metadata": {},
      "outputs": [
        {
          "output_type": "display_data",
          "metadata": {},
          "data": {
            "text/plain": [
              "pandas.core.series.Series"
            ]
          }
        }
      ],
      "source": [
        "type(tidy_population)"
      ],
      "id": "9f6f2d2e"
    },
    {
      "cell_type": "markdown",
      "metadata": {},
      "source": [
        "It is a `Series`, which really is like a `DataFrame`, but with only one\n",
        "column. The additional information (`geography_code` and age category)\n",
        "are stored in what is called an multi-index. You will skip these for\n",
        "now, so you would really just want to get a `DataFrame` as you know it\n",
        "out of the `Series`. This is also one line of code away:"
      ],
      "id": "7b82a6ee-d674-4d8d-9bd0-5042d2e1f9ca"
    },
    {
      "cell_type": "code",
      "execution_count": 49,
      "metadata": {},
      "outputs": [
        {
          "output_type": "display_data",
          "metadata": {},
          "data": {
            "text/html": [
              "\n",
              "</div>"
            ]
          }
        }
      ],
      "source": [
        "tidy_population_df = tidy_population.reset_index()\n",
        "tidy_population_df.head()"
      ],
      "id": "3901d868"
    },
    {
      "cell_type": "markdown",
      "metadata": {},
      "source": [
        "To which you can apply to renaming to make it look better:"
      ],
      "id": "b97e5ac5-1713-4c09-ba21-6cd045aef19c"
    },
    {
      "cell_type": "code",
      "execution_count": 50,
      "metadata": {},
      "outputs": [
        {
          "output_type": "display_data",
          "metadata": {},
          "data": {
            "text/html": [
              "\n",
              "</div>"
            ]
          }
        }
      ],
      "source": [
        "tidy_population_df = tidy_population_df.rename(\n",
        "    columns={\"level_1\": \"age_category\", 0: \"count\"}\n",
        ")\n",
        "tidy_population_df.head()"
      ],
      "id": "e86eb0f9"
    },
    {
      "cell_type": "markdown",
      "metadata": {},
      "source": [
        "Now our table is fully tidied up!\n",
        "\n",
        "## Grouping, transforming, aggregating\n",
        "\n",
        "One of the advantage of tidy datasets is they allow to perform advanced\n",
        "transformations in a more direct way. One of the most common ones is\n",
        "what is called “group-by” operations. Originated in the world of\n",
        "databases, these operations allow you to group observations in a table\n",
        "by one of its labels, index, or category, and apply operations on the\n",
        "data group by group.\n",
        "\n",
        "For example, given our tidy table with age categories, you might want to\n",
        "compute the total sum of the population by each category. This task can\n",
        "be split into two different ones:\n",
        "\n",
        "-   Group the table in each of the different subgroups.\n",
        "-   Compute the sum of `count` for each of them.\n",
        "\n",
        "To do this in `pandas`, meet one of its workhorses, and also one of the\n",
        "reasons why the library has become so popular: the `groupby` operator."
      ],
      "id": "0790d393-601d-4686-8f1c-a39a8e6723c2"
    },
    {
      "cell_type": "code",
      "execution_count": 51,
      "metadata": {},
      "outputs": [
        {
          "output_type": "display_data",
          "metadata": {},
          "data": {
            "text/plain": [
              "<pandas.core.groupby.generic.DataFrameGroupBy object at 0x7f138c2227b0>"
            ]
          }
        }
      ],
      "source": [
        "pop_grouped = tidy_population_df.groupby(\"age_category\")\n",
        "pop_grouped"
      ],
      "id": "d1bcf02f"
    },
    {
      "cell_type": "markdown",
      "metadata": {},
      "source": [
        "The object `pop_grouped` still hasn’t computed anything. It is only a\n",
        "convenient way of specifying the grouping. But this allows us then to\n",
        "perform a multitude of operations on it. For our example, the sum is\n",
        "calculated as follows:"
      ],
      "id": "c03d0d40-387d-40b5-982a-978ef550aa3d"
    },
    {
      "cell_type": "code",
      "execution_count": 52,
      "metadata": {},
      "outputs": [
        {
          "output_type": "display_data",
          "metadata": {},
          "data": {
            "text/html": [
              "\n",
              "</div>"
            ]
          }
        }
      ],
      "source": [
        "pop_grouped.sum(numeric_only=True)"
      ],
      "id": "e2bd18bd"
    },
    {
      "cell_type": "markdown",
      "metadata": {},
      "source": [
        "Similarly, you can also obtain a summary of each group:"
      ],
      "id": "1a873551-b0b8-4172-8362-598b3bef7589"
    },
    {
      "cell_type": "code",
      "execution_count": 53,
      "metadata": {},
      "outputs": [
        {
          "output_type": "display_data",
          "metadata": {},
          "data": {
            "text/html": [
              "\n",
              "</div>"
            ]
          }
        }
      ],
      "source": [
        "pop_grouped.describe()"
      ],
      "id": "d28250de"
    },
    {
      "cell_type": "markdown",
      "metadata": {},
      "source": [
        "You will not get into it today as it goes beyond the basics this session\n",
        "wants to cover, but keep in mind that `groupby` allows you to not only\n",
        "call generic functions (like `sum` or `describe`), but also your own\n",
        "functions. This opens the door for virtually any kind of transformation\n",
        "and aggregation possible.\n",
        "\n",
        "> **Additional reading**\n",
        ">\n",
        "> -   A good introduction to data manipulation in Python is Wes\n",
        ">     McKinney’s “[Python for Data\n",
        ">     Analysis](https://wesmckinney.com/book/pandas-basics)”\n",
        ">     \\[@mckinney2012python\\].\n",
        "> -   To explore further some of the visualization capabilities in at\n",
        ">     your fingertips, the Python library `seaborn` is an excellent\n",
        ">     choice. Its online\n",
        ">     [tutorial](https://seaborn.pydata.org/tutorial.html) is a\n",
        ">     fantastic place to start.\n",
        "> -   A good extension is Hadley Wickham’s “Tidy data” paper\n",
        ">     \\[@wickham2014tidy\\], which presents a very popular way of\n",
        ">     organising tabular data for efficient manipulation.\n",
        "\n",
        "## Acknowledgements\n",
        "\n",
        "This section is derived from *A Course on Geographic Data Science* by\n",
        "@darribas_gds_course, licensed under CC-BY-SA 4.0. The text was slightly\n",
        "adapted, mostly to accommodate a different dataset used."
      ],
      "id": "bec20e4e-bf0d-4b52-9454-d98802307f5c"
    }
  ],
  "nbformat": 4,
  "nbformat_minor": 5,
  "metadata": {
    "kernelspec": {
      "name": "sds",
      "display_name": "sds",
      "language": "python",
      "path": "/home/runner/.local/share/jupyter/kernels/sds"
    },
    "language_info": {
      "name": "python",
      "codemirror_mode": {
        "name": "ipython",
        "version": "3"
      },
      "file_extension": ".py",
      "mimetype": "text/x-python",
      "nbconvert_exporter": "python",
      "pygments_lexer": "ipython3",
      "version": "3.12.6"
    }
  }
}