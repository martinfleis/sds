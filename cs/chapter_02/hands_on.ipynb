{
  "cells": [
    {
      "cell_type": "markdown",
      "metadata": {},
      "source": [
        "# Data wrangling\n",
        "\n",
        "Introduction to pandas and tabular data analysis. No spatial so far.\n",
        "\n",
        "-   read_csv\n",
        "-   head, tail, info, describe, Transpose\n",
        "-   min, max, slicing\n",
        "-   add and remove columns\n",
        "-   indexing\n",
        "-   queries\n",
        "-   sorting\n",
        "-   plotting\n",
        "-   groupby"
      ],
      "id": "d23195c6-60a4-429a-bd7c-e1439e3745ae"
    },
    {
      "cell_type": "code",
      "execution_count": 1,
      "metadata": {},
      "outputs": [],
      "source": [
        "import pandas as pd\n"
      ],
      "id": "c67b2355"
    },
    {
      "cell_type": "markdown",
      "metadata": {},
      "source": [
        "Describe the data"
      ],
      "id": "42eeaccf-8485-4854-977c-fa4934470075"
    },
    {
      "cell_type": "code",
      "execution_count": 2,
      "metadata": {},
      "outputs": [],
      "source": [
        "chicago_1918 = pd.read_csv(\n",
        "    \"data/chicago_influenza_1918.csv\",\n",
        "    index_col=\"geography_code\",\n",
        ")\n"
      ],
      "id": "2ab25cb4"
    }
  ],
  "nbformat": 4,
  "nbformat_minor": 5,
  "metadata": {
    "kernelspec": {
      "name": "python3",
      "display_name": "Python 3 (ipykernel)",
      "language": "python"
    }
  }
}