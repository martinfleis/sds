{
  "cells": [
    {
      "cell_type": "markdown",
      "metadata": {},
      "source": [
        "# Data wrangling\n",
        "\n",
        "Introduction to pandas and tabular data analysis. No spatial so far.\n",
        "\n",
        "-   read_csv\n",
        "-   head, tail, info, describe, Transpose\n",
        "-   min, max, slicing\n",
        "-   add and remove columns\n",
        "-   indexing\n",
        "-   queries\n",
        "-   sorting\n",
        "-   plotting\n",
        "-   groupby"
      ],
      "id": "72ab53ee-79d7-4c2e-aeb0-769d50089e5c"
    },
    {
      "cell_type": "code",
      "execution_count": 1,
      "metadata": {},
      "outputs": [],
      "source": [
        "import pandas as pd\n"
      ],
      "id": "c67b2355"
    },
    {
      "cell_type": "markdown",
      "metadata": {},
      "source": [
        "Describe the data"
      ],
      "id": "ecff49ce-eebc-491f-9ebd-ed88e643d781"
    },
    {
      "cell_type": "code",
      "execution_count": 2,
      "metadata": {},
      "outputs": [],
      "source": [
        "chicago_1918 = pd.read_csv(\n",
        "    \"data/chicago_influenza_1918.csv\",\n",
        "    index_col=\"geography_code\",\n",
        ")\n"
      ],
      "id": "2ab25cb4"
    }
  ],
  "nbformat": 4,
  "nbformat_minor": 5,
  "metadata": {
    "kernelspec": {
      "name": "python3",
      "display_name": "Python 3 (ipykernel)",
      "language": "python"
    }
  }
}