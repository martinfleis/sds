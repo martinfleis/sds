{
  "cells": [
    {
      "cell_type": "markdown",
      "metadata": {},
      "source": [
        "# Tobler's first law of geography\n",
        "\n",
        "_From Wikipedia, the free encyclopedia_\n",
        "\n",
        "The **First Law of Geography**, according to [Waldo Tobler](https://en.wikipedia.org/wiki/Waldo_Tobler), is \"[everything is related to everything else, but near things are more related than distant things.](https://en.wikiquote.org/wiki/Waldo_Tobler)\"[[1]](https://en.wikipedia.org/wiki/Tobler's_first_law_of_geography#cite_note-Tobler1-1) This first law is the foundation of the fundamental concepts of [spatial dependence](https://en.wikipedia.org/wiki/Spatial_dependence) and [spatial autocorrelation](https://en.wikipedia.org/wiki/Spatial_autocorrelation) and is utilized specifically for the [inverse distance weighting](https://en.wikipedia.org/wiki/Inverse_distance_weighting) method for [spatial interpolation](https://en.wikipedia.org/wiki/Spatial_interpolation) and to support the [regionalized variable theory](https://en.wikipedia.org/wiki/Regionalized_variable_theory) for [kriging](https://en.wikipedia.org/wiki/Kriging).[[2]](https://en.wikipedia.org/wiki/Tobler's_first_law_of_geography#cite_note-2) The first law of geography is the fundamental assumption used in all [spatial analysis](https://en.wikipedia.org/wiki/Spatial_analysis).[[3]](https://en.wikipedia.org/wiki/Tobler's_first_law_of_geography#cite_note-ref1-3)\n",
        "\n",
        "## Background\n",
        "\n",
        "Tobler first presented his seminal idea during a meeting of the [International Geographical Union](https://en.wikipedia.org/wiki/International_Geographical_Union)'s Commission on Qualitative Methods held in 1969 and later published by him in 1970 in his publication \"A Computer Movie Simulating Urban Growth in the Detroit Region\".[[1]](https://en.wikipedia.org/wiki/Tobler's_first_law_of_geography#cite_note-Tobler1-1) In this paper Tobler created a model of the population growth in Detroit, and was discussing variables included within the model, and Tobler was probably not extremely serious when he originally invoked the first law and instead was explaining limitations brought about by computers of the 1970s.[[1]](https://en.wikipedia.org/wiki/Tobler's_first_law_of_geography#cite_note-Tobler1-1)[[3]](https://en.wikipedia.org/wiki/Tobler's_first_law_of_geography#cite_note-ref1-3) He certainly did not think it would be as prominent in geography as it is today.[[3]](https://en.wikipedia.org/wiki/Tobler's_first_law_of_geography#cite_note-ref1-3) Though simple in its presentation, this idea is profound. Without it, \"the full range of conditions anywhere on the Earth's surface could be packed within any small area. There would be no regions of approximately homogeneous conditions to be described by giving attributes to area objects. Topographic surfaces would vary chaotically, with infinite slopes everywhere, and the contours of such surfaces would be infinitely dense and contorted. Spatial analysis, and indeed life itself, would be impossible.\"[[4]](https://en.wikipedia.org/wiki/Tobler's_first_law_of_geography#cite_note-4)\n",
        "\n",
        "While Tobler is the first to present the concept as the first law of geography, it existed in some form as a concept before him. In 1935, R.A. Fisher said \"the widely verified fact that patches in close proximity are commonly more alike, as judged by the yield of crops, than those which are further apart.\"[[5]](https://en.wikipedia.org/wiki/Tobler's_first_law_of_geography#cite_note-ref2-5)[[6]](https://en.wikipedia.org/wiki/Tobler's_first_law_of_geography#cite_note-ref3-6) Tobler was made aware of this by a peer-reviewer, and seems to have come up with the first law independently.[[5]](https://en.wikipedia.org/wiki/Tobler's_first_law_of_geography#cite_note-ref2-5)\n",
        "\n",
        "Tobler's law was proposed towards the end of the [quantitative revolution](https://en.wikipedia.org/wiki/Quantitative_revolution) in geography, which saw a shift towards using systematic and scientific methods in geography. This paradigm shifted the discipline from [idiographic](https://en.wikipedia.org/wiki/Idiographic) geography to an empirical law-making [nomothetic](https://en.wikipedia.org/wiki/Nomothetic) geography.[[7]](https://en.wikipedia.org/wiki/Tobler's_first_law_of_geography#cite_note-DeLyser1-7)[[8]](https://en.wikipedia.org/wiki/Tobler's_first_law_of_geography#cite_note-Yano1-8) This law-making approach was conducive to the acceptance of Tobler's law, and Tobler's law can be seen as a direct product of the quantitative revolution.[[9]](https://en.wikipedia.org/wiki/Tobler's_first_law_of_geography#cite_note-Walker1-9)\n",
        "\n",
        "In 2003, the [American Association of Geographers](https://en.wikipedia.org/wiki/American_Association_of_Geographers) held a panel titled \"On Tobler's First Law of Geography,\" with panelists selected to represent diverse geographic interests and their philosophical perspective on Tobler's First Law.[[10]](https://en.wikipedia.org/wiki/Tobler's_first_law_of_geography#cite_note-Sui1-10) In 2004, the peer reviewed journal [Annals of the Association of American Geographers](https://en.wikipedia.org/wiki/Annals_of_the_Association_of_American_Geographers) included a section titled \"Methods, Models, and GIS Forum: On Tobler's First Law of Geography\" that contained several peer-reviewed papers from members of the 2003 panel.[[11]](https://en.wikipedia.org/wiki/Tobler's_first_law_of_geography#cite_note-AnnalsSection-11)Of note, this section also had a paper by Tobler titled \"On the First Law of Geography: A Reply,\" which contained his response to the 2003 panel and insight into the first law.[[5]](https://en.wikipedia.org/wiki/Tobler's_first_law_of_geography#cite_note-ref2-5) In this publication, Tobler discussed his less well known [second law](https://en.wikipedia.org/wiki/Tobler%27s_second_law_of_geography), which complements the first:\n",
        "\n",
        "> \"The phenomenon external to an area of interest affects what goes on inside.\"\n",
        ">\n",
        "> — Waldo Tobler\n",
        "\n",
        "### Three forms of spatial interpolation.\n",
        "\n",
        "![Nearest neighbor](https://upload.wikimedia.org/wikipedia/commons/thumb/2/27/Interpolation-nearest.svg/360px-Interpolation-nearest.svg.png)\n",
        "\n",
        "![Bilinear](https://upload.wikimedia.org/wikipedia/commons/thumb/d/dd/Interpolation-bilinear.svg/360px-Interpolation-bilinear.svg.png)\n",
        "\n",
        "![Bicubic](https://upload.wikimedia.org/wikipedia/commons/thumb/f/f5/Interpolation-bicubic.svg/360px-Interpolation-bicubic.svg.png)\n",
        "\n",
        "## Foundation\n",
        "\n",
        "The theory is based upon the concept of the [friction of distance](https://en.wikipedia.org/wiki/Friction_of_distance) \"where distance itself hinders interaction between places. The farther two places are apart, the greater the hindrance\",[[12]](https://en.wikipedia.org/wiki/Tobler's_first_law_of_geography#cite_note-12) or cost. For example, one is less likely to travel across town to purchase a sandwich than walk to the corner store for the same sandwich. In this example, hindrance, or cost, can readily be counted in time (amount of time as well as the value of time), transportation costs, and personal muscle energy loss which are added to the purchase price and thus result in high levels of friction. The friction of distance and the increase in cost combine, causing the [distance decay](https://en.wikipedia.org/wiki/Distance_decay) effect.\n",
        "\n",
        "## Controversy\n",
        "\n",
        "Some have disputed the usefulness and validity of Tobler's first law.[[5]](https://en.wikipedia.org/wiki/Tobler's_first_law_of_geography#cite_note-ref2-5)[[13]](https://en.wikipedia.org/wiki/Tobler's_first_law_of_geography#cite_note-ref4-13) In general, some also dispute the entire concept of laws in geography and the social sciences. These criticisms have been addressed by Tobler and others.[[5]](https://en.wikipedia.org/wiki/Tobler's_first_law_of_geography#cite_note-ref2-5)\n",
        "\n",
        "An anonymous reviewer pointed out that Tobler's first law is remarkably close to a phrase in a book by R.A. Fisher in 1935.[[5]](https://en.wikipedia.org/wiki/Tobler's_first_law_of_geography#cite_note-ref2-5)[[6]](https://en.wikipedia.org/wiki/Tobler's_first_law_of_geography#cite_note-ref3-6)Tobler seems to have come up with the first law independently.[[5]](https://en.wikipedia.org/wiki/Tobler's_first_law_of_geography#cite_note-ref2-5)\n",
        "\n",
        "Some view Tobler's first law to be limited and have proposed amendments. One example of such an amendment proposed by Robert T. Walker combines Tobler's first law with von Thünen's concept of accessibility to offer an explanation for the description provided by Tobler.[[9]](https://en.wikipedia.org/wiki/Tobler's_first_law_of_geography#cite_note-Walker1-9) The resulting law, referred to by Walker as \"The Tobler-von Thünen law,\" is: \n",
        "\n",
        "> ″Everything is related to everything else, but near things are more related than distant things, **as a consequence of accessibility**.\"\n",
        ">\n",
        "> — Robert T. Walker, [[9]](https://en.wikipedia.org/wiki/Tobler's_first_law_of_geography#cite_note-Walker1-9)\n",
        "\n",
        "\n",
        "# Play with the `math` module to build muscle memory"
      ]
    },
    {
      "cell_type": "code",
      "execution_count": 1,
      "metadata": {},
      "outputs": [],
      "source": [
        "import math"
      ]
    },
    {
      "cell_type": "markdown",
      "metadata": {},
      "source": [
        "Can you figure out how to round numbers?"
      ]
    },
    {
      "cell_type": "code",
      "execution_count": 2,
      "metadata": {},
      "outputs": [
        {
          "data": {
            "text/plain": [
              "4"
            ]
          },
          "execution_count": 2,
          "metadata": {},
          "output_type": "execute_result"
        }
      ],
      "source": [
        "round(4.321)"
      ]
    },
    {
      "cell_type": "markdown",
      "metadata": {},
      "source": [
        "Can you create the natural logarithm of a variable?"
      ]
    },
    {
      "cell_type": "code",
      "execution_count": 3,
      "metadata": {},
      "outputs": [
        {
          "data": {
            "text/plain": [
              "3.7376696182833684"
            ]
          },
          "execution_count": 3,
          "metadata": {},
          "output_type": "execute_result"
        }
      ],
      "source": [
        "log = math.log(42)\n",
        "log"
      ]
    },
    {
      "cell_type": "markdown",
      "metadata": {},
      "source": [
        "And can you get the original value back?"
      ]
    },
    {
      "cell_type": "code",
      "execution_count": 4,
      "metadata": {},
      "outputs": [
        {
          "data": {
            "text/plain": [
              "42.00000000000001"
            ]
          },
          "execution_count": 4,
          "metadata": {},
          "output_type": "execute_result"
        }
      ],
      "source": [
        "math.exp(log)"
      ]
    },
    {
      "cell_type": "markdown",
      "metadata": {},
      "source": [
        "How would you do the base-10 logarithm?"
      ]
    },
    {
      "cell_type": "code",
      "execution_count": 5,
      "metadata": {},
      "outputs": [
        {
          "data": {
            "text/plain": [
              "1.6232492903979003"
            ]
          },
          "execution_count": 5,
          "metadata": {},
          "output_type": "execute_result"
        }
      ],
      "source": [
        "log10 = math.log(42, 10)\n",
        "log10"
      ]
    },
    {
      "cell_type": "markdown",
      "metadata": {},
      "source": [
        "Can you convert an angle from radians to degrees and back?"
      ]
    },
    {
      "cell_type": "code",
      "execution_count": 6,
      "metadata": {},
      "outputs": [
        {
          "data": {
            "text/plain": [
              "180.0"
            ]
          },
          "execution_count": 6,
          "metadata": {},
          "output_type": "execute_result"
        }
      ],
      "source": [
        "math.degrees(math.pi)"
      ]
    },
    {
      "cell_type": "markdown",
      "metadata": {},
      "source": [
        "Can you figure out what the `math.nan` constant is for?"
      ]
    },
    {
      "cell_type": "code",
      "execution_count": 7,
      "metadata": {},
      "outputs": [
        {
          "data": {
            "text/plain": [
              "nan"
            ]
          },
          "execution_count": 7,
          "metadata": {},
          "output_type": "execute_result"
        }
      ],
      "source": [
        "math.nan\n",
        "\n",
        "# represents Not a Number to fill for missing values in numeric arrays"
      ]
    },
    {
      "cell_type": "markdown",
      "metadata": {},
      "source": [
        "Which other constants are available in the `math` module?"
      ]
    },
    {
      "cell_type": "code",
      "execution_count": 8,
      "metadata": {},
      "outputs": [
        {
          "data": {
            "text/plain": [
              "(3.141592653589793, 2.718281828459045, inf, 6.283185307179586)"
            ]
          },
          "execution_count": 8,
          "metadata": {},
          "output_type": "execute_result"
        }
      ],
      "source": [
        "math.pi, math.e, math.inf, math.tau"
      ]
    }
  ],
  "metadata": {
    "kernelspec": {
      "display_name": "Python 3",
      "language": "python",
      "name": "python3"
    },
    "language_info": {
      "codemirror_mode": {
        "name": "ipython",
        "version": 3
      },
      "file_extension": ".py",
      "mimetype": "text/x-python",
      "name": "python",
      "nbconvert_exporter": "python",
      "pygments_lexer": "ipython3",
      "version": "3.12.11"
    }
  },
  "nbformat": 4,
  "nbformat_minor": 4
}
